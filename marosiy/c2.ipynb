{
 "metadata": {
  "language_info": {
   "codemirror_mode": {
    "name": "ipython",
    "version": 3
   },
   "file_extension": ".py",
   "mimetype": "text/x-python",
   "name": "python",
   "nbconvert_exporter": "python",
   "pygments_lexer": "ipython3",
   "version": "3.8.5"
  },
  "orig_nbformat": 2,
  "kernelspec": {
   "name": "python394jvsc74a57bd0b0fa6594d8f4cbf19f97940f81e996739fb7646882a419484c72d19e05852a7e",
   "display_name": "Python 3.9.4 64-bit",
   "language": "python"
  },
  "metadata": {
   "interpreter": {
    "hash": "14e6e910c24e3600249817a15ebfc6e2754c2e8082ecedb47da8b582ec6713a4"
   }
  }
 },
 "nbformat": 4,
 "nbformat_minor": 2,
 "cells": [
  {
   "source": [
    "# Q1"
   ],
   "cell_type": "markdown",
   "metadata": {}
  },
  {
   "cell_type": "code",
   "execution_count": 1,
   "metadata": {},
   "outputs": [],
   "source": []
  },
  {
   "cell_type": "code",
   "execution_count": 6,
   "metadata": {},
   "outputs": [],
   "source": [
    "from PIL import Image\n",
    "import numpy as np\n",
    "\n",
    "img = np.asarray(Image.open('c2_src/pic.jpg'))\n",
    "\n",
    "\n",
    "img2 = np.stack([img[:,:,2], img[:,:,1], img[:,:,0]], axis=2)\n",
    "\n",
    "\n",
    "generated_img = Image.fromarray(img2)\n",
    "generated_img.show()"
   ]
  },
  {
   "source": [
    "# Q2"
   ],
   "cell_type": "markdown",
   "metadata": {}
  },
  {
   "cell_type": "code",
   "execution_count": 7,
   "metadata": {},
   "outputs": [],
   "source": [
    "from PIL import Image\n",
    "import numpy as np\n",
    "\n",
    "img = np.asarray(Image.open('c2_src/pic.jpg'))\n",
    "img2 = img[:,:,0]*0.2126 + img[:,:,1]*0.7152 + img[:,:,2]*0.0722\n",
    "\n",
    "\n",
    "generated_img = Image.fromarray(img2)\n",
    "generated_img.show()"
   ]
  },
  {
   "source": [
    "# Q3"
   ],
   "cell_type": "markdown",
   "metadata": {}
  },
  {
   "cell_type": "code",
   "execution_count": 1,
   "metadata": {},
   "outputs": [],
   "source": [
    "from PIL import Image\n",
    "import numpy as np\n",
    "\n",
    "img = np.asarray(Image.open('c2_src/pic.jpg'))\n",
    "img2 = img[:,:,0]*0.2126 + img[:,:,1]*0.7152 + img[:,:,2]*0.0722\n",
    "img2[img2 < 128]  = 0\n",
    "img2[img2 >= 128] = 255\n",
    "\n",
    "\n",
    "\n",
    "generated_img = Image.fromarray(img2)\n",
    "generated_img.show()"
   ]
  },
  {
   "source": [
    "# Q4"
   ],
   "cell_type": "markdown",
   "metadata": {}
  },
  {
   "cell_type": "code",
   "execution_count": 3,
   "metadata": {},
   "outputs": [],
   "source": [
    "def bunrido(arr, t):\n",
    "    w1 = arr[arr < t].size\n",
    "    w2 = arr[arr >= t].size\n",
    "    m1 = np.average(arr[arr < t])\n",
    "    m2 = np.average(arr[arr >= t])\n",
    "    return w1*w2*(m1-m2)*(m1-m2)\n",
    "\n",
    "\n",
    "\n",
    "from PIL import Image\n",
    "import numpy as np\n",
    "import math\n",
    "img = np.asarray(Image.open('c2_src/pic.jpg'))\n",
    "img2 = img[:,:,0]*0.2126 + img[:,:,1]*0.7152 + img[:,:,2]*0.0722\n",
    "\n",
    "bunrido_array = list()\n",
    "bunri_kyoukai = list()\n",
    "for i in range(math.floor(img2.min())+1, math.ceil(img2.max())):\n",
    "    bunrido_array.append(bunrido(img2, i))\n",
    "    bunri_kyoukai.append(i)\n",
    "bunrido_array = np.array(bunrido_array)\n",
    "bunri_kyoukai = np.array(bunri_kyoukai)\n",
    "\n",
    "\n",
    "t = None\n",
    "for i in range(len(bunrido_array)):\n",
    "    if bunrido_array[i] == bunrido_array.max():\n",
    "        t = bunri_kyoukai[i]\n",
    "        break\n",
    "\n",
    "\n",
    "img2[img2 < t]  = 0\n",
    "img2[img2 >= t] = 255\n",
    "generated_img = Image.fromarray(img2)\n",
    "generated_img.show()"
   ]
  },
  {
   "source": [
    "# Q5"
   ],
   "cell_type": "markdown",
   "metadata": {}
  },
  {
   "cell_type": "code",
   "execution_count": 2,
   "metadata": {},
   "outputs": [
    {
     "output_type": "stream",
     "name": "stdout",
     "text": [
      "(128, 128, 3)\n",
      "0.997474749883016\n",
      "0.0\n",
      "1.497474749883016\n",
      "0.5\n",
      "1.0\n",
      "0.004761904788514126\n",
      "255.0\n"
     ]
    }
   ],
   "source": [
    "import colorsys\n",
    "from PIL import Image\n",
    "import numpy as np\n",
    "\n",
    "img = np.asarray(Image.open('c2_src/pic.jpg'))\n",
    "print(img.shape)\n",
    "\n",
    "\n",
    "h_data = list()\n",
    "s_data = list()\n",
    "v_data = list()\n",
    "\n",
    "for i in range(img.shape[0]):\n",
    "    h_retu = list()\n",
    "    s_retu = list()\n",
    "    v_retu = list()\n",
    "    for j in range(img.shape[1]):\n",
    "        h, s, v = colorsys.rgb_to_hsv(img[i,j,0], img[i,j,1], img[i,j,2])\n",
    "        h_retu.append(h)\n",
    "        s_retu.append(s)\n",
    "        v_retu.append(v)\n",
    "\n",
    "    h_retu = np.array(h_retu)\n",
    "    s_retu = np.array(s_retu)\n",
    "    v_retu = np.array(v_retu)\n",
    "\n",
    "    h_data.append(h_retu)\n",
    "    s_data.append(s_retu)\n",
    "    v_data.append(v_retu)\n",
    "\n",
    "h_data = np.array(h_data)\n",
    "s_data = np.array(s_data)\n",
    "v_data = np.array(v_data)\n",
    "\n",
    "\n",
    "print(h_data.max())\n",
    "print(h_data.min())\n",
    "\n",
    "h_data = h_data + 0.5\n",
    "print(h_data.max())\n",
    "print(h_data.min())\n",
    "\n",
    "h_data[h_data > 1] = h_data[h_data > 1]  - 1\n",
    "print(h_data.max())\n",
    "print(h_data.min())\n",
    "\n",
    "\n",
    "\n",
    "\n",
    "\n",
    "\n",
    "\n",
    "r_data = list()\n",
    "g_data = list()\n",
    "b_data = list()\n",
    "for i in range(img.shape[0]):\n",
    "    r_retu = list()\n",
    "    g_retu = list()\n",
    "    b_retu = list()\n",
    "    for j in range(img.shape[1]):\n",
    "        r, g, b = colorsys.hsv_to_rgb(h_data[i,j], s_data[i,j], v_data[i,j])\n",
    "        r_retu.append(r)\n",
    "        g_retu.append(g)\n",
    "        b_retu.append(b)\n",
    "    r_retu = np.array(r_retu)\n",
    "    g_retu = np.array(g_retu)\n",
    "    b_retu = np.array(b_retu)\n",
    "\n",
    "    r_data.append(r_retu)\n",
    "    g_data.append(g_retu)\n",
    "    b_data.append(b_retu)\n",
    "\n",
    "r_data = np.array(r_data)\n",
    "g_data = np.array(g_data)\n",
    "b_data = np.array(b_data)\n",
    "\n",
    "\n",
    "data = np.stack([r_data, g_data, b_data])\n",
    "data = data.transpose(1, 2, 0)\n",
    "\n",
    "print(data.max())\n",
    "generated_img = Image.fromarray(data.astype(np.uint8))\n",
    "generated_img.show()\n",
    "\n",
    "#どうやって配列の全ての要素に適用させるか知りたい"
   ]
  },
  {
   "source": [
    "# Q6"
   ],
   "cell_type": "markdown",
   "metadata": {}
  },
  {
   "cell_type": "code",
   "execution_count": 17,
   "metadata": {},
   "outputs": [
    {
     "output_type": "stream",
     "name": "stdout",
     "text": [
      "(128, 128, 3)\n"
     ]
    }
   ],
   "source": [
    "import colorsys\n",
    "from PIL import Image\n",
    "import numpy as np\n",
    "\n",
    "img = np.asarray(Image.open('c2_src/pic.jpg')).copy()\n",
    "\n",
    "print(img.shape)\n",
    "\n",
    "img[np.where((0 <= img) & (img < 63))] = 32\n",
    "img[np.where((63 <= img) & (img < 127))] = 96\n",
    "img[np.where((127 <= img) & (img < 191))] = 160\n",
    "img[np.where((191 <= img) & (img < 256))] = 224\n",
    "\n",
    "\n",
    "\n",
    "generated_img = Image.fromarray(img.astype(np.uint8))\n",
    "generated_img.show()"
   ]
  },
  {
   "source": [
    "# Q7"
   ],
   "cell_type": "markdown",
   "metadata": {}
  },
  {
   "cell_type": "code",
   "execution_count": 31,
   "metadata": {},
   "outputs": [
    {
     "output_type": "stream",
     "name": "stdout",
     "text": [
      "(128, 128, 3)\n"
     ]
    }
   ],
   "source": [
    "import colorsys\n",
    "from PIL import Image\n",
    "import numpy as np\n",
    "\n",
    "img = np.asarray(Image.open('c2_src/pic.jpg')).copy()\n",
    "print(img.shape)\n",
    "for j in range(0,128,8):\n",
    "    for i in range(0,128,8):\n",
    "        karnel_results = img[j:j+8, i:i+8, 0].mean()\n",
    "        img[j:j+8, i:i+8, 0] = karnel_results\n",
    "        karnel_results = img[j:j+8, i:i+8, 1].mean()\n",
    "        img[j:j+8, i:i+8, 1] = karnel_results\n",
    "        karnel_results = img[j:j+8, i:i+8, 2].mean()\n",
    "        img[j:j+8, i:i+8, 2] = karnel_results\n",
    "\n",
    "generated_img = Image.fromarray(img.astype(np.uint8))\n",
    "generated_img.show()\n"
   ]
  },
  {
   "source": [
    "# Q8"
   ],
   "cell_type": "markdown",
   "metadata": {}
  },
  {
   "cell_type": "code",
   "execution_count": 32,
   "metadata": {},
   "outputs": [
    {
     "output_type": "stream",
     "name": "stdout",
     "text": [
      "(128, 128, 3)\n"
     ]
    }
   ],
   "source": [
    "import colorsys\n",
    "from PIL import Image\n",
    "import numpy as np\n",
    "\n",
    "img = np.asarray(Image.open('c2_src/pic.jpg')).copy()\n",
    "print(img.shape)\n",
    "for j in range(0,128,8):\n",
    "    for i in range(0,128,8):\n",
    "        karnel_results = img[j:j+8, i:i+8, 0].max()\n",
    "        img[j:j+8, i:i+8, 0] = karnel_results\n",
    "        karnel_results = img[j:j+8, i:i+8, 1].max()\n",
    "        img[j:j+8, i:i+8, 1] = karnel_results\n",
    "        karnel_results = img[j:j+8, i:i+8, 2].max()\n",
    "        img[j:j+8, i:i+8, 2] = karnel_results\n",
    "\n",
    "generated_img = Image.fromarray(img.astype(np.uint8))\n",
    "generated_img.show()\n"
   ]
  },
  {
   "source": [
    "# Q9"
   ],
   "cell_type": "markdown",
   "metadata": {}
  },
  {
   "cell_type": "code",
   "execution_count": 32,
   "metadata": {},
   "outputs": [
    {
     "output_type": "stream",
     "name": "stdout",
     "text": [
      "(128, 128, 3)\n(3, 3)\n(3, 3)\n(132, 132, 3)\n"
     ]
    }
   ],
   "source": [
    "import colorsys\n",
    "from PIL import Image\n",
    "import numpy as np\n",
    "\n",
    "img = np.asarray(Image.open('c2_src/pic2.jpg')).copy()\n",
    "print(img.shape)\n",
    "img1 = np.pad(img[:,:,0], (2,2), 'edge')\n",
    "img2 = np.pad(img[:,:,1], (2,2), 'edge')\n",
    "img3 = np.pad(img[:,:,2], (2,2), 'edge')\n",
    "\n",
    "img = np.stack([img1,img2,img3], 2)\n",
    "filter_array = np.array([[1/16,2/16,1/16],[2/16,4/16,2/16],[1/16,2/16,1/16]])\n",
    "print(img[0:0+3, 0:0+3, 0].shape)\n",
    "print(filter_array.shape)\n",
    "for j in range(0,132,3):\n",
    "    for i in range(0,132,3):\n",
    "        img[j:j+3, i:i+3, 0] = img[j:j+3, i:i+3, 0]*filter_array\n",
    "        img[j:j+3, i:i+3, 1] = img[j:j+3, i:i+3, 1]*filter_array\n",
    "        img[j:j+3, i:i+3, 2] = img[j:j+3, i:i+3, 2]*filter_array\n",
    "print(img.shape)\n",
    "img[:,:,0] = (img[:,:,0]-img[:,:,0].min())/(img[:,:,0].max()-img[:,:,0].min())*255\n",
    "img[:,:,1] = (img[:,:,1]-img[:,:,1].min())/(img[:,:,1].max()-img[:,:,1].min())*255\n",
    "img[:,:,2] = (img[:,:,2]-img[:,:,2].min())/(img[:,:,2].max()-img[:,:,2].min())*255\n",
    "\n",
    "generated_img = Image.fromarray(img.astype(np.uint8))\n",
    "generated_img.show()\n",
    "\n",
    "# i will retry it later"
   ]
  },
  {
   "source": [
    "# Q 10"
   ],
   "cell_type": "markdown",
   "metadata": {}
  },
  {
   "cell_type": "code",
   "execution_count": 1,
   "metadata": {},
   "outputs": [
    {
     "output_type": "stream",
     "name": "stdout",
     "text": [
      "(128, 128, 3)\n"
     ]
    }
   ],
   "source": [
    "import colorsys\n",
    "from PIL import Image\n",
    "import numpy as np\n",
    "\n",
    "img = np.asarray(Image.open('c2_src/pic2.jpg')).copy()\n",
    "print(img.shape)\n",
    "for j in range(0,128,3):\n",
    "    for i in range(0,128,3):\n",
    "        karnel_results = np.median(img[j:j+3, i:i+3, 0])\n",
    "        img[j:j+3, i:i+3, 0] = karnel_results\n",
    "        karnel_results = np.median(img[j:j+3, i:i+3, 1])\n",
    "        img[j:j+3, i:i+3, 1] = karnel_results\n",
    "        karnel_results = np.median(img[j:j+3, i:i+3, 2])\n",
    "        img[j:j+3, i:i+3, 2] = karnel_results\n",
    "\n",
    "generated_img = Image.fromarray(img.astype(np.uint8))\n",
    "generated_img.show()"
   ]
  },
  {
   "cell_type": "code",
   "execution_count": null,
   "metadata": {},
   "outputs": [],
   "source": []
  }
 ]
}