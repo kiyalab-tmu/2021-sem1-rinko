{
 "cells": [
  {
   "cell_type": "code",
   "execution_count": 1,
   "metadata": {},
   "outputs": [],
   "source": [
    "import torch\n",
    "import torch.nn as nn\n",
    "import torch.optim as optim\n",
    "from torch.utils.data import Dataset, DataLoader\n",
    "import matplotlib.pyplot as plt\n",
    "import numpy as np\n",
    "from keras.preprocessing.sequence import pad_sequences\n",
    "import random"
   ]
  },
  {
   "cell_type": "code",
   "execution_count": 2,
   "metadata": {},
   "outputs": [],
   "source": [
    "class TextRNNmodel(nn.Module):\n",
    "    def __init__(self, n_input, n_hidden, n_vocab):\n",
    "        super(TextRNNmodel, self).__init__()\n",
    "        self.embedding = nn.Embedding(n_vocab, n_hidden, padding_idx=0)\n",
    "        self.drop1 = nn.Dropout(0.5)\n",
    "        self.rnn = nn.RNN(n_hidden, n_hidden, num_layers=1, batch_first=True)\n",
    "        self.out = nn.Linear(n_hidden, n_vocab)\n",
    "\n",
    "    def forward(self, x, h=None):\n",
    "        output = self.embedding(x)\n",
    "        output = self.drop1(output)\n",
    "        output, hp = self.rnn(output, h)\n",
    "        output = self.drop1(output)\n",
    "        output, hp = self.rnn(output, h)\n",
    "        output = self.drop1(output)\n",
    "        output = self.out(output.squeeze(1))\n",
    "        return output"
   ]
  },
  {
   "cell_type": "code",
   "execution_count": 3,
   "metadata": {},
   "outputs": [],
   "source": [
    "def one_epoch(model, dl, device, criterion, optimizer=None):\n",
    "    if optimizer:\n",
    "        model.train()\n",
    "    else:\n",
    "        model.eval()\n",
    "\n",
    "    losses = 0\n",
    "    data_num = 0\n",
    "    iter_num = 0\n",
    "\n",
    "    for datas, targets in dl:\n",
    "        datas, targets = datas.to(device), targets.to(device)\n",
    "        data_num += len(targets)\n",
    "        iter_num += 1\n",
    "    \n",
    "        if optimizer:\n",
    "            logits = model(datas)\n",
    "            loss = criterion(logits.view(-1, logits.size(-1)), targets.view(-1))\n",
    "\n",
    "            optimizer.zero_grad()\n",
    "            loss.backward()\n",
    "            optimizer.step()\n",
    "        else:\n",
    "            with torch.no_grad():\n",
    "                logits = model(datas)\n",
    "                loss = criterion(logits, targets)\n",
    "            \n",
    "        losses += loss.item()\n",
    "\n",
    "    return losses/iter_num, np.exp(losses/iter_num)\n",
    "        "
   ]
  },
  {
   "cell_type": "code",
   "execution_count": 4,
   "metadata": {},
   "outputs": [],
   "source": [
    "def make_dic_word(corpus):\n",
    "    word2id = {}\n",
    "    id2word = {}\n",
    "    for line in corpus:\n",
    "        if line == '':\n",
    "            continue\n",
    "        for word in line.split(' '):\n",
    "            if word not in word2id:\n",
    "                id = len(word2id) + 1\n",
    "                word2id[word] = id\n",
    "                id2word[id] = word\n",
    "\n",
    "    id = len(word2id) + 1\n",
    "    word2id['<unk>'] = id\n",
    "    id2word[id] = '<unk>'\n",
    "    return word2id, id2word\n",
    "\n",
    "def encode(corpus, word2id):\n",
    "    outputs = []\n",
    "    for line in corpus:\n",
    "        output = []\n",
    "        if line == '':\n",
    "            continue\n",
    "        for word in line.split(' '):\n",
    "            if word not in word2id:\n",
    "                idx = word2id['<unk>']\n",
    "            else:\n",
    "                idx = word2id[word]\n",
    "            output.append(idx)\n",
    "        outputs.append(output)\n",
    "\n",
    "    return outputs\n",
    "\n",
    "def decode(sentence, id2word):\n",
    "    return [id2word[id] for id in sentence]\n"
   ]
  },
  {
   "cell_type": "code",
   "execution_count": 5,
   "metadata": {},
   "outputs": [],
   "source": [
    "def make_dic_char(corpus):\n",
    "    word2id = {}\n",
    "    id2word = {}\n",
    "    tmp = {}\n",
    "    for line in corpus:\n",
    "        if line == '':\n",
    "            continue\n",
    "        for w in line:\n",
    "            if w not in word2id:\n",
    "                id = len(word2id) + 1\n",
    "                word2id[w] = 1\n",
    "            else:\n",
    "                word2id[w] = word2id[w] + 1\n",
    "\n",
    "    lists = sorted(word2id.items(), key=lambda x:x[1], reverse=True)\n",
    "    \n",
    "    word2id.clear()\n",
    "    tmp.update(lists)\n",
    "\n",
    "    for i, k in enumerate(tmp.keys()):\n",
    "        word2id[k] = i\n",
    "        id2word[i] = k\n",
    "        \n",
    "    id = len(word2id) + 1\n",
    "    word2id['<unk>'] = id\n",
    "    id2word[id] = '<unk>'\n",
    "\n",
    "    print(word2id)\n",
    "    print(id2word)\n",
    "    return word2id, id2word"
   ]
  },
  {
   "cell_type": "code",
   "execution_count": 4,
   "metadata": {},
   "outputs": [],
   "source": [
    "def make_dic_char(corpus):\n",
    "    word2id = {}\n",
    "    id2word = {}\n",
    "    for line in corpus:\n",
    "        if line == '':\n",
    "            continue\n",
    "        for w in line:\n",
    "            if w not in word2id:\n",
    "                id = len(word2id) + 1\n",
    "                word2id[w] = id\n",
    "                id2word[id] = w\n",
    "\n",
    "    id = len(word2id) + 1\n",
    "    word2id['<unk>'] = id\n",
    "    id2word[id] = '<unk>'\n",
    "    return word2id, id2word\n",
    "\n",
    "def encode(corpus, word2id):\n",
    "    outputs = []\n",
    "    for line in corpus:\n",
    "        output = []\n",
    "        if line == '':\n",
    "            continue\n",
    "        for w in line:\n",
    "            if w not in word2id:\n",
    "                idx = word2id['<unk>']\n",
    "            else:\n",
    "                idx = word2id[w]\n",
    "            output.append(idx)\n",
    "        outputs.append(output)\n",
    "\n",
    "    return outputs\n",
    "\n",
    "def decode(sentence, id2word):\n",
    "    return [id2word[id] for id in sentence]\n"
   ]
  },
  {
   "cell_type": "code",
   "execution_count": 6,
   "metadata": {},
   "outputs": [],
   "source": [
    "class TextDataset(Dataset):\n",
    "    def __init__(self, id_data, max_length=50):\n",
    "        super().__init__()\n",
    "        self.data_length = len(id_data)\n",
    "        self.x = [row[0:-1] for row in id_data]\n",
    "        self.y = [row[1:] for row in id_data]\n",
    "        \n",
    "        self.max_length = max_length\n",
    "    \n",
    "    def __len__(self):\n",
    "        return self.data_length\n",
    "    \n",
    "    def __getitem__(self, idx):\n",
    "        out_data = self.x[idx]\n",
    "        out_label =  self.y[idx]\n",
    "\n",
    "        out_data = pad_sequences([out_data], padding='post', maxlen=self.max_length)[0]\n",
    "        out_label = pad_sequences([out_label], padding='post', maxlen=self.max_length)[0]\n",
    "\n",
    "        out_data = torch.LongTensor(out_data)\n",
    "        out_label = torch.LongTensor(out_label)\n",
    "\n",
    "        return out_data, out_label"
   ]
  },
  {
   "cell_type": "code",
   "execution_count": 7,
   "metadata": {},
   "outputs": [
    {
     "name": "stdout",
     "output_type": "stream",
     "text": [
      "{' ': 0, 'e': 1, 't': 2, 'a': 3, 'o': 4, 'n': 5, 'i': 6, 's': 7, 'r': 8, 'h': 9, 'd': 10, 'l': 11, 'u': 12, 'm': 13, 'c': 14, 'f': 15, 'g': 16, 'w': 17, 'y': 18, 'p': 19, ',': 20, '.': 21, 'b': 22, 'I': 23, 'v': 24, 'k': 25, 'T': 26, '“': 27, 'A': 28, 'x': 29, 'M': 30, 'S': 31, 'E': 32, 'P': 33, '”': 34, '—': 35, 'j': 36, 'W': 37, '-': 38, '’': 39, 'B': 40, 'F': 41, 'G': 42, 'H': 43, 'O': 44, 'N': 45, ';': 46, 'z': 47, 'q': 48, '?': 49, 'L': 50, 'R': 51, 'U': 52, 'Y': 53, 'D': 54, 'C': 55, '!': 56, '™': 57, '1': 58, ':': 59, 'V': 60, '(': 61, ')': 62, '‘': 63, '0': 64, 'X': 65, 'J': 66, '3': 67, '\\t': 68, '5': 69, '2': 70, '*': 71, '/': 72, '8': 73, '9': 74, 'K': 75, '4': 76, '6': 77, 'æ': 78, '…': 79, '[': 80, ']': 81, '7': 82, '•': 83, 'Q': 84, 'œ': 85, '$': 86, '#': 87, 'ü': 88, '>': 89, 'ç': 90, '%': 91, '<unk>': 93}\n",
      "{0: ' ', 1: 'e', 2: 't', 3: 'a', 4: 'o', 5: 'n', 6: 'i', 7: 's', 8: 'r', 9: 'h', 10: 'd', 11: 'l', 12: 'u', 13: 'm', 14: 'c', 15: 'f', 16: 'g', 17: 'w', 18: 'y', 19: 'p', 20: ',', 21: '.', 22: 'b', 23: 'I', 24: 'v', 25: 'k', 26: 'T', 27: '“', 28: 'A', 29: 'x', 30: 'M', 31: 'S', 32: 'E', 33: 'P', 34: '”', 35: '—', 36: 'j', 37: 'W', 38: '-', 39: '’', 40: 'B', 41: 'F', 42: 'G', 43: 'H', 44: 'O', 45: 'N', 46: ';', 47: 'z', 48: 'q', 49: '?', 50: 'L', 51: 'R', 52: 'U', 53: 'Y', 54: 'D', 55: 'C', 56: '!', 57: '™', 58: '1', 59: ':', 60: 'V', 61: '(', 62: ')', 63: '‘', 64: '0', 65: 'X', 66: 'J', 67: '3', 68: '\\t', 69: '5', 70: '2', 71: '*', 72: '/', 73: '8', 74: '9', 75: 'K', 76: '4', 77: '6', 78: 'æ', 79: '…', 80: '[', 81: ']', 82: '7', 83: '•', 84: 'Q', 85: 'œ', 86: '$', 87: '#', 88: 'ü', 89: '>', 90: 'ç', 91: '%', 93: '<unk>'}\n"
     ]
    }
   ],
   "source": [
    "with open('TheTimeMachine.txt') as f:\n",
    "    corpus = f.read()\n",
    "\n",
    "corpus = corpus.split('\\n')\n",
    "\n",
    "word2id, id2word = make_dic_char(corpus)"
   ]
  },
  {
   "cell_type": "code",
   "execution_count": 31,
   "metadata": {},
   "outputs": [
    {
     "name": "stdout",
     "output_type": "stream",
     "text": [
      "EPOCH:0, Train: loss=4.21, ppl=67.0\n",
      "EPOCH:5, Train: loss=2.61, ppl=13.7\n",
      "EPOCH:10, Train: loss=2.38, ppl=10.9\n",
      "EPOCH:15, Train: loss=2.27, ppl=9.72\n",
      "EPOCH:20, Train: loss=2.21, ppl=9.1\n",
      "EPOCH:25, Train: loss=2.16, ppl=8.65\n",
      "EPOCH:30, Train: loss=2.11, ppl=8.26\n",
      "EPOCH:35, Train: loss=2.08, ppl=7.96\n",
      "EPOCH:40, Train: loss=2.04, ppl=7.71\n",
      "EPOCH:45, Train: loss=2.01, ppl=7.49\n",
      "EPOCH:50, Train: loss=1.99, ppl=7.31\n",
      "EPOCH:55, Train: loss=1.97, ppl=7.15\n",
      "EPOCH:60, Train: loss=1.95, ppl=6.99\n",
      "EPOCH:65, Train: loss=1.93, ppl=6.89\n",
      "EPOCH:70, Train: loss=1.91, ppl=6.77\n",
      "EPOCH:75, Train: loss=1.89, ppl=6.62\n",
      "EPOCH:80, Train: loss=1.88, ppl=6.57\n",
      "EPOCH:85, Train: loss=1.87, ppl=6.47\n",
      "EPOCH:90, Train: loss=1.85, ppl=6.37\n",
      "EPOCH:95, Train: loss=1.84, ppl=6.31\n",
      "Best train loss=1.82 Best train ppl=6.17\n"
     ]
    },
    {
     "data": {
      "image/png": "[encoded data removed]",
      "text/plain": [
       "<Figure size 720x432 with 2 Axes>"
      ]
     },
     "metadata": {
      "needs_background": "light"
     },
     "output_type": "display_data"
    }
   ],
   "source": [
    "epoch = 100\n",
    "TRAIN_BATCH_SIZE = 64\n",
    "device = f\"cuda:{0}\" if torch.cuda.is_available() else \"cpu\"\n",
    "\n",
    "data_id = encode(corpus,word2id)\n",
    "dataset = TextDataset(data_id)\n",
    "train_dl = DataLoader(dataset, batch_size=TRAIN_BATCH_SIZE, drop_last=True)\n",
    "\n",
    "HIDDEN_DIM = 256\n",
    "VOCAB_SIZE = len(id2word)\n",
    "model = TextRNNmodel(50, HIDDEN_DIM, VOCAB_SIZE)\n",
    "model.to(device)\n",
    "criterion = nn.CrossEntropyLoss(reduction='mean', ignore_index=93)\n",
    "optimizer = optim.Adam(model.parameters(), lr=0.001, betas=(0.9, 0.999), amsgrad=True)\n",
    "\n",
    "train_loss_list, train_ppl_list = [],[]\n",
    "best_train_loss, best_train_ppl = None, None\n",
    "count = 0\n",
    "    \n",
    "for i in range(epoch):\n",
    "    loss, ppl = one_epoch(model, train_dl, device, criterion, optimizer)\n",
    "    train_loss_list.append(loss)\n",
    "    train_ppl_list.append(ppl)\n",
    "\n",
    "    if i==0 or best_train_loss >= loss:\n",
    "        best_train_loss = loss\n",
    "        best_train_ppl = ppl\n",
    "    if i%5 == 0:\n",
    "        print('EPOCH:{:}, Train: loss={:.3}, ppl={:.3}'.format(i,loss, ppl))\n",
    "\n",
    "print('Best train loss={:.3} Best train ppl={:.3}'.format(best_train_loss, best_train_ppl))\n",
    "\n",
    "fig= plt.figure(figsize=(10.0, 6.0))\n",
    "ax1 = fig.add_subplot(1,2,1)\n",
    "ax1.plot(train_loss_list, 'b', label='train')\n",
    "ax1.legend()\n",
    "\n",
    "ax2 = fig.add_subplot(1,2,2)\n",
    "ax2.plot(train_ppl_list, 'b', label='train')\n",
    "ax2.legend()\n",
    "plt.show()\n",
    "\n"
   ]
  },
  {
   "cell_type": "code",
   "execution_count": 141,
   "metadata": {},
   "outputs": [
    {
     "name": "stdout",
     "output_type": "stream",
     "text": [
      "TH, SThere us theve unen.\n",
      "HI in?” risus ned…I red CI alind.\n",
      "YThon here HHIIInd .\n"
     ]
    },
    {
     "name": "stderr",
     "output_type": "stream",
     "text": [
      "ipykernel_launcher:11: UserWarning: Implicit dimension choice for softmax has been deprecated. Change the call to include dim=X as an argument.\n"
     ]
    }
   ],
   "source": [
    "model.eval()\n",
    "morphemes = ['T', 'H', 'Y']\n",
    "\n",
    "with torch.no_grad():\n",
    "    for morpheme in morphemes:\n",
    "        sentence = [morpheme]\n",
    "        for _ in range(100):\n",
    "            input_index = encode([morpheme], word2id)\n",
    "            input_tensor = torch.tensor([input_index], device=device)\n",
    "            outputs = model(input_tensor.view(-1, input_tensor.size(-1)))\n",
    "            probs = nn.functional.softmax(torch.squeeze(outputs))\n",
    "            p = probs.cpu().detach().numpy()\n",
    "            morpheme = id2word[np.random.choice(len(p), p=p)]\n",
    "            sentence.append(morpheme)\n",
    "            if morpheme in ['.', \"<unk>\"]:\n",
    "                break\n",
    "        print(\"\".join(sentence))"
   ]
  }
 ],
 "metadata": {
  "interpreter": {
   "hash": "69c6a8e41a651795dc9598813b7df1e5445214c312f5f54441335b89e4e344cf"
  },
  "kernelspec": {
   "display_name": "Python 3.6.9 64-bit ('rinkovenv': venv)",
   "name": "python3"
  },
  "language_info": {
   "name": "python",
   "version": ""
  },
  "orig_nbformat": 2
 },
 "nbformat": 4,
 "nbformat_minor": 2
}