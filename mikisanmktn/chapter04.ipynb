{
 "metadata": {
  "language_info": {
   "codemirror_mode": {
    "name": "ipython",
    "version": 3
   },
   "file_extension": ".py",
   "mimetype": "text/x-python",
   "name": "python",
   "nbconvert_exporter": "python",
   "pygments_lexer": "ipython3",
   "version": "3.6.9"
  },
  "orig_nbformat": 2,
  "kernelspec": {
   "name": "python369jvsc74a57bd069c6a8e41a651795dc9598813b7df1e5445214c312f5f54441335b89e4e344cf",
   "display_name": "Python 3.6.9 64-bit ('rinkovenv': venv)"
  }
 },
 "nbformat": 4,
 "nbformat_minor": 2,
 "cells": [
  {
   "cell_type": "code",
   "execution_count": 1,
   "metadata": {},
   "outputs": [],
   "source": [
    "import torch\n",
    "import sklearn\n",
    "import sys\n",
    "import cv2\n",
    "from tqdm import tqdm_notebook as tqdm\n",
    "import random\n",
    "import numpy as np\n",
    "from torch.utils.data import Dataset, Subset\n",
    "from torch.utils.data import TensorDataset, DataLoader\n",
    "import torch.backends.cudnn as cudnn\n",
    "from torch import nn\n",
    "import torch.optim as optim\n",
    "from sklearn.metrics import confusion_matrix\n",
    "from torchvision import datasets, transforms, models\n",
    "from sklearn.model_selection import train_test_split\n",
    "import matplotlib.pyplot as plt"
   ]
  },
  {
   "cell_type": "code",
   "execution_count": 2,
   "metadata": {},
   "outputs": [],
   "source": [
    "# make dataloader\n",
    "def create_dataloader(dataset_name, transform, valid=False):\n",
    "    test_dl, valid_dl = None, None\n",
    "\n",
    "    if dataset_name == 'MNIST':\n",
    "        train_datasets = datasets.FashionMNIST(root='../datasets', train=True, download=True, transform=transform)\n",
    "        if valid:\n",
    "            n_samples = len(train_datasets)\n",
    "            train_size = int(n_samples * 0.8)\n",
    "            subset1_indices = list(range(0,train_size))\n",
    "            subset2_indices = list(range(train_size,n_samples))\n",
    "\n",
    "            train_dataset = Subset(train_datasets, subset1_indices)\n",
    "            valid_dataset = Subset(train_datasets, subset2_indices)\n",
    "\n",
    "            train_dl = DataLoader(train_dataset, batch_size=TRAIN_BATCH_SIZE, shuffle=True)\n",
    "            valid_dl = DataLoader(valid_dataset, batch_size=VALID_BATCH_SIZE, shuffle=False)\n",
    "        else:\n",
    "            train_dl = DataLoader(train_datasets,   batch_size=TRAIN_BATCH_SIZE, shuffle=True)\n",
    "\n",
    "        test_dataset = datasets.FashionMNIST(root='../datasets', train=False, download=True, transform=transform)\n",
    "        test_dl = DataLoader(test_dataset, batch_size=TEST_BATCH_SIZE, shuffle=False)\n",
    "    \n",
    "    return train_dl, test_dl, valid_dl\n",
    "\n"
   ]
  },
  {
   "cell_type": "code",
   "execution_count": 2,
   "metadata": {},
   "outputs": [],
   "source": [
    "def im2col(input_data, filter_h, filter_w, stride=1, pad=0):\n",
    "    N, C, H, W = input_data.shape\n",
    "    out_h = (H + 2*pad - filter_h)//stride + 1\n",
    "    out_w = (W + 2*pad - filter_w)//stride + 1\n",
    "\n",
    "    img = np.pad(input_data, [(0,0), (0,0), (pad, pad), (pad, pad)], 'constant')\n",
    "    col = np.zeros((N, C, filter_h, filter_w, out_h, out_w))\n",
    "\n",
    "    for y in range(filter_h):\n",
    "        y_max = y + stride*out_h\n",
    "        for x in range(filter_w):\n",
    "            x_max = x + stride*out_w\n",
    "            col[:, :, y, x, :, :] = img[:, :, y:y_max:stride, x:x_max:stride]\n",
    "\n",
    "    col = col.transpose(0, 4, 5, 1, 2, 3).reshape(N*out_h*out_w, -1)\n",
    "    return col"
   ]
  },
  {
   "cell_type": "code",
   "execution_count": 5,
   "metadata": {},
   "outputs": [],
   "source": [
    "def myConv2D(data, in_channels, out_channels, kernel_size, padding=0, stride=1, edge=None, num=False, kernel=None):\n",
    "    in_ch = in_channels\n",
    "    out_ch = out_channels\n",
    "    k = kernel_size\n",
    "    p = padding\n",
    "    s = stride\n",
    "\n",
    "    b = 0\n",
    "    if kernel is None:\n",
    "        kernel = np.random.randn(out_ch, 1, kernel_size, kernel_size)\n",
    "\n",
    "    if num:\n",
    "        N, C, H, W = data.shape\n",
    "        OH = (H + 2 * p - k)//s + 1\n",
    "        OW = (W + 2 * p - k)//s + 1\n",
    "        \n",
    "        kernel_col = kernel.reshape(out_ch, -1).T\n",
    "        data_col = im2col(data, k, k, stride=s, pad=p)\n",
    "\n",
    "        y_col = data_col@kernel_col + b\n",
    "        \n",
    "        y = y_col.reshape(N,OH,OW,-1).transpose(0,3,1,2)\n",
    "    else:\n",
    "        conv = nn.Conv2d(in_ch, out_ch, k, stride=s, padding=p, bias=False, padding_mode='zeros')\n",
    "        #nn.init.normal_(conv.weight, 0.0, 0.01)\n",
    "        conv.weight = nn.Parameter(torch.from_numpy(kernel.astype(np.float32)).clone())\n",
    "\n",
    "        print(conv.weight.shape)\n",
    "\n",
    "        y = conv(data)\n",
    "    \n",
    "    return y\n"
   ]
  },
  {
   "cell_type": "code",
   "execution_count": 3,
   "metadata": {},
   "outputs": [],
   "source": [
    "def one_epoch(model, dl, device, criterion, optimizer=None):\n",
    "    if optimizer:\n",
    "        model.train()\n",
    "    else:\n",
    "        model.eval()\n",
    "\n",
    "    losses = 0\n",
    "    data_num = 0\n",
    "    correct_num = 0\n",
    "    iter_num = 0\n",
    "\n",
    "    for datas, targets in dl:\n",
    "        datas, targets = datas.to(device), targets.to(device)\n",
    "        data_num += len(targets)\n",
    "        iter_num += 1\n",
    "\n",
    "        if optimizer:\n",
    "            logits = model(datas)\n",
    "            loss = criterion(logits, targets)\n",
    "\n",
    "            optimizer.zero_grad()\n",
    "            loss.backward()\n",
    "            optimizer.step()\n",
    "        else:\n",
    "            with torch.no_grad():\n",
    "                logits = model(datas)\n",
    "                loss = criterion(logits, targets)\n",
    "            \n",
    "        losses += loss.item()\n",
    "\n",
    "        if criterion != nn.MSELoss():\n",
    "            prediction = torch.argmax(logits,dim=1)\n",
    "            correct_num += (prediction == targets).sum().item()\n",
    "    return losses/iter_num, correct_num/data_num\n",
    "        "
   ]
  },
  {
   "cell_type": "code",
   "execution_count": 4,
   "metadata": {},
   "outputs": [],
   "source": [
    "def train(model, train_dl, test_dl, epoch, device, criterion, optimizer, early_stop=5, valid_dl=None):\n",
    "\n",
    "    train_loss_list, valid_loss_list, train_accuracy_list, valid_accuracy_list = [],[],[],[]\n",
    "    best_train_loss, best_train_acc, best_valid_loss, best_valid_acc = None, None, None, None\n",
    "    count = 0\n",
    "    \n",
    "    for i in range(epoch):\n",
    "        train_loss, train_acc = one_epoch(model, train_dl, device, criterion, optimizer)\n",
    "        train_loss_list.append(train_loss)\n",
    "        train_accuracy_list.append(train_acc)\n",
    "\n",
    "        if i==0 or best_train_loss >= train_loss:\n",
    "            best_train_loss = train_loss\n",
    "            best_train_acc = train_acc\n",
    "        \n",
    "        if valid_dl:\n",
    "            valid_loss, valid_acc = one_epoch(model, valid_dl, device, criterion)\n",
    "            valid_loss_list.append(valid_loss)\n",
    "            valid_accuracy_list.append(valid_acc)\n",
    "\n",
    "            if i%1 == 0:\n",
    "                print('EPOCH:{:}, Train: loss={:.3}, acc={:.3%} Valid: loss={:.3}, acc={:.3%}'.format(i,train_loss, train_acc, valid_loss, valid_acc))\n",
    "\n",
    "            if i==0 or best_valid_loss >= valid_loss:\n",
    "                best_valid_loss = valid_loss\n",
    "                test_loss, test_acc = one_epoch(model, test_dl, device, criterion)\n",
    "                count = 0\n",
    "            else:\n",
    "                count += 1\n",
    "                print('early stopping count = {:}'.format(count))\n",
    "        \n",
    "            if count >= early_stop:\n",
    "                print('early stoping : final epoch = {:}'.format(i))\n",
    "                break   \n",
    "        else:\n",
    "            print('EPOCH:{:}, Train: loss={:.3}, acc={:.3%}'.format(i,train_loss, train_acc))\n",
    "\n",
    "    print('Best train loss={:.3} Test loss={:.3}'.format(best_train_loss, test_loss))\n",
    "    print('Best train accuracy={:.3} Test accuracy={:.3}'.format(best_train_acc, test_acc))\n",
    "\n",
    "    return np.array(train_loss_list), np.array(valid_loss_list), np.array(train_accuracy_list), np.array(valid_accuracy_list)"
   ]
  },
  {
   "cell_type": "code",
   "execution_count": 6,
   "metadata": {
    "tags": []
   },
   "outputs": [
    {
     "output_type": "stream",
     "name": "stdout",
     "text": [
      "tensor([[[[-0.1206, -0.3781, -1.8700, -1.2744, -0.4929],\n          [ 0.3573,  2.3935, -0.7998, -0.0449, -0.1192],\n          [ 0.8589, -0.4934,  0.2577, -0.2995, -0.9087],\n          [-1.0291, -0.9700, -1.8067, -1.2224, -0.5392],\n          [ 0.5609,  0.8258, -1.5835,  1.0500,  1.1692]]]])\ntorch.Size([1, 1, 3, 3])\ntensor([[[[ 0.2056, -2.5087, -5.5516],\n          [-1.2316, -2.9854, -5.4827],\n          [-3.3794, -4.2420, -3.8831]]]], grad_fn=<ThnnConv2DBackward>)\n[[[[ 0.20558599 -2.50872861 -5.55159898]\n   [-1.231621   -2.98542129 -5.48265733]\n   [-3.37939203 -4.24198362 -3.88308847]]]]\n"
     ]
    }
   ],
   "source": [
    "#Q1: 2D convolution\n",
    "kernel = np.array([[[[1,1,1],[1,1,1],[1,1,1]]]])\n",
    "input = torch.randn(1, 1, 5, 5)\n",
    "print(input)\n",
    "\n",
    "output = myConv2D(input, 1, 1, 3, kernel=kernel)\n",
    "print(output)\n",
    "\n",
    "output = myConv2D(input, 1, 1, 3, kernel=kernel, num=True)\n",
    "print(output)\n"
   ]
  },
  {
   "cell_type": "code",
   "execution_count": 98,
   "metadata": {},
   "outputs": [
    {
     "output_type": "stream",
     "name": "stdout",
     "text": [
      "torch.Size([1, 1, 256, 256])\ntorch.Size([1, 1, 3, 3])\ntensor([[[[-0.2895, -0.2895, -0.2895,  ..., -0.2895, -0.2895, -0.2895],\n          [-0.2895, -0.2895, -0.2895,  ..., -0.2895, -0.2895, -0.2895],\n          [-0.2895, -0.2895, -0.2895,  ..., -0.2895, -0.2895, -0.2895],\n          ...,\n          [-0.2895, -0.2895, -0.2895,  ..., -0.2895, -0.2895, -0.2895],\n          [-0.2895, -0.2895, -0.2895,  ..., -0.2895, -0.2895, -0.2895],\n          [-0.2895, -0.2895, -0.2895,  ..., -0.2895, -0.2895, -0.2895]]]],\n       grad_fn=<MkldnnConvolutionBackward>)\n"
     ]
    }
   ],
   "source": [
    "#Q2: Edge detection\n",
    "kernel = np.array([[[[-1,-1,-1],[-1,8,-1],[-1,-1,-1]]]])\n",
    "img = cv2.imread('aicon.jpg')\n",
    "img = cv2.cvtColor(img, cv2.COLOR_BGR2GRAY)\n",
    "\n",
    "img = torch.tensor(img).unsqueeze(0).unsqueeze(0).float()\n",
    "print(img.shape)\n",
    "output = myConv2D(img, 1, 1, 3, kernel=kernel)\n",
    "print(output)\n",
    "\n"
   ]
  },
  {
   "cell_type": "code",
   "execution_count": 99,
   "metadata": {},
   "outputs": [
    {
     "output_type": "stream",
     "name": "stdout",
     "text": [
      "tensor([[[[ 1.7244,  1.2071,  0.0771,  0.8330, -1.3887],\n          [-2.7164,  0.1175,  0.3042, -1.1361,  0.3157],\n          [-1.2689,  1.1862,  1.3109, -0.7769, -0.5088],\n          [ 1.7412,  0.1888,  1.8008, -0.3305, -1.4820],\n          [-0.7751, -1.1304,  0.9362,  1.0618, -1.3783]]]])\ntorch.Size([3, 1, 3, 3])\ntensor([[[[ 0.6989,  3.6332,  0.0873,  3.4001, -0.2132],\n          [-6.7449, -1.4980,  0.3839, -0.0800,  2.2106],\n          [-4.6272, -6.2700,  3.9083,  0.1236,  1.5452],\n          [ 2.6426, -5.9826,  2.2975,  3.5362, -1.6398],\n          [ 1.1948, -5.9864, -0.2287,  5.4722, -1.3931]],\n\n         [[ 4.5605, -3.3892, -0.6280,  1.2986, -1.0069],\n          [ 4.2871, -0.2687, -1.6787,  1.5682,  1.2900],\n          [-2.6994,  2.6545, -5.5968,  0.6984,  4.7225],\n          [ 2.4263,  1.9643, -4.3631, -4.2597,  4.2748],\n          [ 0.9895,  2.4543,  1.8035, -4.1174, -0.6939]],\n\n         [[-1.2551,  3.6622, -1.3701,  0.5721,  3.8818],\n          [ 8.3758,  4.5154, -0.6694, -1.8975,  0.5693],\n          [-3.3820, -5.6732, -3.7849, -2.9581,  2.7303],\n          [-1.4398,  3.4134,  0.8160, -2.4126,  0.0946],\n          [ 4.6527,  4.4971,  0.1907, -2.1716, -0.1598]]]],\n       grad_fn=<ThnnConv2DBackward>)\n"
     ]
    }
   ],
   "source": [
    "#Q3: Padding\n",
    "input = torch.randn(1, 1, 5, 5)\n",
    "print(input)\n",
    "\n",
    "output = myConv2D(input, 1, 3, 3, padding=1)\n",
    "print(output)"
   ]
  },
  {
   "cell_type": "code",
   "execution_count": 100,
   "metadata": {},
   "outputs": [
    {
     "output_type": "stream",
     "name": "stdout",
     "text": [
      "tensor([[[[ 1.7406, -1.3600,  0.9502, -0.6952,  0.2370],\n          [ 1.4281, -0.5487,  0.7166,  1.8795, -1.1563],\n          [-0.5052,  0.3639, -1.1532,  0.5346,  1.0429],\n          [-0.7550, -0.0268,  0.1385, -1.4454, -0.1483],\n          [-0.9179, -2.2886, -1.1151,  0.9198, -0.4204]]]])\ntorch.Size([3, 1, 3, 3])\ntensor([[[[-0.5839, -2.7763],\n          [ 2.5253,  1.6968]],\n\n         [[-0.0492,  0.5053],\n          [-0.8724, -2.0257]],\n\n         [[ 9.0587,  2.1591],\n          [ 0.3938,  1.7975]]]], grad_fn=<ThnnConv2DBackward>)\n"
     ]
    }
   ],
   "source": [
    "#Q4: Stride\n",
    "input = torch.randn(1, 1, 5, 5)\n",
    "print(input)\n",
    "\n",
    "output = myConv2D(input, 1, 3, 3, stride=2)\n",
    "print(output)"
   ]
  },
  {
   "cell_type": "code",
   "execution_count": 5,
   "metadata": {},
   "outputs": [
    {
     "output_type": "stream",
     "name": "stdout",
     "text": [
      "EPOCH:0, Train: loss=2.18, acc=19.265% Valid: loss=1.44, acc=42.242%\n",
      "EPOCH:1, Train: loss=1.13, acc=52.923% Valid: loss=0.744, acc=72.442%\n",
      "EPOCH:2, Train: loss=0.648, acc=74.775% Valid: loss=0.544, acc=78.275%\n",
      "EPOCH:3, Train: loss=0.496, acc=81.108% Valid: loss=0.473, acc=81.042%\n",
      "EPOCH:4, Train: loss=0.414, acc=84.535% Valid: loss=0.398, acc=85.583%\n",
      "EPOCH:5, Train: loss=0.359, acc=86.704% Valid: loss=0.476, acc=83.767%\n",
      "early stopping count = 1\n",
      "EPOCH:6, Train: loss=0.328, acc=87.838% Valid: loss=0.322, acc=88.150%\n",
      "EPOCH:7, Train: loss=0.301, acc=88.785% Valid: loss=0.303, acc=88.758%\n",
      "EPOCH:8, Train: loss=0.277, acc=89.700% Valid: loss=0.299, acc=89.300%\n",
      "EPOCH:9, Train: loss=0.26, acc=90.319% Valid: loss=0.311, acc=88.917%\n",
      "early stopping count = 1\n",
      "EPOCH:10, Train: loss=0.249, acc=90.794% Valid: loss=0.298, acc=89.092%\n",
      "EPOCH:11, Train: loss=0.232, acc=91.269% Valid: loss=0.273, acc=90.042%\n",
      "EPOCH:12, Train: loss=0.22, acc=91.765% Valid: loss=0.42, acc=85.733%\n",
      "early stopping count = 1\n",
      "EPOCH:13, Train: loss=0.207, acc=92.283% Valid: loss=0.28, acc=89.917%\n",
      "early stopping count = 2\n",
      "EPOCH:14, Train: loss=0.193, acc=92.869% Valid: loss=0.281, acc=89.925%\n",
      "early stopping count = 3\n",
      "EPOCH:15, Train: loss=0.187, acc=93.058% Valid: loss=0.26, acc=90.925%\n",
      "EPOCH:16, Train: loss=0.172, acc=93.690% Valid: loss=0.282, acc=90.025%\n",
      "early stopping count = 1\n",
      "EPOCH:17, Train: loss=0.162, acc=93.958% Valid: loss=0.291, acc=90.258%\n",
      "early stopping count = 2\n",
      "EPOCH:18, Train: loss=0.157, acc=94.190% Valid: loss=0.255, acc=91.333%\n",
      "EPOCH:19, Train: loss=0.141, acc=94.821% Valid: loss=0.269, acc=90.583%\n",
      "early stopping count = 1\n",
      "EPOCH:20, Train: loss=0.131, acc=95.190% Valid: loss=0.271, acc=90.742%\n",
      "early stopping count = 2\n",
      "EPOCH:21, Train: loss=0.127, acc=95.185% Valid: loss=0.297, acc=91.167%\n",
      "early stopping count = 3\n",
      "EPOCH:22, Train: loss=0.116, acc=95.683% Valid: loss=0.283, acc=91.150%\n",
      "early stopping count = 4\n",
      "EPOCH:23, Train: loss=0.102, acc=96.183% Valid: loss=0.262, acc=91.833%\n",
      "early stopping count = 5\n",
      "early stoping : final epoch = 23\n",
      "Best train loss=0.102 Test loss=0.279\n",
      "Best train accuracy=0.962 Test accuracy=0.905\n"
     ]
    },
    {
     "output_type": "display_data",
     "data": {
      "text/plain": "<Figure size 720x432 with 2 Axes>",
      "image/svg+xml": "<?xml version=\"1.0\" encoding=\"utf-8\" standalone=\"no\"?>\n<!DOCTYPE svg PUBLIC \"-//W3C//DTD SVG 1.1//EN\"\n  \"http://www.w3.org/Graphics/SVG/1.1/DTD/svg11.dtd\">\n<!-- Created with matplotlib (https://matplotlib.org/) -->\n<svg height=\"360.92451pt\" version=\"1.1\" viewBox=\"0 0 595.303125 360.92451\" width=\"595.303125pt\" xmlns=\"http://www.w3.org/2000/svg\" xmlns:xlink=\"http://www.w3.org/1999/xlink\">\n <metadata>\n  <rdf:RDF xmlns:cc=\"http://creativecommons.org/ns#\" xmlns:dc=\"http://purl.org/dc/elements/1.1/\" xmlns:rdf=\"http://www.w3.org/1999/02/22-rdf-syntax-ns#\">\n   <cc:Work>\n    <dc:type rdf:resource=\"http://purl.org/dc/dcmitype/StillImage\"/>\n    <dc:date>2021-06-13T19:54:01.568478</dc:date>\n    <dc:format>image/svg+xml</dc:format>\n    <dc:creator>\n     <cc:Agent>\n      <dc:title>Matplotlib v3.3.3, https://matplotlib.org/</dc:title>\n     </cc:Agent>\n    </dc:creator>\n   </cc:Work>\n  </rdf:RDF>\n </metadata>\n <defs>\n  <style type=\"text/css\">*{stroke-linecap:butt;stroke-linejoin:round;}</style>\n </defs>\n <g id=\"figure_1\">\n  <g id=\"patch_1\">\n   <path d=\"M -0 360.92451 \nL 595.303125 360.92451 \nL 595.303125 0 \nL -0 0 \nz\n\" style=\"fill:none;\"/>\n  </g>\n  <g id=\"axes_1\">\n   <g id=\"patch_2\">\n    <path d=\"M 30.103125 337.046385 \nL 283.739489 337.046385 \nL 283.739489 10.886385 \nL 30.103125 10.886385 \nz\n\" style=\"fill:#ffffff;\"/>\n   </g>\n   <g id=\"matplotlib.axis_1\">\n    <g id=\"xtick_1\">\n     <g id=\"line2d_1\">\n      <defs>\n       <path d=\"M 0 0 \nL 0 3.5 \n\" id=\"ma4725a7595\" style=\"stroke:#000000;stroke-width:0.8;\"/>\n      </defs>\n      <g>\n       <use style=\"stroke:#000000;stroke-width:0.8;\" x=\"41.632051\" xlink:href=\"#ma4725a7595\" y=\"337.046385\"/>\n      </g>\n     </g>\n     <g id=\"text_1\">\n      <!-- 0 -->\n      <g transform=\"translate(38.450801 351.644822)scale(0.1 -0.1)\">\n       <defs>\n        <path d=\"M 31.78125 66.40625 \nQ 24.171875 66.40625 20.328125 58.90625 \nQ 16.5 51.421875 16.5 36.375 \nQ 16.5 21.390625 20.328125 13.890625 \nQ 24.171875 6.390625 31.78125 6.390625 \nQ 39.453125 6.390625 43.28125 13.890625 \nQ 47.125 21.390625 47.125 36.375 \nQ 47.125 51.421875 43.28125 58.90625 \nQ 39.453125 66.40625 31.78125 66.40625 \nz\nM 31.78125 74.21875 \nQ 44.046875 74.21875 50.515625 64.515625 \nQ 56.984375 54.828125 56.984375 36.375 \nQ 56.984375 17.96875 50.515625 8.265625 \nQ 44.046875 -1.421875 31.78125 -1.421875 \nQ 19.53125 -1.421875 13.0625 8.265625 \nQ 6.59375 17.96875 6.59375 36.375 \nQ 6.59375 54.828125 13.0625 64.515625 \nQ 19.53125 74.21875 31.78125 74.21875 \nz\n\" id=\"DejaVuSans-48\"/>\n       </defs>\n       <use xlink:href=\"#DejaVuSans-48\"/>\n      </g>\n     </g>\n    </g>\n    <g id=\"xtick_2\">\n     <g id=\"line2d_2\">\n      <g>\n       <use style=\"stroke:#000000;stroke-width:0.8;\" x=\"91.757814\" xlink:href=\"#ma4725a7595\" y=\"337.046385\"/>\n      </g>\n     </g>\n     <g id=\"text_2\">\n      <!-- 5 -->\n      <g transform=\"translate(88.576564 351.644822)scale(0.1 -0.1)\">\n       <defs>\n        <path d=\"M 10.796875 72.90625 \nL 49.515625 72.90625 \nL 49.515625 64.59375 \nL 19.828125 64.59375 \nL 19.828125 46.734375 \nQ 21.96875 47.46875 24.109375 47.828125 \nQ 26.265625 48.1875 28.421875 48.1875 \nQ 40.625 48.1875 47.75 41.5 \nQ 54.890625 34.8125 54.890625 23.390625 \nQ 54.890625 11.625 47.5625 5.09375 \nQ 40.234375 -1.421875 26.90625 -1.421875 \nQ 22.3125 -1.421875 17.546875 -0.640625 \nQ 12.796875 0.140625 7.71875 1.703125 \nL 7.71875 11.625 \nQ 12.109375 9.234375 16.796875 8.0625 \nQ 21.484375 6.890625 26.703125 6.890625 \nQ 35.15625 6.890625 40.078125 11.328125 \nQ 45.015625 15.765625 45.015625 23.390625 \nQ 45.015625 31 40.078125 35.4375 \nQ 35.15625 39.890625 26.703125 39.890625 \nQ 22.75 39.890625 18.8125 39.015625 \nQ 14.890625 38.140625 10.796875 36.28125 \nz\n\" id=\"DejaVuSans-53\"/>\n       </defs>\n       <use xlink:href=\"#DejaVuSans-53\"/>\n      </g>\n     </g>\n    </g>\n    <g id=\"xtick_3\">\n     <g id=\"line2d_3\">\n      <g>\n       <use style=\"stroke:#000000;stroke-width:0.8;\" x=\"141.883578\" xlink:href=\"#ma4725a7595\" y=\"337.046385\"/>\n      </g>\n     </g>\n     <g id=\"text_3\">\n      <!-- 10 -->\n      <g transform=\"translate(135.521078 351.644822)scale(0.1 -0.1)\">\n       <defs>\n        <path d=\"M 12.40625 8.296875 \nL 28.515625 8.296875 \nL 28.515625 63.921875 \nL 10.984375 60.40625 \nL 10.984375 69.390625 \nL 28.421875 72.90625 \nL 38.28125 72.90625 \nL 38.28125 8.296875 \nL 54.390625 8.296875 \nL 54.390625 0 \nL 12.40625 0 \nz\n\" id=\"DejaVuSans-49\"/>\n       </defs>\n       <use xlink:href=\"#DejaVuSans-49\"/>\n       <use x=\"63.623047\" xlink:href=\"#DejaVuSans-48\"/>\n      </g>\n     </g>\n    </g>\n    <g id=\"xtick_4\">\n     <g id=\"line2d_4\">\n      <g>\n       <use style=\"stroke:#000000;stroke-width:0.8;\" x=\"192.009341\" xlink:href=\"#ma4725a7595\" y=\"337.046385\"/>\n      </g>\n     </g>\n     <g id=\"text_4\">\n      <!-- 15 -->\n      <g transform=\"translate(185.646841 351.644822)scale(0.1 -0.1)\">\n       <use xlink:href=\"#DejaVuSans-49\"/>\n       <use x=\"63.623047\" xlink:href=\"#DejaVuSans-53\"/>\n      </g>\n     </g>\n    </g>\n    <g id=\"xtick_5\">\n     <g id=\"line2d_5\">\n      <g>\n       <use style=\"stroke:#000000;stroke-width:0.8;\" x=\"242.135105\" xlink:href=\"#ma4725a7595\" y=\"337.046385\"/>\n      </g>\n     </g>\n     <g id=\"text_5\">\n      <!-- 20 -->\n      <g transform=\"translate(235.772605 351.644822)scale(0.1 -0.1)\">\n       <defs>\n        <path d=\"M 19.1875 8.296875 \nL 53.609375 8.296875 \nL 53.609375 0 \nL 7.328125 0 \nL 7.328125 8.296875 \nQ 12.9375 14.109375 22.625 23.890625 \nQ 32.328125 33.6875 34.8125 36.53125 \nQ 39.546875 41.84375 41.421875 45.53125 \nQ 43.3125 49.21875 43.3125 52.78125 \nQ 43.3125 58.59375 39.234375 62.25 \nQ 35.15625 65.921875 28.609375 65.921875 \nQ 23.96875 65.921875 18.8125 64.3125 \nQ 13.671875 62.703125 7.8125 59.421875 \nL 7.8125 69.390625 \nQ 13.765625 71.78125 18.9375 73 \nQ 24.125 74.21875 28.421875 74.21875 \nQ 39.75 74.21875 46.484375 68.546875 \nQ 53.21875 62.890625 53.21875 53.421875 \nQ 53.21875 48.921875 51.53125 44.890625 \nQ 49.859375 40.875 45.40625 35.40625 \nQ 44.1875 33.984375 37.640625 27.21875 \nQ 31.109375 20.453125 19.1875 8.296875 \nz\n\" id=\"DejaVuSans-50\"/>\n       </defs>\n       <use xlink:href=\"#DejaVuSans-50\"/>\n       <use x=\"63.623047\" xlink:href=\"#DejaVuSans-48\"/>\n      </g>\n     </g>\n    </g>\n   </g>\n   <g id=\"matplotlib.axis_2\">\n    <g id=\"ytick_1\">\n     <g id=\"line2d_6\">\n      <defs>\n       <path d=\"M 0 0 \nL -3.5 0 \n\" id=\"mb1b206484b\" style=\"stroke:#000000;stroke-width:0.8;\"/>\n      </defs>\n      <g>\n       <use style=\"stroke:#000000;stroke-width:0.8;\" x=\"30.103125\" xlink:href=\"#mb1b206484b\" y=\"336.810547\"/>\n      </g>\n     </g>\n     <g id=\"text_6\">\n      <!-- 0.0 -->\n      <g transform=\"translate(7.2 340.609766)scale(0.1 -0.1)\">\n       <defs>\n        <path d=\"M 10.6875 12.40625 \nL 21 12.40625 \nL 21 0 \nL 10.6875 0 \nz\n\" id=\"DejaVuSans-46\"/>\n       </defs>\n       <use xlink:href=\"#DejaVuSans-48\"/>\n       <use x=\"63.623047\" xlink:href=\"#DejaVuSans-46\"/>\n       <use x=\"95.410156\" xlink:href=\"#DejaVuSans-48\"/>\n      </g>\n     </g>\n    </g>\n    <g id=\"ytick_2\">\n     <g id=\"line2d_7\">\n      <g>\n       <use style=\"stroke:#000000;stroke-width:0.8;\" x=\"30.103125\" xlink:href=\"#mb1b206484b\" y=\"265.454473\"/>\n      </g>\n     </g>\n     <g id=\"text_7\">\n      <!-- 0.5 -->\n      <g transform=\"translate(7.2 269.253692)scale(0.1 -0.1)\">\n       <use xlink:href=\"#DejaVuSans-48\"/>\n       <use x=\"63.623047\" xlink:href=\"#DejaVuSans-46\"/>\n       <use x=\"95.410156\" xlink:href=\"#DejaVuSans-53\"/>\n      </g>\n     </g>\n    </g>\n    <g id=\"ytick_3\">\n     <g id=\"line2d_8\">\n      <g>\n       <use style=\"stroke:#000000;stroke-width:0.8;\" x=\"30.103125\" xlink:href=\"#mb1b206484b\" y=\"194.098398\"/>\n      </g>\n     </g>\n     <g id=\"text_8\">\n      <!-- 1.0 -->\n      <g transform=\"translate(7.2 197.897617)scale(0.1 -0.1)\">\n       <use xlink:href=\"#DejaVuSans-49\"/>\n       <use x=\"63.623047\" xlink:href=\"#DejaVuSans-46\"/>\n       <use x=\"95.410156\" xlink:href=\"#DejaVuSans-48\"/>\n      </g>\n     </g>\n    </g>\n    <g id=\"ytick_4\">\n     <g id=\"line2d_9\">\n      <g>\n       <use style=\"stroke:#000000;stroke-width:0.8;\" x=\"30.103125\" xlink:href=\"#mb1b206484b\" y=\"122.742324\"/>\n      </g>\n     </g>\n     <g id=\"text_9\">\n      <!-- 1.5 -->\n      <g transform=\"translate(7.2 126.541543)scale(0.1 -0.1)\">\n       <use xlink:href=\"#DejaVuSans-49\"/>\n       <use x=\"63.623047\" xlink:href=\"#DejaVuSans-46\"/>\n       <use x=\"95.410156\" xlink:href=\"#DejaVuSans-53\"/>\n      </g>\n     </g>\n    </g>\n    <g id=\"ytick_5\">\n     <g id=\"line2d_10\">\n      <g>\n       <use style=\"stroke:#000000;stroke-width:0.8;\" x=\"30.103125\" xlink:href=\"#mb1b206484b\" y=\"51.386249\"/>\n      </g>\n     </g>\n     <g id=\"text_10\">\n      <!-- 2.0 -->\n      <g transform=\"translate(7.2 55.185468)scale(0.1 -0.1)\">\n       <use xlink:href=\"#DejaVuSans-50\"/>\n       <use x=\"63.623047\" xlink:href=\"#DejaVuSans-46\"/>\n       <use x=\"95.410156\" xlink:href=\"#DejaVuSans-48\"/>\n      </g>\n     </g>\n    </g>\n   </g>\n   <g id=\"line2d_11\">\n    <path clip-path=\"url(#p146c816acb)\" d=\"M 41.632051 25.711839 \nL 51.657203 175.763442 \nL 61.682356 244.347648 \nL 71.707509 266.070667 \nL 81.732661 277.782389 \nL 91.757814 285.531301 \nL 101.782967 289.973211 \nL 111.80812 293.872362 \nL 121.833272 297.261803 \nL 131.858425 299.758418 \nL 141.883578 301.328431 \nL 151.90873 303.695237 \nL 161.933883 305.435096 \nL 171.959036 307.280323 \nL 181.984189 309.249064 \nL 192.009341 310.140371 \nL 202.034494 312.266734 \nL 212.059647 313.755182 \nL 222.084799 314.464287 \nL 232.109952 316.729986 \nL 242.135105 318.0794 \nL 252.160258 318.65923 \nL 262.18541 320.274364 \nL 272.210563 322.22093 \n\" style=\"fill:none;stroke:#0000ff;stroke-linecap:square;stroke-width:1.5;\"/>\n   </g>\n   <g id=\"line2d_12\">\n    <path clip-path=\"url(#p146c816acb)\" d=\"M 41.632051 130.956622 \nL 51.657203 230.694843 \nL 61.682356 259.146325 \nL 71.707509 269.324813 \nL 81.732661 280.062955 \nL 91.757814 268.903121 \nL 101.782967 290.820286 \nL 111.80812 293.610795 \nL 121.833272 294.102996 \nL 131.858425 292.459803 \nL 141.883578 294.286338 \nL 151.90873 297.846618 \nL 161.933883 276.817783 \nL 171.959036 296.90544 \nL 181.984189 296.668504 \nL 192.009341 299.63687 \nL 202.034494 296.498141 \nL 212.059647 295.339651 \nL 222.084799 300.396388 \nL 232.109952 298.479554 \nL 242.135105 298.093074 \nL 252.160258 294.408777 \nL 262.18541 296.492815 \nL 272.210563 299.380565 \n\" style=\"fill:none;stroke:#ff0000;stroke-linecap:square;stroke-width:1.5;\"/>\n   </g>\n   <g id=\"patch_3\">\n    <path d=\"M 30.103125 337.046385 \nL 30.103125 10.886385 \n\" style=\"fill:none;stroke:#000000;stroke-linecap:square;stroke-linejoin:miter;stroke-width:0.8;\"/>\n   </g>\n   <g id=\"patch_4\">\n    <path d=\"M 283.739489 337.046385 \nL 283.739489 10.886385 \n\" style=\"fill:none;stroke:#000000;stroke-linecap:square;stroke-linejoin:miter;stroke-width:0.8;\"/>\n   </g>\n   <g id=\"patch_5\">\n    <path d=\"M 30.103125 337.046385 \nL 283.739489 337.046385 \n\" style=\"fill:none;stroke:#000000;stroke-linecap:square;stroke-linejoin:miter;stroke-width:0.8;\"/>\n   </g>\n   <g id=\"patch_6\">\n    <path d=\"M 30.103125 10.886385 \nL 283.739489 10.886385 \n\" style=\"fill:none;stroke:#000000;stroke-linecap:square;stroke-linejoin:miter;stroke-width:0.8;\"/>\n   </g>\n   <g id=\"legend_1\">\n    <g id=\"patch_7\">\n     <path d=\"M 220.787926 48.242635 \nL 276.739489 48.242635 \nQ 278.739489 48.242635 278.739489 46.242635 \nL 278.739489 17.886385 \nQ 278.739489 15.886385 276.739489 15.886385 \nL 220.787926 15.886385 \nQ 218.787926 15.886385 218.787926 17.886385 \nL 218.787926 46.242635 \nQ 218.787926 48.242635 220.787926 48.242635 \nz\n\" style=\"fill:#ffffff;opacity:0.8;stroke:#cccccc;stroke-linejoin:miter;\"/>\n    </g>\n    <g id=\"line2d_13\">\n     <path d=\"M 222.787926 23.984822 \nL 242.787926 23.984822 \n\" style=\"fill:none;stroke:#0000ff;stroke-linecap:square;stroke-width:1.5;\"/>\n    </g>\n    <g id=\"line2d_14\"/>\n    <g id=\"text_11\">\n     <!-- train -->\n     <g transform=\"translate(250.787926 27.484822)scale(0.1 -0.1)\">\n      <defs>\n       <path d=\"M 18.3125 70.21875 \nL 18.3125 54.6875 \nL 36.8125 54.6875 \nL 36.8125 47.703125 \nL 18.3125 47.703125 \nL 18.3125 18.015625 \nQ 18.3125 11.328125 20.140625 9.421875 \nQ 21.96875 7.515625 27.59375 7.515625 \nL 36.8125 7.515625 \nL 36.8125 0 \nL 27.59375 0 \nQ 17.1875 0 13.234375 3.875 \nQ 9.28125 7.765625 9.28125 18.015625 \nL 9.28125 47.703125 \nL 2.6875 47.703125 \nL 2.6875 54.6875 \nL 9.28125 54.6875 \nL 9.28125 70.21875 \nz\n\" id=\"DejaVuSans-116\"/>\n       <path d=\"M 41.109375 46.296875 \nQ 39.59375 47.171875 37.8125 47.578125 \nQ 36.03125 48 33.890625 48 \nQ 26.265625 48 22.1875 43.046875 \nQ 18.109375 38.09375 18.109375 28.8125 \nL 18.109375 0 \nL 9.078125 0 \nL 9.078125 54.6875 \nL 18.109375 54.6875 \nL 18.109375 46.1875 \nQ 20.953125 51.171875 25.484375 53.578125 \nQ 30.03125 56 36.53125 56 \nQ 37.453125 56 38.578125 55.875 \nQ 39.703125 55.765625 41.0625 55.515625 \nz\n\" id=\"DejaVuSans-114\"/>\n       <path d=\"M 34.28125 27.484375 \nQ 23.390625 27.484375 19.1875 25 \nQ 14.984375 22.515625 14.984375 16.5 \nQ 14.984375 11.71875 18.140625 8.90625 \nQ 21.296875 6.109375 26.703125 6.109375 \nQ 34.1875 6.109375 38.703125 11.40625 \nQ 43.21875 16.703125 43.21875 25.484375 \nL 43.21875 27.484375 \nz\nM 52.203125 31.203125 \nL 52.203125 0 \nL 43.21875 0 \nL 43.21875 8.296875 \nQ 40.140625 3.328125 35.546875 0.953125 \nQ 30.953125 -1.421875 24.3125 -1.421875 \nQ 15.921875 -1.421875 10.953125 3.296875 \nQ 6 8.015625 6 15.921875 \nQ 6 25.140625 12.171875 29.828125 \nQ 18.359375 34.515625 30.609375 34.515625 \nL 43.21875 34.515625 \nL 43.21875 35.40625 \nQ 43.21875 41.609375 39.140625 45 \nQ 35.0625 48.390625 27.6875 48.390625 \nQ 23 48.390625 18.546875 47.265625 \nQ 14.109375 46.140625 10.015625 43.890625 \nL 10.015625 52.203125 \nQ 14.9375 54.109375 19.578125 55.046875 \nQ 24.21875 56 28.609375 56 \nQ 40.484375 56 46.34375 49.84375 \nQ 52.203125 43.703125 52.203125 31.203125 \nz\n\" id=\"DejaVuSans-97\"/>\n       <path d=\"M 9.421875 54.6875 \nL 18.40625 54.6875 \nL 18.40625 0 \nL 9.421875 0 \nz\nM 9.421875 75.984375 \nL 18.40625 75.984375 \nL 18.40625 64.59375 \nL 9.421875 64.59375 \nz\n\" id=\"DejaVuSans-105\"/>\n       <path d=\"M 54.890625 33.015625 \nL 54.890625 0 \nL 45.90625 0 \nL 45.90625 32.71875 \nQ 45.90625 40.484375 42.875 44.328125 \nQ 39.84375 48.1875 33.796875 48.1875 \nQ 26.515625 48.1875 22.3125 43.546875 \nQ 18.109375 38.921875 18.109375 30.90625 \nL 18.109375 0 \nL 9.078125 0 \nL 9.078125 54.6875 \nL 18.109375 54.6875 \nL 18.109375 46.1875 \nQ 21.34375 51.125 25.703125 53.5625 \nQ 30.078125 56 35.796875 56 \nQ 45.21875 56 50.046875 50.171875 \nQ 54.890625 44.34375 54.890625 33.015625 \nz\n\" id=\"DejaVuSans-110\"/>\n      </defs>\n      <use xlink:href=\"#DejaVuSans-116\"/>\n      <use x=\"39.208984\" xlink:href=\"#DejaVuSans-114\"/>\n      <use x=\"80.322266\" xlink:href=\"#DejaVuSans-97\"/>\n      <use x=\"141.601562\" xlink:href=\"#DejaVuSans-105\"/>\n      <use x=\"169.384766\" xlink:href=\"#DejaVuSans-110\"/>\n     </g>\n    </g>\n    <g id=\"line2d_15\">\n     <path d=\"M 222.787926 38.662947 \nL 242.787926 38.662947 \n\" style=\"fill:none;stroke:#ff0000;stroke-linecap:square;stroke-width:1.5;\"/>\n    </g>\n    <g id=\"line2d_16\"/>\n    <g id=\"text_12\">\n     <!-- valid -->\n     <g transform=\"translate(250.787926 42.162947)scale(0.1 -0.1)\">\n      <defs>\n       <path d=\"M 2.984375 54.6875 \nL 12.5 54.6875 \nL 29.59375 8.796875 \nL 46.6875 54.6875 \nL 56.203125 54.6875 \nL 35.6875 0 \nL 23.484375 0 \nz\n\" id=\"DejaVuSans-118\"/>\n       <path d=\"M 9.421875 75.984375 \nL 18.40625 75.984375 \nL 18.40625 0 \nL 9.421875 0 \nz\n\" id=\"DejaVuSans-108\"/>\n       <path d=\"M 45.40625 46.390625 \nL 45.40625 75.984375 \nL 54.390625 75.984375 \nL 54.390625 0 \nL 45.40625 0 \nL 45.40625 8.203125 \nQ 42.578125 3.328125 38.25 0.953125 \nQ 33.9375 -1.421875 27.875 -1.421875 \nQ 17.96875 -1.421875 11.734375 6.484375 \nQ 5.515625 14.40625 5.515625 27.296875 \nQ 5.515625 40.1875 11.734375 48.09375 \nQ 17.96875 56 27.875 56 \nQ 33.9375 56 38.25 53.625 \nQ 42.578125 51.265625 45.40625 46.390625 \nz\nM 14.796875 27.296875 \nQ 14.796875 17.390625 18.875 11.75 \nQ 22.953125 6.109375 30.078125 6.109375 \nQ 37.203125 6.109375 41.296875 11.75 \nQ 45.40625 17.390625 45.40625 27.296875 \nQ 45.40625 37.203125 41.296875 42.84375 \nQ 37.203125 48.484375 30.078125 48.484375 \nQ 22.953125 48.484375 18.875 42.84375 \nQ 14.796875 37.203125 14.796875 27.296875 \nz\n\" id=\"DejaVuSans-100\"/>\n      </defs>\n      <use xlink:href=\"#DejaVuSans-118\"/>\n      <use x=\"59.179688\" xlink:href=\"#DejaVuSans-97\"/>\n      <use x=\"120.458984\" xlink:href=\"#DejaVuSans-108\"/>\n      <use x=\"148.242188\" xlink:href=\"#DejaVuSans-105\"/>\n      <use x=\"176.025391\" xlink:href=\"#DejaVuSans-100\"/>\n     </g>\n    </g>\n   </g>\n  </g>\n  <g id=\"axes_2\">\n   <g id=\"patch_8\">\n    <path d=\"M 334.466761 337.046385 \nL 588.103125 337.046385 \nL 588.103125 10.886385 \nL 334.466761 10.886385 \nz\n\" style=\"fill:#ffffff;\"/>\n   </g>\n   <g id=\"matplotlib.axis_3\">\n    <g id=\"xtick_6\">\n     <g id=\"line2d_17\">\n      <g>\n       <use style=\"stroke:#000000;stroke-width:0.8;\" x=\"345.995687\" xlink:href=\"#ma4725a7595\" y=\"337.046385\"/>\n      </g>\n     </g>\n     <g id=\"text_13\">\n      <!-- 0 -->\n      <g transform=\"translate(342.814437 351.644822)scale(0.1 -0.1)\">\n       <use xlink:href=\"#DejaVuSans-48\"/>\n      </g>\n     </g>\n    </g>\n    <g id=\"xtick_7\">\n     <g id=\"line2d_18\">\n      <g>\n       <use style=\"stroke:#000000;stroke-width:0.8;\" x=\"396.121451\" xlink:href=\"#ma4725a7595\" y=\"337.046385\"/>\n      </g>\n     </g>\n     <g id=\"text_14\">\n      <!-- 5 -->\n      <g transform=\"translate(392.940201 351.644822)scale(0.1 -0.1)\">\n       <use xlink:href=\"#DejaVuSans-53\"/>\n      </g>\n     </g>\n    </g>\n    <g id=\"xtick_8\">\n     <g id=\"line2d_19\">\n      <g>\n       <use style=\"stroke:#000000;stroke-width:0.8;\" x=\"446.247214\" xlink:href=\"#ma4725a7595\" y=\"337.046385\"/>\n      </g>\n     </g>\n     <g id=\"text_15\">\n      <!-- 10 -->\n      <g transform=\"translate(439.884714 351.644822)scale(0.1 -0.1)\">\n       <use xlink:href=\"#DejaVuSans-49\"/>\n       <use x=\"63.623047\" xlink:href=\"#DejaVuSans-48\"/>\n      </g>\n     </g>\n    </g>\n    <g id=\"xtick_9\">\n     <g id=\"line2d_20\">\n      <g>\n       <use style=\"stroke:#000000;stroke-width:0.8;\" x=\"496.372978\" xlink:href=\"#ma4725a7595\" y=\"337.046385\"/>\n      </g>\n     </g>\n     <g id=\"text_16\">\n      <!-- 15 -->\n      <g transform=\"translate(490.010478 351.644822)scale(0.1 -0.1)\">\n       <use xlink:href=\"#DejaVuSans-49\"/>\n       <use x=\"63.623047\" xlink:href=\"#DejaVuSans-53\"/>\n      </g>\n     </g>\n    </g>\n    <g id=\"xtick_10\">\n     <g id=\"line2d_21\">\n      <g>\n       <use style=\"stroke:#000000;stroke-width:0.8;\" x=\"546.498741\" xlink:href=\"#ma4725a7595\" y=\"337.046385\"/>\n      </g>\n     </g>\n     <g id=\"text_17\">\n      <!-- 20 -->\n      <g transform=\"translate(540.136241 351.644822)scale(0.1 -0.1)\">\n       <use xlink:href=\"#DejaVuSans-50\"/>\n       <use x=\"63.623047\" xlink:href=\"#DejaVuSans-48\"/>\n      </g>\n     </g>\n    </g>\n   </g>\n   <g id=\"matplotlib.axis_4\">\n    <g id=\"ytick_6\">\n     <g id=\"line2d_22\">\n      <g>\n       <use style=\"stroke:#000000;stroke-width:0.8;\" x=\"334.466761\" xlink:href=\"#mb1b206484b\" y=\"319.38602\"/>\n      </g>\n     </g>\n     <g id=\"text_18\">\n      <!-- 0.2 -->\n      <g transform=\"translate(311.563636 323.185239)scale(0.1 -0.1)\">\n       <use xlink:href=\"#DejaVuSans-48\"/>\n       <use x=\"63.623047\" xlink:href=\"#DejaVuSans-46\"/>\n       <use x=\"95.410156\" xlink:href=\"#DejaVuSans-50\"/>\n      </g>\n     </g>\n    </g>\n    <g id=\"ytick_7\">\n     <g id=\"line2d_23\">\n      <g>\n       <use style=\"stroke:#000000;stroke-width:0.8;\" x=\"334.466761\" xlink:href=\"#mb1b206484b\" y=\"280.83767\"/>\n      </g>\n     </g>\n     <g id=\"text_19\">\n      <!-- 0.3 -->\n      <g transform=\"translate(311.563636 284.636889)scale(0.1 -0.1)\">\n       <defs>\n        <path d=\"M 40.578125 39.3125 \nQ 47.65625 37.796875 51.625 33 \nQ 55.609375 28.21875 55.609375 21.1875 \nQ 55.609375 10.40625 48.1875 4.484375 \nQ 40.765625 -1.421875 27.09375 -1.421875 \nQ 22.515625 -1.421875 17.65625 -0.515625 \nQ 12.796875 0.390625 7.625 2.203125 \nL 7.625 11.71875 \nQ 11.71875 9.328125 16.59375 8.109375 \nQ 21.484375 6.890625 26.8125 6.890625 \nQ 36.078125 6.890625 40.9375 10.546875 \nQ 45.796875 14.203125 45.796875 21.1875 \nQ 45.796875 27.640625 41.28125 31.265625 \nQ 36.765625 34.90625 28.71875 34.90625 \nL 20.21875 34.90625 \nL 20.21875 43.015625 \nL 29.109375 43.015625 \nQ 36.375 43.015625 40.234375 45.921875 \nQ 44.09375 48.828125 44.09375 54.296875 \nQ 44.09375 59.90625 40.109375 62.90625 \nQ 36.140625 65.921875 28.71875 65.921875 \nQ 24.65625 65.921875 20.015625 65.03125 \nQ 15.375 64.15625 9.8125 62.3125 \nL 9.8125 71.09375 \nQ 15.4375 72.65625 20.34375 73.4375 \nQ 25.25 74.21875 29.59375 74.21875 \nQ 40.828125 74.21875 47.359375 69.109375 \nQ 53.90625 64.015625 53.90625 55.328125 \nQ 53.90625 49.265625 50.4375 45.09375 \nQ 46.96875 40.921875 40.578125 39.3125 \nz\n\" id=\"DejaVuSans-51\"/>\n       </defs>\n       <use xlink:href=\"#DejaVuSans-48\"/>\n       <use x=\"63.623047\" xlink:href=\"#DejaVuSans-46\"/>\n       <use x=\"95.410156\" xlink:href=\"#DejaVuSans-51\"/>\n      </g>\n     </g>\n    </g>\n    <g id=\"ytick_8\">\n     <g id=\"line2d_24\">\n      <g>\n       <use style=\"stroke:#000000;stroke-width:0.8;\" x=\"334.466761\" xlink:href=\"#mb1b206484b\" y=\"242.28932\"/>\n      </g>\n     </g>\n     <g id=\"text_20\">\n      <!-- 0.4 -->\n      <g transform=\"translate(311.563636 246.088538)scale(0.1 -0.1)\">\n       <defs>\n        <path d=\"M 37.796875 64.3125 \nL 12.890625 25.390625 \nL 37.796875 25.390625 \nz\nM 35.203125 72.90625 \nL 47.609375 72.90625 \nL 47.609375 25.390625 \nL 58.015625 25.390625 \nL 58.015625 17.1875 \nL 47.609375 17.1875 \nL 47.609375 0 \nL 37.796875 0 \nL 37.796875 17.1875 \nL 4.890625 17.1875 \nL 4.890625 26.703125 \nz\n\" id=\"DejaVuSans-52\"/>\n       </defs>\n       <use xlink:href=\"#DejaVuSans-48\"/>\n       <use x=\"63.623047\" xlink:href=\"#DejaVuSans-46\"/>\n       <use x=\"95.410156\" xlink:href=\"#DejaVuSans-52\"/>\n      </g>\n     </g>\n    </g>\n    <g id=\"ytick_9\">\n     <g id=\"line2d_25\">\n      <g>\n       <use style=\"stroke:#000000;stroke-width:0.8;\" x=\"334.466761\" xlink:href=\"#mb1b206484b\" y=\"203.74097\"/>\n      </g>\n     </g>\n     <g id=\"text_21\">\n      <!-- 0.5 -->\n      <g transform=\"translate(311.563636 207.540188)scale(0.1 -0.1)\">\n       <use xlink:href=\"#DejaVuSans-48\"/>\n       <use x=\"63.623047\" xlink:href=\"#DejaVuSans-46\"/>\n       <use x=\"95.410156\" xlink:href=\"#DejaVuSans-53\"/>\n      </g>\n     </g>\n    </g>\n    <g id=\"ytick_10\">\n     <g id=\"line2d_26\">\n      <g>\n       <use style=\"stroke:#000000;stroke-width:0.8;\" x=\"334.466761\" xlink:href=\"#mb1b206484b\" y=\"165.192619\"/>\n      </g>\n     </g>\n     <g id=\"text_22\">\n      <!-- 0.6 -->\n      <g transform=\"translate(311.563636 168.991838)scale(0.1 -0.1)\">\n       <defs>\n        <path d=\"M 33.015625 40.375 \nQ 26.375 40.375 22.484375 35.828125 \nQ 18.609375 31.296875 18.609375 23.390625 \nQ 18.609375 15.53125 22.484375 10.953125 \nQ 26.375 6.390625 33.015625 6.390625 \nQ 39.65625 6.390625 43.53125 10.953125 \nQ 47.40625 15.53125 47.40625 23.390625 \nQ 47.40625 31.296875 43.53125 35.828125 \nQ 39.65625 40.375 33.015625 40.375 \nz\nM 52.59375 71.296875 \nL 52.59375 62.3125 \nQ 48.875 64.0625 45.09375 64.984375 \nQ 41.3125 65.921875 37.59375 65.921875 \nQ 27.828125 65.921875 22.671875 59.328125 \nQ 17.53125 52.734375 16.796875 39.40625 \nQ 19.671875 43.65625 24.015625 45.921875 \nQ 28.375 48.1875 33.59375 48.1875 \nQ 44.578125 48.1875 50.953125 41.515625 \nQ 57.328125 34.859375 57.328125 23.390625 \nQ 57.328125 12.15625 50.6875 5.359375 \nQ 44.046875 -1.421875 33.015625 -1.421875 \nQ 20.359375 -1.421875 13.671875 8.265625 \nQ 6.984375 17.96875 6.984375 36.375 \nQ 6.984375 53.65625 15.1875 63.9375 \nQ 23.390625 74.21875 37.203125 74.21875 \nQ 40.921875 74.21875 44.703125 73.484375 \nQ 48.484375 72.75 52.59375 71.296875 \nz\n\" id=\"DejaVuSans-54\"/>\n       </defs>\n       <use xlink:href=\"#DejaVuSans-48\"/>\n       <use x=\"63.623047\" xlink:href=\"#DejaVuSans-46\"/>\n       <use x=\"95.410156\" xlink:href=\"#DejaVuSans-54\"/>\n      </g>\n     </g>\n    </g>\n    <g id=\"ytick_11\">\n     <g id=\"line2d_27\">\n      <g>\n       <use style=\"stroke:#000000;stroke-width:0.8;\" x=\"334.466761\" xlink:href=\"#mb1b206484b\" y=\"126.644269\"/>\n      </g>\n     </g>\n     <g id=\"text_23\">\n      <!-- 0.7 -->\n      <g transform=\"translate(311.563636 130.443488)scale(0.1 -0.1)\">\n       <defs>\n        <path d=\"M 8.203125 72.90625 \nL 55.078125 72.90625 \nL 55.078125 68.703125 \nL 28.609375 0 \nL 18.3125 0 \nL 43.21875 64.59375 \nL 8.203125 64.59375 \nz\n\" id=\"DejaVuSans-55\"/>\n       </defs>\n       <use xlink:href=\"#DejaVuSans-48\"/>\n       <use x=\"63.623047\" xlink:href=\"#DejaVuSans-46\"/>\n       <use x=\"95.410156\" xlink:href=\"#DejaVuSans-55\"/>\n      </g>\n     </g>\n    </g>\n    <g id=\"ytick_12\">\n     <g id=\"line2d_28\">\n      <g>\n       <use style=\"stroke:#000000;stroke-width:0.8;\" x=\"334.466761\" xlink:href=\"#mb1b206484b\" y=\"88.095919\"/>\n      </g>\n     </g>\n     <g id=\"text_24\">\n      <!-- 0.8 -->\n      <g transform=\"translate(311.563636 91.895138)scale(0.1 -0.1)\">\n       <defs>\n        <path d=\"M 31.78125 34.625 \nQ 24.75 34.625 20.71875 30.859375 \nQ 16.703125 27.09375 16.703125 20.515625 \nQ 16.703125 13.921875 20.71875 10.15625 \nQ 24.75 6.390625 31.78125 6.390625 \nQ 38.8125 6.390625 42.859375 10.171875 \nQ 46.921875 13.96875 46.921875 20.515625 \nQ 46.921875 27.09375 42.890625 30.859375 \nQ 38.875 34.625 31.78125 34.625 \nz\nM 21.921875 38.8125 \nQ 15.578125 40.375 12.03125 44.71875 \nQ 8.5 49.078125 8.5 55.328125 \nQ 8.5 64.0625 14.71875 69.140625 \nQ 20.953125 74.21875 31.78125 74.21875 \nQ 42.671875 74.21875 48.875 69.140625 \nQ 55.078125 64.0625 55.078125 55.328125 \nQ 55.078125 49.078125 51.53125 44.71875 \nQ 48 40.375 41.703125 38.8125 \nQ 48.828125 37.15625 52.796875 32.3125 \nQ 56.78125 27.484375 56.78125 20.515625 \nQ 56.78125 9.90625 50.3125 4.234375 \nQ 43.84375 -1.421875 31.78125 -1.421875 \nQ 19.734375 -1.421875 13.25 4.234375 \nQ 6.78125 9.90625 6.78125 20.515625 \nQ 6.78125 27.484375 10.78125 32.3125 \nQ 14.796875 37.15625 21.921875 38.8125 \nz\nM 18.3125 54.390625 \nQ 18.3125 48.734375 21.84375 45.5625 \nQ 25.390625 42.390625 31.78125 42.390625 \nQ 38.140625 42.390625 41.71875 45.5625 \nQ 45.3125 48.734375 45.3125 54.390625 \nQ 45.3125 60.0625 41.71875 63.234375 \nQ 38.140625 66.40625 31.78125 66.40625 \nQ 25.390625 66.40625 21.84375 63.234375 \nQ 18.3125 60.0625 18.3125 54.390625 \nz\n\" id=\"DejaVuSans-56\"/>\n       </defs>\n       <use xlink:href=\"#DejaVuSans-48\"/>\n       <use x=\"63.623047\" xlink:href=\"#DejaVuSans-46\"/>\n       <use x=\"95.410156\" xlink:href=\"#DejaVuSans-56\"/>\n      </g>\n     </g>\n    </g>\n    <g id=\"ytick_13\">\n     <g id=\"line2d_29\">\n      <g>\n       <use style=\"stroke:#000000;stroke-width:0.8;\" x=\"334.466761\" xlink:href=\"#mb1b206484b\" y=\"49.547569\"/>\n      </g>\n     </g>\n     <g id=\"text_25\">\n      <!-- 0.9 -->\n      <g transform=\"translate(311.563636 53.346788)scale(0.1 -0.1)\">\n       <defs>\n        <path d=\"M 10.984375 1.515625 \nL 10.984375 10.5 \nQ 14.703125 8.734375 18.5 7.8125 \nQ 22.3125 6.890625 25.984375 6.890625 \nQ 35.75 6.890625 40.890625 13.453125 \nQ 46.046875 20.015625 46.78125 33.40625 \nQ 43.953125 29.203125 39.59375 26.953125 \nQ 35.25 24.703125 29.984375 24.703125 \nQ 19.046875 24.703125 12.671875 31.3125 \nQ 6.296875 37.9375 6.296875 49.421875 \nQ 6.296875 60.640625 12.9375 67.421875 \nQ 19.578125 74.21875 30.609375 74.21875 \nQ 43.265625 74.21875 49.921875 64.515625 \nQ 56.59375 54.828125 56.59375 36.375 \nQ 56.59375 19.140625 48.40625 8.859375 \nQ 40.234375 -1.421875 26.421875 -1.421875 \nQ 22.703125 -1.421875 18.890625 -0.6875 \nQ 15.09375 0.046875 10.984375 1.515625 \nz\nM 30.609375 32.421875 \nQ 37.25 32.421875 41.125 36.953125 \nQ 45.015625 41.5 45.015625 49.421875 \nQ 45.015625 57.28125 41.125 61.84375 \nQ 37.25 66.40625 30.609375 66.40625 \nQ 23.96875 66.40625 20.09375 61.84375 \nQ 16.21875 57.28125 16.21875 49.421875 \nQ 16.21875 41.5 20.09375 36.953125 \nQ 23.96875 32.421875 30.609375 32.421875 \nz\n\" id=\"DejaVuSans-57\"/>\n       </defs>\n       <use xlink:href=\"#DejaVuSans-48\"/>\n       <use x=\"63.623047\" xlink:href=\"#DejaVuSans-46\"/>\n       <use x=\"95.410156\" xlink:href=\"#DejaVuSans-57\"/>\n      </g>\n     </g>\n    </g>\n    <g id=\"ytick_14\">\n     <g id=\"line2d_30\">\n      <g>\n       <use style=\"stroke:#000000;stroke-width:0.8;\" x=\"334.466761\" xlink:href=\"#mb1b206484b\" y=\"10.999219\"/>\n      </g>\n     </g>\n     <g id=\"text_26\">\n      <!-- 1.0 -->\n      <g transform=\"translate(311.563636 14.798437)scale(0.1 -0.1)\">\n       <use xlink:href=\"#DejaVuSans-49\"/>\n       <use x=\"63.623047\" xlink:href=\"#DejaVuSans-46\"/>\n       <use x=\"95.410156\" xlink:href=\"#DejaVuSans-48\"/>\n      </g>\n     </g>\n    </g>\n   </g>\n   <g id=\"line2d_31\">\n    <path clip-path=\"url(#pfdd77afeee)\" d=\"M 345.995687 322.22093 \nL 356.02084 192.473608 \nL 366.045992 108.237432 \nL 376.071145 83.823477 \nL 386.096298 70.612636 \nL 396.121451 62.252463 \nL 406.146603 57.88365 \nL 416.171756 54.229587 \nL 426.196909 50.704019 \nL 436.222061 48.31884 \nL 446.247214 46.487794 \nL 456.272367 44.656747 \nL 466.29752 42.745391 \nL 476.322672 40.745696 \nL 486.347825 38.489011 \nL 496.372978 37.758198 \nL 506.39813 35.324834 \nL 516.423283 34.288847 \nL 526.448436 33.397416 \nL 536.473589 30.964052 \nL 546.498741 29.542581 \nL 556.523894 29.558643 \nL 566.549047 27.639257 \nL 576.574199 25.711839 \n\" style=\"fill:none;stroke:#0000ff;stroke-linecap:square;stroke-width:1.5;\"/>\n   </g>\n   <g id=\"line2d_32\">\n    <path clip-path=\"url(#pfdd77afeee)\" d=\"M 345.995687 233.648065 \nL 356.02084 117.232047 \nL 366.045992 94.745509 \nL 376.071145 84.080466 \nL 386.096298 66.57309 \nL 396.121451 73.576041 \nL 406.146603 56.679014 \nL 416.171756 54.333989 \nL 426.196909 52.245953 \nL 436.222061 53.72364 \nL 446.247214 53.049044 \nL 456.272367 49.386951 \nL 466.29752 65.994865 \nL 476.322672 49.868805 \nL 486.347825 49.836682 \nL 496.372978 45.981847 \nL 506.39813 49.451198 \nL 516.423283 48.551737 \nL 526.448436 44.407789 \nL 536.473589 47.298915 \nL 546.498741 46.688566 \nL 556.523894 45.050261 \nL 566.549047 45.114509 \nL 576.574199 42.480371 \n\" style=\"fill:none;stroke:#ff0000;stroke-linecap:square;stroke-width:1.5;\"/>\n   </g>\n   <g id=\"patch_9\">\n    <path d=\"M 334.466761 337.046385 \nL 334.466761 10.886385 \n\" style=\"fill:none;stroke:#000000;stroke-linecap:square;stroke-linejoin:miter;stroke-width:0.8;\"/>\n   </g>\n   <g id=\"patch_10\">\n    <path d=\"M 588.103125 337.046385 \nL 588.103125 10.886385 \n\" style=\"fill:none;stroke:#000000;stroke-linecap:square;stroke-linejoin:miter;stroke-width:0.8;\"/>\n   </g>\n   <g id=\"patch_11\">\n    <path d=\"M 334.466761 337.046385 \nL 588.103125 337.046385 \n\" style=\"fill:none;stroke:#000000;stroke-linecap:square;stroke-linejoin:miter;stroke-width:0.8;\"/>\n   </g>\n   <g id=\"patch_12\">\n    <path d=\"M 334.466761 10.886385 \nL 588.103125 10.886385 \n\" style=\"fill:none;stroke:#000000;stroke-linecap:square;stroke-linejoin:miter;stroke-width:0.8;\"/>\n   </g>\n   <g id=\"legend_2\">\n    <g id=\"patch_13\">\n     <path d=\"M 341.466761 48.242635 \nL 397.418324 48.242635 \nQ 399.418324 48.242635 399.418324 46.242635 \nL 399.418324 17.886385 \nQ 399.418324 15.886385 397.418324 15.886385 \nL 341.466761 15.886385 \nQ 339.466761 15.886385 339.466761 17.886385 \nL 339.466761 46.242635 \nQ 339.466761 48.242635 341.466761 48.242635 \nz\n\" style=\"fill:#ffffff;opacity:0.8;stroke:#cccccc;stroke-linejoin:miter;\"/>\n    </g>\n    <g id=\"line2d_33\">\n     <path d=\"M 343.466761 23.984822 \nL 363.466761 23.984822 \n\" style=\"fill:none;stroke:#0000ff;stroke-linecap:square;stroke-width:1.5;\"/>\n    </g>\n    <g id=\"line2d_34\"/>\n    <g id=\"text_27\">\n     <!-- train -->\n     <g transform=\"translate(371.466761 27.484822)scale(0.1 -0.1)\">\n      <use xlink:href=\"#DejaVuSans-116\"/>\n      <use x=\"39.208984\" xlink:href=\"#DejaVuSans-114\"/>\n      <use x=\"80.322266\" xlink:href=\"#DejaVuSans-97\"/>\n      <use x=\"141.601562\" xlink:href=\"#DejaVuSans-105\"/>\n      <use x=\"169.384766\" xlink:href=\"#DejaVuSans-110\"/>\n     </g>\n    </g>\n    <g id=\"line2d_35\">\n     <path d=\"M 343.466761 38.662947 \nL 363.466761 38.662947 \n\" style=\"fill:none;stroke:#ff0000;stroke-linecap:square;stroke-width:1.5;\"/>\n    </g>\n    <g id=\"line2d_36\"/>\n    <g id=\"text_28\">\n     <!-- valid -->\n     <g transform=\"translate(371.466761 42.162947)scale(0.1 -0.1)\">\n      <use xlink:href=\"#DejaVuSans-118\"/>\n      <use x=\"59.179688\" xlink:href=\"#DejaVuSans-97\"/>\n      <use x=\"120.458984\" xlink:href=\"#DejaVuSans-108\"/>\n      <use x=\"148.242188\" xlink:href=\"#DejaVuSans-105\"/>\n      <use x=\"176.025391\" xlink:href=\"#DejaVuSans-100\"/>\n     </g>\n    </g>\n   </g>\n  </g>\n </g>\n <defs>\n  <clipPath id=\"p146c816acb\">\n   <rect height=\"326.16\" width=\"253.636364\" x=\"30.103125\" y=\"10.886385\"/>\n  </clipPath>\n  <clipPath id=\"pfdd77afeee\">\n   <rect height=\"326.16\" width=\"253.636364\" x=\"334.466761\" y=\"10.886385\"/>\n  </clipPath>\n </defs>\n</svg>\n",
      "image/png": "[encoded data removed]"
     },
     "metadata": {
      "needs_background": "light"
     }
    }
   ],
   "source": [
    "#Q8: VGG\n",
    "EPOCH_NUM = 100\n",
    "TRAIN_BATCH_SIZE = 256\n",
    "VALID_BATCH_SIZE = 256\n",
    "TEST_BATCH_SIZE = 256\n",
    "device = f\"cuda:{0}\" if torch.cuda.is_available() else \"cpu\"\n",
    "\n",
    "transform = transforms.Compose(\n",
    "    [transforms.ToTensor()])\n",
    "\n",
    "train_dl, test_dl, valid_dl = create_dataloader('MNIST', transform, valid=True)\n",
    "\n",
    "model = models.vgg11()\n",
    "model.features[0] = nn.Conv2d(1, 64, kernel_size=(3, 3), stride=(1, 1), padding=(1, 1))\n",
    "model.features[11] = nn.Conv2d(256, 256, kernel_size=(3, 3), stride=(1, 1), padding=(1, 1))\n",
    "model.features[13] = nn.Conv2d(256, 256, kernel_size=(3, 3), stride=(1, 1), padding=(1, 1))\n",
    "for i in range(16,21):\n",
    "    model.features[i] = nn.Sequential()\n",
    "model.classifier[0] = nn.Linear(in_features=12544, out_features=4096, bias=True) \n",
    "model.classifier[6] = nn.Linear(in_features=4096, out_features=10, bias=True)\n",
    "model.to(device)\n",
    "criterion = nn.CrossEntropyLoss()\n",
    "optimizer = optim.SGD(model.parameters(), lr=0.1)\n",
    "\n",
    "train_loss_list, test_loss_list, train_accuracy_list, test_accuracy_list = train(model, train_dl, test_dl, EPOCH_NUM, device, criterion, optimizer, valid_dl=valid_dl)\n",
    "\n",
    "fig= plt.figure(figsize=(10.0, 6.0))\n",
    "ax1 = fig.add_subplot(1,2,1)\n",
    "ax1.plot(train_loss_list, 'b', label='train')\n",
    "ax1.plot(test_loss_list, 'r', label='valid')\n",
    "ax1.legend()\n",
    "\n",
    "ax2 = fig.add_subplot(1,2,2)\n",
    "ax2.plot(train_accuracy_list, 'b', label='train')\n",
    "ax2.plot(test_accuracy_list, 'r', label='valid')\n",
    "ax2.legend()\n",
    "plt.show()\n",
    "\n"
   ]
  },
  {
   "cell_type": "code",
   "execution_count": null,
   "metadata": {},
   "outputs": [],
   "source": []
  }
 ]
}