{
 "metadata": {
  "language_info": {
   "codemirror_mode": {
    "name": "ipython",
    "version": 3
   },
   "file_extension": ".py",
   "mimetype": "text/x-python",
   "name": "python",
   "nbconvert_exporter": "python",
   "pygments_lexer": "ipython3",
   "version": "3.6.9"
  },
  "orig_nbformat": 2,
  "kernelspec": {
   "name": "python369jvsc74a57bd069c6a8e41a651795dc9598813b7df1e5445214c312f5f54441335b89e4e344cf",
   "display_name": "Python 3.6.9 64-bit ('rinkovenv': venv)"
  }
 },
 "nbformat": 4,
 "nbformat_minor": 2,
 "cells": [
  {
   "cell_type": "code",
   "execution_count": 1,
   "metadata": {},
   "outputs": [],
   "source": [
    "import torch\n",
    "import sklearn\n",
    "import sys\n",
    "from tqdm import tqdm_notebook as tqdm\n",
    "import random\n",
    "import numpy as np\n",
    "from torch.utils.data import Dataset, Subset\n",
    "from torch.utils.data import TensorDataset, DataLoader\n",
    "import torch.backends.cudnn as cudnn\n",
    "from torch import nn\n",
    "import torch.optim as optim\n",
    "from sklearn.metrics import confusion_matrix\n",
    "from tqdm import tqdm_notebook\n",
    "from torchvision import datasets, transforms\n",
    "from sklearn.model_selection import train_test_split\n",
    "import matplotlib.pyplot as plt"
   ]
  },
  {
   "cell_type": "code",
   "execution_count": null,
   "metadata": {},
   "outputs": [],
   "source": [
    "# make dataloader\n",
    "def create_dataloader(dataset_name, transform, valid=False):\n",
    "    test_dl, valid_dl = None, None\n",
    "\n",
    "    if dataset_name == 'MNIST':\n",
    "        train_datasets = datasets.FashionMNIST(root='../datasets', train=True, download=True, transform=transform)\n",
    "        if valid:\n",
    "            n_samples = len(train_datasets)\n",
    "            train_size = int(n_samples * 0.8)\n",
    "            subset1_indices = list(range(0,train_size))\n",
    "            subset2_indices = list(range(train_size,n_samples))\n",
    "\n",
    "            train_dataset = Subset(train_datasets, subset1_indices)\n",
    "            valid_dataset = Subset(train_datasets, subset2_indices)\n",
    "\n",
    "            train_dl = DataLoader(train_dataset, batch_size=TRAIN_BATCH_SIZE, shuffle=True)\n",
    "            valid_dl = DataLoader(valid_dataset, batch_size=VALID_BATCH_SIZE, shuffle=False)\n",
    "        else:\n",
    "            train_dl = DataLoader(train_datasets,   batch_size=TRAIN_BATCH_SIZE, shuffle=True)\n",
    "\n",
    "        test_dataset = datasets.FashionMNIST(root='../datasets', train=False, download=True, transform=transform)\n",
    "        test_dl = DataLoader(test_dataset, batch_size=TEST_BATCH_SIZE, shuffle=False)\n",
    "    \n",
    "    return train_dl, test_dl, valid_dl\n",
    "\n"
   ]
  },
  {
   "cell_type": "code",
   "execution_count": null,
   "metadata": {},
   "outputs": [],
   "source": [
    "def myConv2D(data, num=True, kernel_size, edge, padding=0, stride=1):\n",
    "   p = padding\n",
    "   s = stride\n",
    "\n",
    "    if num:\n",
    "    else:\n",
    "        conv = nn.Conv2d(in_channels, out_channels, kernel_size, stride=s, padding=p, bias=True, padding_mode='zeros')\n",
    "\n",
    "        y = conv(data)\n",
    "    \n",
    "    return y\n"
   ]
  },
  {
   "cell_type": "code",
   "execution_count": null,
   "metadata": {},
   "outputs": [],
   "source": [
    "def myPooling(data, num=True, kernel_size)"
   ]
  },
  {
   "cell_type": "code",
   "execution_count": null,
   "metadata": {},
   "outputs": [],
   "source": [
    "#Q1: 2D convolution"
   ]
  },
  {
   "cell_type": "code",
   "execution_count": null,
   "metadata": {},
   "outputs": [],
   "source": [
    "#Q2: Edge detection"
   ]
  },
  {
   "cell_type": "code",
   "execution_count": null,
   "metadata": {},
   "outputs": [],
   "source": [
    "#Q3: Padding"
   ]
  },
  {
   "cell_type": "code",
   "execution_count": null,
   "metadata": {},
   "outputs": [],
   "source": [
    "#Q4: Stride"
   ]
  },
  {
   "cell_type": "code",
   "execution_count": null,
   "metadata": {},
   "outputs": [],
   "source": [
    "#Q5: Pooling"
   ]
  }
 ]
}