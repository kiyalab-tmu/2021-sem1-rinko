{
 "cells": [
  {
   "cell_type": "code",
   "execution_count": 11,
   "metadata": {},
   "outputs": [],
   "source": [
    "import torch\n",
    "import torch.nn as nn\n",
    "import torch.optim as optim\n",
    "from torch.utils.data import Dataset, DataLoader, Subset\n",
    "from torchvision import datasets, transforms\n",
    "import matplotlib.pyplot as plt\n",
    "import numpy as np\n",
    "import random"
   ]
  },
  {
   "cell_type": "code",
   "execution_count": 12,
   "metadata": {},
   "outputs": [],
   "source": [
    "# make dataloader\n",
    "def create_dataloader(dataset_name, transform, valid=False):\n",
    "    test_dl, valid_dl = None, None\n",
    "\n",
    "    if dataset_name == 'MNIST':\n",
    "        train_datasets = datasets.MNIST(root='../datasets', train=True, download=True, transform=transform)\n",
    "        if valid:\n",
    "            n_samples = len(train_datasets)\n",
    "            train_size = int(n_samples * 0.8)\n",
    "            subset1_indices = list(range(0,train_size))\n",
    "            subset2_indices = list(range(train_size,n_samples))\n",
    "\n",
    "            train_dataset = Subset(train_datasets, subset1_indices)\n",
    "            valid_dataset = Subset(train_datasets, subset2_indices)\n",
    "\n",
    "            train_dl = DataLoader(train_dataset, batch_size=TRAIN_BATCH_SIZE, shuffle=True)\n",
    "            valid_dl = DataLoader(valid_dataset, batch_size=VALID_BATCH_SIZE, shuffle=False)\n",
    "        else:\n",
    "            train_dl = DataLoader(train_datasets,   batch_size=TRAIN_BATCH_SIZE, shuffle=True)\n",
    "\n",
    "        test_dataset = datasets.MNIST(root='../datasets', train=False, download=True, transform=transform)\n",
    "        test_dl = DataLoader(test_dataset, batch_size=TEST_BATCH_SIZE, shuffle=False)\n",
    "    \n",
    "    return train_dl, test_dl, valid_dl\n",
    "\n"
   ]
  },
  {
   "cell_type": "code",
   "execution_count": 16,
   "metadata": {},
   "outputs": [],
   "source": [
    "class VAE(nn.Module):\n",
    "    def __init__(self, device):\n",
    "        super().__init__()\n",
    "        self.device = device\n",
    "        self.encorder = Encorder()\n",
    "        self.decorder = Decorder()\n",
    "        self.relu = nn.ReLU()\n",
    "        self.sigmoid = nn.Sigmoid()\n",
    "    \n",
    "    def forward(self, x):\n",
    "        x = x.view(-1, 28*28)\n",
    "        mean, var = self.encorder(x)\n",
    "        z = self.reparameterize(mean, var)\n",
    "        y = self.decorder(z)\n",
    "        return y, z\n",
    "\n",
    "    def reparameterize(self, mean, var):\n",
    "        eps = torch.randn(mean.size()).to(self.device)\n",
    "        z = mean + torch.sqrt(var) * eps\n",
    "        return z\n",
    "    \n",
    "    def lower_bound(self, x):\n",
    "        x = x.view(-1, 28*28)\n",
    "        mean, var = self.encorder(x)\n",
    "        z = self.reparameterize(mean, var)\n",
    "        y = self.decorder(z)\n",
    "\n",
    "        reconst = - torch.mean(torch.sum(x*torch.log(y)+(1-x)*torch.log(1-y), dim=1))\n",
    "\n",
    "        kl = -1/2 * torch.mean(torch.sum(1+torch.log(var)-mean**2-var,dim=1))\n",
    "\n",
    "        L = reconst + kl\n",
    "        return L\n",
    "\n",
    "class Encorder(nn.Module):\n",
    "    def __init__(self):\n",
    "        super().__init__()\n",
    "        self.linear = nn.Linear(28*28,200)\n",
    "        self.l_mean = nn.Linear(200,10)\n",
    "        self.l_var = nn.Linear(200,10)\n",
    "        self.relu = nn.ReLU()\n",
    "        self.softplus = nn.Softplus()\n",
    "\n",
    "    def forward(self, x):\n",
    "        z = self.linear(x)\n",
    "        z = self.relu(z)\n",
    "        mean = self.l_mean(z)\n",
    "        var = self.l_var(z)\n",
    "        var = self.softplus(var)\n",
    "        return mean, var\n",
    "\n",
    "class Decorder(nn.Module):\n",
    "    def __init__(self):\n",
    "        super().__init__()\n",
    "        self.linear1 = nn.Linear(10,200)\n",
    "        self.linear2 = nn.Linear(200,28*28)\n",
    "        self.relu = nn.ReLU()\n",
    "        self.sigmoid = nn.Sigmoid()\n",
    "    \n",
    "    def forward(self, z):\n",
    "        y = self.linear1(z)\n",
    "        y = self.relu(y)\n",
    "        y = self.linear2(y)\n",
    "        y = self.sigmoid(y)\n",
    "        return y"
   ]
  },
  {
   "cell_type": "code",
   "execution_count": 20,
   "metadata": {},
   "outputs": [],
   "source": [
    "def one_epoch(model, dl, device, criterion, optimizer=None):\n",
    "    if optimizer:\n",
    "        model.train()\n",
    "    else:\n",
    "        model.eval()\n",
    "\n",
    "    losses = 0\n",
    "    iter_num = 0\n",
    "\n",
    "    for datas, _ in dl:\n",
    "        datas = datas.to(device)\n",
    "        iter_num += 1\n",
    "\n",
    "        if optimizer:\n",
    "            loss = criterion(datas)\n",
    "\n",
    "            optimizer.zero_grad()\n",
    "            loss.backward()\n",
    "            optimizer.step()\n",
    "        else:\n",
    "            with torch.no_grad():\n",
    "                loss = criterion(datas)\n",
    "            \n",
    "        losses += loss.item()\n",
    "\n",
    "    return losses/iter_num\n",
    "        "
   ]
  },
  {
   "cell_type": "code",
   "execution_count": 21,
   "metadata": {},
   "outputs": [
    {
     "name": "stdout",
     "output_type": "stream",
     "text": [
      "EPOCH:0, Train: loss=2.2e+02, Valid: loss=1.6e+02\n",
      "EPOCH:5, Train: loss=1.24e+02, Valid: loss=1.24e+02\n",
      "EPOCH:10, Train: loss=1.19e+02, Valid: loss=1.19e+02\n",
      "EPOCH:15, Train: loss=1.16e+02, Valid: loss=1.17e+02\n",
      "EPOCH:20, Train: loss=1.14e+02, Valid: loss=1.15e+02\n",
      "EPOCH:25, Train: loss=1.13e+02, Valid: loss=1.14e+02\n",
      "Best train loss=1.13e+02 Best valid loss=1.14e+02 Test loss=1.12e+02\n"
     ]
    },
    {
     "data": {
      "image/png": "[encoded data removed]",
      "text/plain": [
       "<Figure size 1080x360 with 3 Axes>"
      ]
     },
     "metadata": {
      "needs_background": "light"
     },
     "output_type": "display_data"
    }
   ],
   "source": [
    "#VAE\n",
    "\n",
    "# Constants\n",
    "EPOCH_NUM = 30\n",
    "TRAIN_BATCH_SIZE = 256\n",
    "VALID_BATCH_SIZE = 256\n",
    "TEST_BATCH_SIZE = 256\n",
    "device = f\"cuda:{0}\" if torch.cuda.is_available() else \"cpu\"\n",
    "\n",
    "transform = transforms.Compose(\n",
    "    [transforms.ToTensor()])\n",
    "\n",
    "train_dl, test_dl, valid_dl = create_dataloader('MNIST', transform, valid=True)\n",
    "\n",
    "model = VAE(device).to(device)\n",
    "criterion = model.lower_bound\n",
    "optimizer = optim.Adam(model.parameters(), lr=0.001, betas=(0.9, 0.999), amsgrad=True)\n",
    "\n",
    "train_loss_list, valid_loss_list = [], []\n",
    "best_train_loss, best_valid_loss = None,None\n",
    "\n",
    "testdata, _ = next(iter(test_dl))\n",
    "testdata = testdata[0].to(device)\n",
    "\n",
    "for epoch in range(EPOCH_NUM):\n",
    "    train_loss = one_epoch(model, train_dl, device, criterion, optimizer)\n",
    "    train_loss_list.append(train_loss)\n",
    "\n",
    "    if epoch==0 or best_train_loss >= train_loss:\n",
    "        best_train_loss = train_loss\n",
    "    \n",
    "    valid_loss = one_epoch(model, valid_dl, device, criterion)\n",
    "    valid_loss_list.append(valid_loss)\n",
    "\n",
    "    if epoch==0 or best_valid_loss >= valid_loss:\n",
    "        best_valid_loss = valid_loss\n",
    "\n",
    "        test_loss = one_epoch(model, test_dl, device, criterion)\n",
    "        model.eval()\n",
    "        with torch.no_grad():\n",
    "            rec_data, z = model(testdata)\n",
    "    if epoch%5 == 0:\n",
    "        print('EPOCH:{:}, Train: loss={:.3}, Valid: loss={:.3}'.format(epoch, train_loss, valid_loss))\n",
    "        \n",
    "print('Best train loss={:.3} Best valid loss={:.3} Test loss={:.3}'.format(best_train_loss, best_valid_loss, test_loss))\n",
    "\n",
    "fig = plt.figure(figsize=(15.0, 5.0))\n",
    "ax1 = fig.add_subplot(1,3,1)\n",
    "ax1.plot(train_loss_list, 'b', label='train')\n",
    "ax1.plot(valid_loss_list, 'r', label='valid')\n",
    "ax1.legend()\n",
    "\n",
    "ax2 = fig.add_subplot(1,3,2)\n",
    "testdata = testdata.view(28,28).detach().cpu().numpy()\n",
    "ax2.imshow(testdata, cmap='binary_r')\n",
    "ax2.axis('off')\n",
    "\n",
    "ax3 = fig.add_subplot(1,3,3)\n",
    "rec_data = rec_data.view(28,28).detach().cpu().numpy()\n",
    "ax3.imshow(rec_data, cmap='binary_r')\n",
    "ax3.axis('off')\n",
    "\n",
    "plt.show()"
   ]
  },
  {
   "cell_type": "code",
   "execution_count": 22,
   "metadata": {},
   "outputs": [
    {
     "data": {
      "image/png": "[encoded data removed]",
      "text/plain": [
       "<Figure size 432x288 with 8 Axes>"
      ]
     },
     "metadata": {
      "needs_background": "light"
     },
     "output_type": "display_data"
    }
   ],
   "source": [
    "batch_size = 8\n",
    "z = torch.randn(batch_size, 10, device=device)\n",
    "\n",
    "model.eval()\n",
    "g_imgs = model.decorder(z)\n",
    "g_imgs = g_imgs.view(-1, 28, 28)\n",
    "g_imgs = g_imgs.squeeze().detach().cpu().numpy()\n",
    "\n",
    "for i, g_img in enumerate(g_imgs):\n",
    "    plt.subplot(2,4,i+1)\n",
    "    plt.imshow(g_img, cmap='binary_r')\n",
    "    plt.axis('off')\n",
    "plt.tight_layout()\n",
    "plt.show()"
   ]
  },
  {
   "cell_type": "code",
   "execution_count": 30,
   "metadata": {},
   "outputs": [
    {
     "data": {
      "image/png": "[encoded data removed]",
      "text/plain": [
       "<Figure size 720x72 with 10 Axes>"
      ]
     },
     "metadata": {},
     "output_type": "display_data"
    }
   ],
   "source": [
    "testdata, _ = next(iter(test_dl))\n",
    "testdata0 = testdata[3].to(device)\n",
    "testdata1 = testdata[4].to(device)\n",
    "\n",
    "_, z0 = model(testdata0)\n",
    "_, z1 = model(testdata1)\n",
    "\n",
    "z1to0 = torch.cat([z1*(i*0.1)+z0*((9-i)*0.1) for i in range(10)]).reshape(10,10)\n",
    "y = model.decorder(z1to0).view(-1,28,28)\n",
    "\n",
    "fig = plt.figure(figsize=(10,1))\n",
    "for i, img in enumerate(y.cpu().detach().numpy()):\n",
    "    ax = fig.add_subplot(1,10,i+1, xticks=[], yticks=[])\n",
    "    ax.imshow(img, 'gray')\n"
   ]
  }
 ],
 "metadata": {
  "interpreter": {
   "hash": "69c6a8e41a651795dc9598813b7df1e5445214c312f5f54441335b89e4e344cf"
  },
  "kernelspec": {
   "display_name": "Python 3.6.9 64-bit ('rinkovenv': venv)",
   "name": "python3"
  },
  "language_info": {
   "codemirror_mode": {
    "name": "ipython",
    "version": 3
   },
   "file_extension": ".py",
   "mimetype": "text/x-python",
   "name": "python",
   "nbconvert_exporter": "python",
   "pygments_lexer": "ipython3",
   "version": "3.6.9"
  },
  "orig_nbformat": 4
 },
 "nbformat": 4,
 "nbformat_minor": 2
}