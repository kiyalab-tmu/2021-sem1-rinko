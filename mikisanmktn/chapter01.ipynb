{
 "metadata": {
  "language_info": {
   "codemirror_mode": {
    "name": "ipython",
    "version": 3
   },
   "file_extension": ".py",
   "mimetype": "text/x-python",
   "name": "python",
   "nbconvert_exporter": "python",
   "pygments_lexer": "ipython3",
   "version": "3.6.9"
  },
  "orig_nbformat": 2,
  "kernelspec": {
   "name": "python369jvsc74a57bd069c6a8e41a651795dc9598813b7df1e5445214c312f5f54441335b89e4e344cf",
   "display_name": "Python 3.6.9 64-bit ('rinkovenv': venv)"
  }
 },
 "nbformat": 4,
 "nbformat_minor": 2,
 "cells": [
  {
   "cell_type": "code",
   "execution_count": 1,
   "metadata": {},
   "outputs": [],
   "source": [
    "import numpy as np"
   ]
  },
  {
   "cell_type": "code",
   "execution_count": 7,
   "metadata": {},
   "outputs": [
    {
     "output_type": "stream",
     "name": "stdout",
     "text": [
      "1\n2\nFizz\n4\nBuzz\nFizz\n7\n8\nFizz\nBuzz\n11\nFizz\n13\n14\nFizzBuzz\n16\n17\nFizz\n19\nBuzz\nFizz\n22\n23\nFizz\nBuzz\n26\nFizz\n28\n29\nFizzBuzz\n31\n32\nFizz\n34\nBuzz\nFizz\n37\n38\nFizz\nBuzz\n41\nFizz\n43\n44\nFizzBuzz\n46\n47\nFizz\n49\nBuzz\nFizz\n52\n53\nFizz\nBuzz\n56\nFizz\n58\n59\nFizzBuzz\n61\n62\nFizz\n64\nBuzz\nFizz\n67\n68\nFizz\nBuzz\n71\nFizz\n73\n74\nFizzBuzz\n76\n77\nFizz\n79\nBuzz\nFizz\n82\n83\nFizz\nBuzz\n86\nFizz\n88\n89\nFizzBuzz\n91\n92\nFizz\n94\nBuzz\nFizz\n97\n98\nFizz\nBuzz\n"
     ]
    }
   ],
   "source": [
    "#Q1:FizzBuss\n",
    "\n",
    "for i in range(1, 101):\n",
    "    if i%3 == 0 and i%5 == 0:\n",
    "        print('FizzBuzz')\n",
    "    elif i%3 == 0:\n",
    "        print('Fizz')\n",
    "    elif i%5 == 0:\n",
    "        print('Buzz')\n",
    "    else:\n",
    "        print(i)"
   ]
  },
  {
   "cell_type": "code",
   "execution_count": 2,
   "metadata": {},
   "outputs": [],
   "source": [
    "def quicksort(input):\n",
    "    l, r, output = [],[],[]\n",
    "    p = input[0]\n",
    "    for i in range(1,len(input)):\n",
    "        if input[i] >= p:\n",
    "            r.append(input[i])\n",
    "        else:\n",
    "            l.append(input[i])\n",
    "            \n",
    "    if len(r) > 1:\n",
    "        r = quicksort(r)\n",
    "    if len(l) > 1:\n",
    "        l = quicksort(l)\n",
    "\n",
    "    output.extend(l)\n",
    "    output.append(p)\n",
    "    output.extend(r)\n",
    "\n",
    "    return output\n"
   ]
  },
  {
   "cell_type": "code",
   "execution_count": 3,
   "metadata": {},
   "outputs": [
    {
     "output_type": "stream",
     "name": "stdout",
     "text": [
      "[9, 8, 7, 5, 6, 3, 1, 2, 4]\n[1, 2, 3, 4, 5, 6, 7, 8, 9]\n"
     ]
    }
   ],
   "source": [
    "#Q2:Quick Sort\n",
    "\n",
    "x = [9,8,7,5,6,3,1,2,4]\n",
    "print(x)\n",
    "x_sort = quicksort(x)\n",
    "print(x_sort)\n"
   ]
  },
  {
   "cell_type": "code",
   "execution_count": 4,
   "metadata": {},
   "outputs": [
    {
     "output_type": "stream",
     "name": "stdout",
     "text": [
      "5\n"
     ]
    }
   ],
   "source": [
    "#Q3:Missing Element\n",
    "a = [2, 3, 4, 5, 6, 7, 5, 8]\n",
    "b = [6, 8, 7, 4, 5, 2, 3]\n",
    "\n",
    "a = quicksort(a)\n",
    "b = quicksort(b)\n",
    "\n",
    "missing = []\n",
    "j = 0\n",
    "for i in range(len(a)):\n",
    "    if i < len(b):\n",
    "        if a[i] == b[j]:\n",
    "            j = j + 1\n",
    "        else:\n",
    "            missing = a[i]\n",
    "print(missing)\n"
   ]
  },
  {
   "cell_type": "code",
   "execution_count": 11,
   "metadata": {},
   "outputs": [
    {
     "output_type": "stream",
     "name": "stdout",
     "text": [
      "[[1, 3], [2, 2]]\n"
     ]
    }
   ],
   "source": [
    "#Q4:Pair Sum\n",
    "input = [1,3,2,2]\n",
    "k = 4\n",
    "\n",
    "pair = []\n",
    "for i in range(len(input)-1):\n",
    "    for j in range(i+1,len(input)):\n",
    "        if input[i] + input[j] == k:\n",
    "            pair.append([input[i],input[j]])\n",
    "print(pair)\n"
   ]
  },
  {
   "cell_type": "code",
   "execution_count": 6,
   "metadata": {},
   "outputs": [
    {
     "output_type": "stream",
     "name": "stdout",
     "text": [
      "  1 |   1   2   3   4   5   6   7   8   9  10\n#############################################\n  2 |   2   4   6   8  10  12  14  16  18  20\n  3 |   3   6   9  12  15  18  21  24  27  30\n  4 |   4   8  12  16  20  24  28  32  36  40\n  5 |   5  10  15  20  25  30  35  40  45  50\n  6 |   6  12  18  24  30  36  42  48  54  60\n  7 |   7  14  21  28  35  42  49  56  63  70\n  8 |   8  16  24  32  40  48  56  64  72  80\n  9 |   9  18  27  36  45  54  63  72  81  90\n 10 |  10  20  30  40  50  60  70  80  90 100\n"
     ]
    }
   ],
   "source": [
    "#Q5:Multiplication Table\n",
    "x = list(range(1,11))\n",
    "\n",
    "for i in range(len(x)):\n",
    "    y = x[i]\n",
    "    print('%3d |' % (y), end='')\n",
    "    for j in range(len(x)):\n",
    "        print(' %3d' % (x[j]*y), end='')\n",
    "    print('')\n",
    "    if i == 0:\n",
    "        print('#############################################')\n",
    "\n",
    "\n"
   ]
  },
  {
   "cell_type": "code",
   "execution_count": 13,
   "metadata": {},
   "outputs": [
    {
     "output_type": "stream",
     "name": "stdout",
     "text": [
      "[[0 1 0 1 0 1 0 1]\n [1 0 1 0 1 0 1 0]\n [0 1 0 1 0 1 0 1]\n [1 0 1 0 1 0 1 0]\n [0 1 0 1 0 1 0 1]\n [1 0 1 0 1 0 1 0]\n [0 1 0 1 0 1 0 1]\n [1 0 1 0 1 0 1 0]]\n"
     ]
    }
   ],
   "source": [
    "#Q6\n",
    "a = np.array([[0,1]])\n",
    "\n",
    "checker = np.tile(np.concatenate([a,np.fliplr(a)],0),(4,4))\n",
    "\n",
    "print(checker)\n"
   ]
  },
  {
   "cell_type": "code",
   "execution_count": 22,
   "metadata": {},
   "outputs": [
    {
     "output_type": "stream",
     "name": "stdout",
     "text": [
      "[[24 22 12 13 20]\n [ 0 18 17 21 14]\n [22  6 24 10  4]\n [ 3  2 10 21  6]\n [ 4  4 15 10  1]]\n[[ 1.52829065  1.27100266 -0.01543728  0.11320671  1.01371467]\n [-1.5591652   0.75642668  0.62778269  1.14235866  0.24185071]\n [ 1.27100266 -0.78730124  1.52829065 -0.27272527 -1.04458923]\n [-1.17323322 -1.30187722 -0.27272527  1.14235866 -0.78730124]\n [-1.04458923 -1.04458923  0.3704947  -0.27272527 -1.43052121]]\n"
     ]
    }
   ],
   "source": [
    "#Q7\n",
    "matrix = np.random.randint(25,size=(5,5))\n",
    "print(matrix)\n",
    "\n",
    "m_mean = matrix.mean(axis=None, keepdims=True)\n",
    "m_std = np.std(matrix, axis=None, keepdims=True)\n",
    "norm_matrix = (matrix-m_mean)/m_std\n",
    "\n",
    "print(norm_matrix)"
   ]
  },
  {
   "cell_type": "code",
   "execution_count": 25,
   "metadata": {},
   "outputs": [
    {
     "output_type": "execute_result",
     "data": {
      "text/plain": [
       "array([[ 22,  28],\n",
       "       [ 49,  64],\n",
       "       [ 76, 100],\n",
       "       [103, 136],\n",
       "       [130, 172]])"
      ]
     },
     "metadata": {},
     "execution_count": 25
    }
   ],
   "source": [
    "#Q8\n",
    "a = np.array([[1,2,3,],\n",
    "              [4,5,6],\n",
    "              [7,8,9],\n",
    "              [10,11,12],\n",
    "              [13,14,15]])\n",
    "b = np.array([[1,2],\n",
    "              [3,4],\n",
    "              [5,6]])\n",
    "\n",
    "np.dot(a,b)"
   ]
  },
  {
   "cell_type": "code",
   "execution_count": 6,
   "metadata": {},
   "outputs": [
    {
     "output_type": "stream",
     "name": "stdout",
     "text": [
      "[3.9236141  9.47116419 4.23935341 7.36461614 9.8741341  8.83649303\n 8.03222922 2.50120237 6.94189664 9.95183583]\n[9.47116419 9.8741341  8.83649303 8.03222922 2.50120237 9.95183583]\n"
     ]
    }
   ],
   "source": [
    "#Q9\n",
    "x = np.random.rand(10)*10\n",
    "print(x)\n",
    "\n",
    "y = []\n",
    "for i in range(len(x)):\n",
    "    if x[i] < 3 or x[i] > 8:\n",
    "        y.append(x[i])\n",
    "print(np.array(y))\n"
   ]
  },
  {
   "cell_type": "code",
   "execution_count": 44,
   "metadata": {},
   "outputs": [
    {
     "output_type": "stream",
     "name": "stdout",
     "text": [
      "[1 1 0] [1 1 1]\nNot equal.\n"
     ]
    }
   ],
   "source": [
    "#Q10\n",
    "def compare(a,b):\n",
    "    y = False\n",
    "    if len(a) == len(b):\n",
    "        for i in range(len(a)):\n",
    "            if a[i] != b[i]:\n",
    "                break\n",
    "            elif i == len(a)-1:\n",
    "                y = True\n",
    "    return y\n",
    "\n",
    "\n",
    "a = np.random.randint(0,2,3)\n",
    "b = np.random.randint(0,2,3)\n",
    "\n",
    "print(a,b)\n",
    "\n",
    "if compare(a,b):\n",
    "    print('Equal.')\n",
    "else:\n",
    "    print('Not equal.')"
   ]
  },
  {
   "cell_type": "code",
   "execution_count": null,
   "metadata": {},
   "outputs": [],
   "source": []
  }
 ]
}