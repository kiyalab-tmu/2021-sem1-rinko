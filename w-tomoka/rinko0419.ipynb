{
 "cells": [
  {
   "cell_type": "code",
   "execution_count": 3,
   "id": "cfa27e42",
   "metadata": {},
   "outputs": [
    {
     "name": "stdout",
     "output_type": "stream",
     "text": [
      "1\n",
      "2\n",
      "Fizz\n",
      "4\n",
      "Buzz\n",
      "Fizz\n",
      "7\n",
      "8\n",
      "Fizz\n",
      "Buzz\n",
      "11\n",
      "Fizz\n",
      "13\n",
      "14\n",
      "FizzBuzz\n",
      "16\n",
      "17\n",
      "Fizz\n",
      "19\n",
      "Buzz\n",
      "Fizz\n",
      "22\n",
      "23\n",
      "Fizz\n",
      "Buzz\n",
      "26\n",
      "Fizz\n",
      "28\n",
      "29\n",
      "FizzBuzz\n",
      "31\n",
      "32\n",
      "Fizz\n",
      "34\n",
      "Buzz\n",
      "Fizz\n",
      "37\n",
      "38\n",
      "Fizz\n",
      "Buzz\n",
      "41\n",
      "Fizz\n",
      "43\n",
      "44\n",
      "FizzBuzz\n",
      "46\n",
      "47\n",
      "Fizz\n",
      "49\n",
      "Buzz\n",
      "Fizz\n",
      "52\n",
      "53\n",
      "Fizz\n",
      "Buzz\n",
      "56\n",
      "Fizz\n",
      "58\n",
      "59\n",
      "FizzBuzz\n",
      "61\n",
      "62\n",
      "Fizz\n",
      "64\n",
      "Buzz\n",
      "Fizz\n",
      "67\n",
      "68\n",
      "Fizz\n",
      "Buzz\n",
      "71\n",
      "Fizz\n",
      "73\n",
      "74\n",
      "FizzBuzz\n",
      "76\n",
      "77\n",
      "Fizz\n",
      "79\n",
      "Buzz\n",
      "Fizz\n",
      "82\n",
      "83\n",
      "Fizz\n",
      "Buzz\n",
      "86\n",
      "Fizz\n",
      "88\n",
      "89\n",
      "FizzBuzz\n",
      "91\n",
      "92\n",
      "Fizz\n",
      "94\n",
      "Buzz\n",
      "Fizz\n",
      "97\n",
      "98\n",
      "Fizz\n",
      "Buzz\n"
     ]
    }
   ],
   "source": [
    "#Q1:FizzBuzz\n",
    "\n",
    "for i in range(1,101):\n",
    "    if(i%15 == 0):\n",
    "        print('FizzBuzz')\n",
    "    elif(i%3 == 0):\n",
    "        print('Fizz')\n",
    "    elif(i%5 == 0):\n",
    "        print('Buzz')\n",
    "    else:\n",
    "        print(i)"
   ]
  },
  {
   "cell_type": "code",
   "execution_count": 24,
   "id": "dedecf66",
   "metadata": {},
   "outputs": [
    {
     "name": "stdout",
     "output_type": "stream",
     "text": [
      "[1, 2, 3, 4, 5, 6, 7, 8, 9]\n"
     ]
    }
   ],
   "source": [
    "#Q2:Quick Sort\n",
    "def swap (A, a, b):\n",
    "    temp = A[a]\n",
    "    A[a] = A[b]\n",
    "    A[b] = temp\n",
    "\n",
    "def partition(A, p, r):\n",
    "    for i in range(p, r):\n",
    "        if(A[i] <= A[r]):\n",
    "            swap(A, p, i)\n",
    "            p += 1\n",
    "    swap(A, r, p)\n",
    "    return p\n",
    "\n",
    "def QuickSort(A, p, n):\n",
    "    if(p < n):\n",
    "        x = partition(A, p, n)\n",
    "        QuickSort(A, p, x-1)\n",
    "        QuickSort(A, x, n)\n",
    "        \n",
    "A = [9,8,7,5,6,3,1,2,4]\n",
    "\n",
    "QuickSort(A, 0, len(A)-1)\n",
    "print(A)"
   ]
  },
  {
   "cell_type": "code",
   "execution_count": 28,
   "id": "0b747a50",
   "metadata": {},
   "outputs": [
    {
     "name": "stdout",
     "output_type": "stream",
     "text": [
      "5\n"
     ]
    }
   ],
   "source": [
    "#Q3:Miising Element\n",
    "def swap (A, a, b):\n",
    "    temp = A[a]\n",
    "    A[a] = A[b]\n",
    "    A[b] = temp\n",
    "\n",
    "def partition(A, p, r):\n",
    "    for i in range(p, r):\n",
    "        if(A[i] <= A[r]):\n",
    "            swap(A, p, i)\n",
    "            p += 1\n",
    "    swap(A, r, p)\n",
    "    return p\n",
    "\n",
    "def QuickSort(A, p, n):\n",
    "    if(p < n):\n",
    "        x = partition(A, p, n)\n",
    "        QuickSort(A, p, x-1)\n",
    "        QuickSort(A, x, n)\n",
    "        \n",
    "def SearchMissing(A, B):\n",
    "    QuickSort(A, 0, len(A)-1)\n",
    "    QuickSort(B, 0, len(B)-1)\n",
    "    \n",
    "    if (len(A) < len(B)):\n",
    "        for i in range(len(A)):\n",
    "            if(A[i] != B[i]):\n",
    "                print(B[i])\n",
    "                break\n",
    "            if(i == len(A)-1):\n",
    "                print(B[len(A)])\n",
    "    else:\n",
    "        for i in range(len(B)):\n",
    "            if(A[i] != B[i]):\n",
    "                print(A[i])\n",
    "                break\n",
    "            if(i == len(B)-1):\n",
    "                print(A[len(B)])\n",
    "                \n",
    "A = [2,3,4,5,6,7,5,8]\n",
    "B = [6,8,7,4,5,2,3]\n",
    "\n",
    "SearchMissing(A, B)\n"
   ]
  },
  {
   "cell_type": "code",
   "execution_count": 39,
   "id": "b5e7e01c",
   "metadata": {},
   "outputs": [
    {
     "name": "stdout",
     "output_type": "stream",
     "text": [
      "(1,3)\n",
      "(2,2)\n"
     ]
    }
   ],
   "source": [
    "#Q4:Pair Sum\n",
    "def PairSum(A, k):\n",
    "    r = len(A)-1\n",
    "    for i in range(r):\n",
    "        for j in range(i, r):\n",
    "            if(A[i] + A[j] == k):\n",
    "                print('(',A[i],',',A[j],')', sep='')\n",
    "                \n",
    "A = [1,3,2,2]\n",
    "k = 4\n",
    "\n",
    "PairSum(A, k)"
   ]
  },
  {
   "cell_type": "code",
   "execution_count": 51,
   "id": "0afc676a",
   "metadata": {},
   "outputs": [
    {
     "name": "stdout",
     "output_type": "stream",
     "text": [
      "1  |   1   2   3   4   5   6   7   8   9  10\n",
      "############################################\n",
      "1  |   1   2   3   4   5   6   7   8   9  10\n",
      "2  |   2   4   6   8  10  12  14  16  18  20\n",
      "3  |   3   6   9  12  15  18  21  24  27  30\n",
      "4  |   4   8  12  16  20  24  28  32  36  40\n",
      "5  |   5  10  15  20  25  30  35  40  45  50\n",
      "6  |   6  12  18  24  30  36  42  48  54  60\n",
      "7  |   7  14  21  28  35  42  49  56  63  70\n",
      "8  |   8  16  24  32  40  48  56  64  72  80\n",
      "9  |   9  18  27  36  45  54  63  72  81  90\n",
      "10 |  10  20  30  40  50  60  70  80  90 100\n"
     ]
    }
   ],
   "source": [
    "#Q5:Multiplication Table\n",
    "\n",
    "print('1  |', end='')\n",
    "for i in range(1,11):\n",
    "    print(str(i).rjust(4), end='')\n",
    "print()\n",
    "for i in range(44):\n",
    "    print('#', end='')\n",
    "print()\n",
    "    \n",
    "for i in range(1,11):\n",
    "    print(str(i).ljust(2), '|', end='')\n",
    "    for j in range(1,11):\n",
    "        print(str(i*j).rjust(4), end='')\n",
    "    print()"
   ]
  },
  {
   "cell_type": "code",
   "execution_count": 53,
   "id": "3d43bb17",
   "metadata": {},
   "outputs": [
    {
     "name": "stdout",
     "output_type": "stream",
     "text": [
      "[[0 1 0 1 0 1 0 1]\n",
      " [1 0 1 0 1 0 1 0]\n",
      " [0 1 0 1 0 1 0 1]\n",
      " [1 0 1 0 1 0 1 0]\n",
      " [0 1 0 1 0 1 0 1]\n",
      " [1 0 1 0 1 0 1 0]\n",
      " [0 1 0 1 0 1 0 1]\n",
      " [1 0 1 0 1 0 1 0]]\n"
     ]
    }
   ],
   "source": [
    "#Q6\n",
    "import numpy as np\n",
    "\n",
    "a = np.array([[0,1],[1,0]])\n",
    "a_check = np.tile(a,(4,4))\n",
    "print(a_check)"
   ]
  },
  {
   "cell_type": "code",
   "execution_count": 67,
   "id": "06b9e68b",
   "metadata": {},
   "outputs": [
    {
     "name": "stdout",
     "output_type": "stream",
     "text": [
      "[[65 33 79 78 75]\n",
      " [55 15 51 75 93]\n",
      " [15 80 15 77  7]\n",
      " [97 23 50 14 14]\n",
      " [28 45 83 46 95]]\n",
      "[[0.6444 0.2889 0.8    0.7889 0.7556]\n",
      " [0.5333 0.0889 0.4889 0.7556 0.9556]\n",
      " [0.0889 0.8111 0.0889 0.7778 0.    ]\n",
      " [1.     0.1778 0.4778 0.0778 0.0778]\n",
      " [0.2333 0.4222 0.8444 0.4333 0.9778]]\n"
     ]
    }
   ],
   "source": [
    "#Q7\n",
    "import numpy as np\n",
    "#0～100の整数で5×5の行列を作る\n",
    "a = np.random.randint(0,100,(5,5))\n",
    "print(a)\n",
    "\n",
    "max = np.max(a)\n",
    "min = np.min(a)\n",
    "#round(a,n)配列aを小数点第4位で四捨五入\n",
    "result = np.round((a-min)/(max-min), decimals=4)\n",
    "print(result)"
   ]
  },
  {
   "cell_type": "code",
   "execution_count": 75,
   "id": "240d1cee",
   "metadata": {},
   "outputs": [
    {
     "name": "stdout",
     "output_type": "stream",
     "text": [
      "[[0.888587   0.19374731 0.67310523]\n",
      " [0.96140464 0.4865382  0.46584298]\n",
      " [0.3733971  0.91118088 0.37559433]\n",
      " [0.39757376 0.49071912 0.46467057]\n",
      " [0.07582855 0.87411225 0.4908582 ]]\n",
      "[[0.05030441 0.70798499]\n",
      " [0.08560156 0.38402442]\n",
      " [0.87458092 0.68470663]]\n",
      "Result\n",
      "[[0.64996991 1.16438958]\n",
      " [0.49742871 1.18646839]\n",
      " [0.42526966 0.87144718]\n",
      " [0.46839805 0.78808741]\n",
      " [0.5079351  0.72545979]]\n"
     ]
    }
   ],
   "source": [
    "#Q8\n",
    "import numpy as np\n",
    "\n",
    "left = np.random.rand(5,3)\n",
    "right = np.random.rand(3,2)\n",
    "print(left)\n",
    "print(right)\n",
    "\n",
    "print('Result')\n",
    "print(np.dot(left, right))"
   ]
  },
  {
   "cell_type": "code",
   "execution_count": 3,
   "id": "0ad4a214",
   "metadata": {},
   "outputs": [
    {
     "name": "stdout",
     "output_type": "stream",
     "text": [
      "[8 1 9 8 4 2 4 4 0 9]\n",
      "[1 9 2 0 9]\n"
     ]
    }
   ],
   "source": [
    "#Q9\n",
    "import numpy as np\n",
    "\n",
    "a = np.random.randint(0,10,10)\n",
    "print(a)\n",
    "\n",
    "i=0\n",
    "while(1):\n",
    "    if a[i] >= 3 and a[i] <= 8:\n",
    "        a = np.delete(a, i)\n",
    "    else:\n",
    "        i += 1\n",
    "    if(i == np.size(a)):\n",
    "        break\n",
    "\n",
    "print(a)"
   ]
  },
  {
   "cell_type": "code",
   "execution_count": 28,
   "id": "768f79ea",
   "metadata": {},
   "outputs": [
    {
     "name": "stdout",
     "output_type": "stream",
     "text": [
      "A [0 1 5]\n",
      "B [0 1 5]\n",
      "A and B are equal\n"
     ]
    }
   ],
   "source": [
    "#Q10\n",
    "import numpy as np\n",
    "\n",
    "#A = np.random.randint(0,10,2)\n",
    "#B = np.random.randint(0,10,2)\n",
    "\n",
    "A = np.array([0,1,5])\n",
    "B = np.array([0,1,5])\n",
    "\n",
    "\n",
    "flag = 1\n",
    "L = np.size(A)\n",
    "for i in range(L):\n",
    "    if(A[i] != B[i]):\n",
    "        flag = 0\n",
    "        break\n",
    "    i += 1\n",
    "\n",
    "print('A',A)\n",
    "print('B',B)\n",
    "\n",
    "if(flag == 1):\n",
    "    print('A and B are equal')\n",
    "else:\n",
    "    print('A and B are NOT equal')"
   ]
  }
 ],
 "metadata": {
  "kernelspec": {
   "display_name": "Python 3",
   "language": "python",
   "name": "python3"
  },
  "language_info": {
   "codemirror_mode": {
    "name": "ipython",
    "version": 3
   },
   "file_extension": ".py",
   "mimetype": "text/x-python",
   "name": "python",
   "nbconvert_exporter": "python",
   "pygments_lexer": "ipython3",
   "version": "3.8.8"
  }
 },
 "nbformat": 4,
 "nbformat_minor": 5
}
