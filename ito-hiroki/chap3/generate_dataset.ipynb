{
 "cells": [
  {
   "cell_type": "code",
   "execution_count": 1,
   "id": "f4781b05",
   "metadata": {},
   "outputs": [],
   "source": [
    "import numpy as np\n",
    "import matplotlib.pyplot as plt\n",
    "from mpl_toolkits.mplot3d import Axes3D\n",
    "%matplotlib widget"
   ]
  },
  {
   "cell_type": "code",
   "execution_count": 2,
   "id": "e92613ce",
   "metadata": {},
   "outputs": [],
   "source": [
    "w = np.array([2, -3.4])\n",
    "b = 4.2"
   ]
  },
  {
   "cell_type": "code",
   "execution_count": 3,
   "id": "c08f74c2",
   "metadata": {},
   "outputs": [],
   "source": [
    "np.random.seed(19980307)"
   ]
  },
  {
   "cell_type": "code",
   "execution_count": 4,
   "id": "e9f08970",
   "metadata": {},
   "outputs": [],
   "source": [
    "X = np.random.randn(1000, 2)"
   ]
  },
  {
   "cell_type": "code",
   "execution_count": 5,
   "id": "e31520cb",
   "metadata": {},
   "outputs": [
    {
     "data": {
      "text/plain": [
       "(1000, 2)"
      ]
     },
     "execution_count": 5,
     "metadata": {},
     "output_type": "execute_result"
    }
   ],
   "source": [
    "X.shape"
   ]
  },
  {
   "cell_type": "code",
   "execution_count": 6,
   "id": "7eef6a6e",
   "metadata": {},
   "outputs": [],
   "source": [
    "true_y = np.dot(X, w) + b"
   ]
  },
  {
   "cell_type": "code",
   "execution_count": 7,
   "id": "d3fa6f6c",
   "metadata": {},
   "outputs": [],
   "source": [
    "noise_y = true_y + np.random.normal(loc=0, scale=0.01, size=1000)"
   ]
  },
  {
   "cell_type": "code",
   "execution_count": 8,
   "id": "ab373170",
   "metadata": {},
   "outputs": [
    {
     "data": {
      "application/vnd.jupyter.widget-view+json": {
       "model_id": "6fc21fff710343d4a14db9f8613af907",
       "version_major": 2,
       "version_minor": 0
      },
      "text/plain": [
       "Canvas(toolbar=Toolbar(toolitems=[('Home', 'Reset original view', 'home', 'home'), ('Back', 'Back to previous …"
      ]
     },
     "metadata": {},
     "output_type": "display_data"
    },
    {
     "name": "stderr",
     "output_type": "stream",
     "text": [
      "<ipython-input-8-f5745dba8a02>:2: MatplotlibDeprecationWarning: Axes3D(fig) adding itself to the figure is deprecated since 3.4. Pass the keyword argument auto_add_to_figure=False and use fig.add_axes(ax) to suppress this warning. The default value of auto_add_to_figure will change to False in mpl3.5 and True values will no longer work in 3.6.  This is consistent with other Axes classes.\n",
      "  ax = Axes3D(fig)\n"
     ]
    }
   ],
   "source": [
    "fig = plt.figure()\n",
    "ax = Axes3D(fig)\n",
    "ax.scatter(np.ravel(X[:, 0]), np.ravel(X[:, 1]), np.ravel(noise_y));"
   ]
  },
  {
   "cell_type": "code",
   "execution_count": 9,
   "id": "202ee068",
   "metadata": {},
   "outputs": [
    {
     "data": {
      "text/plain": [
       "(1000, 2)"
      ]
     },
     "execution_count": 9,
     "metadata": {},
     "output_type": "execute_result"
    }
   ],
   "source": [
    "X.shape"
   ]
  },
  {
   "cell_type": "code",
   "execution_count": 10,
   "id": "343a3118",
   "metadata": {},
   "outputs": [
    {
     "data": {
      "text/plain": [
       "dtype('float64')"
      ]
     },
     "execution_count": 10,
     "metadata": {},
     "output_type": "execute_result"
    }
   ],
   "source": [
    "X.dtype"
   ]
  },
  {
   "cell_type": "code",
   "execution_count": 11,
   "id": "bc49972c",
   "metadata": {},
   "outputs": [
    {
     "data": {
      "text/plain": [
       "(1000,)"
      ]
     },
     "execution_count": 11,
     "metadata": {},
     "output_type": "execute_result"
    }
   ],
   "source": [
    "noise_y.shape"
   ]
  },
  {
   "cell_type": "code",
   "execution_count": 12,
   "id": "dd543479",
   "metadata": {},
   "outputs": [
    {
     "data": {
      "text/plain": [
       "dtype('float64')"
      ]
     },
     "execution_count": 12,
     "metadata": {},
     "output_type": "execute_result"
    }
   ],
   "source": [
    "noise_y.dtype"
   ]
  },
  {
   "cell_type": "code",
   "execution_count": 13,
   "id": "d29e524b",
   "metadata": {},
   "outputs": [],
   "source": [
    "np.save(\"X.npy\", X.astype(np.float32))\n",
    "np.save(\"noise_y.npy\", noise_y.astype(np.float32))"
   ]
  }
 ],
 "metadata": {
  "kernelspec": {
   "display_name": "Python 3",
   "language": "python",
   "name": "python3"
  },
  "language_info": {
   "codemirror_mode": {
    "name": "ipython",
    "version": 3
   },
   "file_extension": ".py",
   "mimetype": "text/x-python",
   "name": "python",
   "nbconvert_exporter": "python",
   "pygments_lexer": "ipython3",
   "version": "3.8.5"
  }
 },
 "nbformat": 4,
 "nbformat_minor": 5
}
