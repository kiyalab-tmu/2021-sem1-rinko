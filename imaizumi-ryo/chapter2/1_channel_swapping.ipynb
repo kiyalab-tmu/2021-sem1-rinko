{
 "cells": [
  {
   "cell_type": "code",
   "execution_count": 1,
   "id": "db6bb919",
   "metadata": {},
   "outputs": [],
   "source": [
    "#RGB2BGR\n",
    "import cv2\n",
    "\n",
    "def RGB2BGR(img):\n",
    "    b = img[:, :, 0].copy()\n",
    "    g = img[:, :, 1].copy()\n",
    "    r = img[:, :, 2].copy()\n",
    "\n",
    "    # RGB > BGR\n",
    "    img[:, :, 0] = r\n",
    "    img[:, :, 1] = g\n",
    "    img[:, :, 2] = b\n",
    "\n",
    "    return img\n",
    "    \n",
    "#read\n",
    "img = cv2.imread(\"imori.jpg\")\n",
    "\n",
    "#swap\n",
    "img = RGB2BGR(img)\n",
    "\n",
    "cv2.imshow(\"result\",img)\n",
    "cv2.waitKey(0)\n",
    "cv2.destroyAllWindows()"
   ]
  },
  {
   "cell_type": "code",
   "execution_count": null,
   "id": "1ba006fe",
   "metadata": {},
   "outputs": [],
   "source": []
  }
 ],
 "metadata": {
  "kernelspec": {
   "display_name": "Python 3",
   "language": "python",
   "name": "python3"
  },
  "language_info": {
   "codemirror_mode": {
    "name": "ipython",
    "version": 3
   },
   "file_extension": ".py",
   "mimetype": "text/x-python",
   "name": "python",
   "nbconvert_exporter": "python",
   "pygments_lexer": "ipython3",
   "version": "3.8.5"
  }
 },
 "nbformat": 4,
 "nbformat_minor": 5
}
