{
 "cells": [
  {
   "cell_type": "code",
   "execution_count": 1,
   "id": "2392dd60",
   "metadata": {},
   "outputs": [],
   "source": [
    "#Median filter\n",
    "import cv2\n",
    "import numpy as np\n",
    "\n",
    "def filter_median(img, ksize=(3, 3)):\n",
    "    _img = img.copy().astype(np.float32)\n",
    "    ksize_h, ksize_w = ksize\n",
    "    \n",
    "    # padding\n",
    "    h, w = img.shape[:2]\n",
    "    pad_top, pad_bottom = ksize_h, ksize_h\n",
    "    pad_left, pad_right = ksize_w, ksize_w\n",
    "    \n",
    "    _img = np.pad(_img, [(pad_top, pad_bottom), (pad_left, pad_right), (0, 0)], 'edge')\n",
    "    out = np.zeros_like(_img)\n",
    "    \n",
    "    new_h, new_w = out.shape[:2]\n",
    "    c = 1 if len(out.shape) == 2 else out.shape[2]\n",
    "\n",
    "    # filtering\n",
    "    for iy in range(new_h - ksize_h):\n",
    "        for ix in range(new_w - ksize_w):\n",
    "            for ic in range(c):\n",
    "                out[iy, ix, ic] = np.median(_img[iy : iy + ksize_h, ix : ix + ksize_w, ic])\n",
    "            \n",
    "    out = out[pad_top : pad_top + h, pad_left : pad_left + w]\n",
    "    return np.clip(out, 0, 255).astype(np.uint8)\n",
    "\n",
    "# Read image\n",
    "img = cv2.imread(\"imori.jpg\")\n",
    "\n",
    "out = filter_median(img, (3, 3))\n",
    "\n",
    "cv2.imshow(\"result\", out)\n",
    "cv2.waitKey(0)\n",
    "cv2.destroyAllWindows()"
   ]
  },
  {
   "cell_type": "code",
   "execution_count": null,
   "id": "dd5c5cbf",
   "metadata": {},
   "outputs": [],
   "source": []
  }
 ],
 "metadata": {
  "kernelspec": {
   "display_name": "Python 3",
   "language": "python",
   "name": "python3"
  },
  "language_info": {
   "codemirror_mode": {
    "name": "ipython",
    "version": 3
   },
   "file_extension": ".py",
   "mimetype": "text/x-python",
   "name": "python",
   "nbconvert_exporter": "python",
   "pygments_lexer": "ipython3",
   "version": "3.8.5"
  }
 },
 "nbformat": 4,
 "nbformat_minor": 5
}
