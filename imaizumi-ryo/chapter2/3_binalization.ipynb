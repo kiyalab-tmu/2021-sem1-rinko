{
 "cells": [
  {
   "cell_type": "code",
   "execution_count": 1,
   "id": "7f5ce547",
   "metadata": {},
   "outputs": [],
   "source": [
    "#binalization\n",
    "import cv2\n",
    "import numpy as np\n",
    "\n",
    "def BGR2GRAY(img):\n",
    "    b = img[:, :, 0].copy()\n",
    "    g = img[:, :, 1].copy()\n",
    "    r = img[:, :, 2].copy()\n",
    "\n",
    "    gray = 0.2126 * r + 0.7152 * g + 0.0722 * b\n",
    "    gray = gray.astype(np.uint8)\n",
    "\n",
    "    return gray\n",
    "\n",
    "def binarization(img, threshold=128):\n",
    "    img[img < threshold] = 0\n",
    "    img[img >= threshold] = 255\n",
    "    return img\n",
    "\n",
    "img = cv2.imread(\"imori.jpg\").astype(np.float)\n",
    "\n",
    "# Grayscale\n",
    "gray = BGR2GRAY(img)\n",
    "output = binarization(gray)\n",
    "\n",
    "cv2.imshow(\"result\", output)\n",
    "cv2.waitKey(0)\n",
    "cv2.destroyAllWindows()"
   ]
  },
  {
   "cell_type": "code",
   "execution_count": null,
   "id": "f9b3116c",
   "metadata": {},
   "outputs": [],
   "source": []
  }
 ],
 "metadata": {
  "kernelspec": {
   "display_name": "Python 3",
   "language": "python",
   "name": "python3"
  },
  "language_info": {
   "codemirror_mode": {
    "name": "ipython",
    "version": 3
   },
   "file_extension": ".py",
   "mimetype": "text/x-python",
   "name": "python",
   "nbconvert_exporter": "python",
   "pygments_lexer": "ipython3",
   "version": "3.8.5"
  }
 },
 "nbformat": 4,
 "nbformat_minor": 5
}
