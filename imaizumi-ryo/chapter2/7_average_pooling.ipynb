{
 "cells": [
  {
   "cell_type": "code",
   "execution_count": 1,
   "id": "80a6335a",
   "metadata": {},
   "outputs": [],
   "source": [
    "#Average pooling\n",
    "import cv2\n",
    "import numpy as np\n",
    "\n",
    "\n",
    "# average pooling\n",
    "def pool_average(img, ksize_h=8, ksize_w=8):\n",
    "    _img = img.copy().astype(np.float32)\n",
    "    \n",
    "    # padding\n",
    "    h, w = img.shape[:2]\n",
    "    outer_h = h % ksize_h\n",
    "    pad_top = outer_h // 2\n",
    "    pad_bottom = outer_h - pad_top\n",
    "    outer_w = w % ksize_w\n",
    "    pad_left = outer_w // 2\n",
    "    pad_right = outer_w - pad_left\n",
    "    \n",
    "    _img = np.pad(_img, [(pad_top, pad_bottom), (pad_left, pad_right), (0, 0)], 'edge')\n",
    "    out = np.zeros_like(_img)\n",
    "    \n",
    "    new_h, new_w = out.shape[:2]\n",
    "    c = 1 if len(out.shape) == 2 else out.shape[2]\n",
    "    \n",
    "    # filtering\n",
    "    for iy in range(0, new_h, ksize_h):\n",
    "        for ix in range(0, new_w, ksize_w):\n",
    "            for ic in range(c):\n",
    "                out[iy : iy + ksize_h, ix : ix + ksize_w, ic] = _img[iy : iy + ksize_h, ix : ix + ksize_w, ic].mean()\n",
    "            \n",
    "    out = out[pad_top : pad_top + h, pad_left : pad_left + w]\n",
    "    return np.clip(out, 0, 255).astype(np.uint8)\n",
    "\n",
    "\n",
    "# Read image\n",
    "img = cv2.imread(\"imori.jpg\")\n",
    "\n",
    "# Average Pooling\n",
    "out = pool_average(img)\n",
    "\n",
    "# Save result\n",
    "\n",
    "cv2.imshow(\"result\", out)\n",
    "cv2.waitKey(0)\n",
    "cv2.destroyAllWindows()"
   ]
  },
  {
   "cell_type": "code",
   "execution_count": null,
   "id": "f6b1d021",
   "metadata": {},
   "outputs": [],
   "source": []
  }
 ],
 "metadata": {
  "kernelspec": {
   "display_name": "Python 3",
   "language": "python",
   "name": "python3"
  },
  "language_info": {
   "codemirror_mode": {
    "name": "ipython",
    "version": 3
   },
   "file_extension": ".py",
   "mimetype": "text/x-python",
   "name": "python",
   "nbconvert_exporter": "python",
   "pygments_lexer": "ipython3",
   "version": "3.8.5"
  }
 },
 "nbformat": 4,
 "nbformat_minor": 5
}
