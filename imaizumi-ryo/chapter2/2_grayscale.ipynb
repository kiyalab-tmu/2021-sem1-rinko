{
 "cells": [
  {
   "cell_type": "code",
   "execution_count": 2,
   "id": "7cbbeebb",
   "metadata": {},
   "outputs": [],
   "source": [
    "#Grayscale\n",
    "import cv2\n",
    "import numpy as np\n",
    "\n",
    "def BGR2GRAY(img):\n",
    "    b = img[:, :, 0].copy()\n",
    "    g = img[:, :, 1].copy()\n",
    "    r = img[:, :, 2].copy()\n",
    "\n",
    "    gray = 0.2126 * r + 0.7152 * g + 0.0722 * b\n",
    "    gray = gray.astype(np.uint8)\n",
    "\n",
    "    return gray\n",
    "\n",
    "\n",
    "img = cv2.imread(\"imori.jpg\").astype(np.float)\n",
    "\n",
    "# Grayscale\n",
    "gray = BGR2GRAY(img)\n",
    "\n",
    "cv2.imshow(\"result\", gray)\n",
    "cv2.waitKey(0)\n",
    "cv2.destroyAllWindows()"
   ]
  },
  {
   "cell_type": "code",
   "execution_count": null,
   "id": "06fa93a3",
   "metadata": {},
   "outputs": [],
   "source": []
  }
 ],
 "metadata": {
  "kernelspec": {
   "display_name": "Python 3",
   "language": "python",
   "name": "python3"
  },
  "language_info": {
   "codemirror_mode": {
    "name": "ipython",
    "version": 3
   },
   "file_extension": ".py",
   "mimetype": "text/x-python",
   "name": "python",
   "nbconvert_exporter": "python",
   "pygments_lexer": "ipython3",
   "version": "3.8.5"
  }
 },
 "nbformat": 4,
 "nbformat_minor": 5
}
