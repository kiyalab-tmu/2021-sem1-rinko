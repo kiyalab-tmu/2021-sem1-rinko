{
 "cells": [
  {
   "cell_type": "code",
   "execution_count": 1,
   "id": "d737b05e",
   "metadata": {},
   "outputs": [],
   "source": [
    "import torch\n",
    "import torchvision\n",
    "import matplotlib.pyplot as plt\n",
    "import numpy as np\n",
    "import torch.nn as nn\n",
    "import torch.nn.functional as F\n",
    "import torch.optim as optim\n",
    "import cv2"
   ]
  },
  {
   "cell_type": "code",
   "execution_count": 2,
   "id": "22b638c6",
   "metadata": {},
   "outputs": [],
   "source": [
    "class conv2d(nn.Module):\n",
    "    def __init__(self):\n",
    "        super().__init__() \n",
    "        self.kernel = np.array([[0, 0, 0], [0, 1, 0], [0, 0, 0]], np.float32)\n",
    "        self.kernel = torch.as_tensor(self.kernel.reshape(1, 1, 3, 3))\n",
    "    def forward(self, x):\n",
    "        x = [F.conv2d(x[:, i:i + 1,:,:],self.kernel, padding=1) for i in range(3)]\n",
    "        x = torch.cat(x, dim=1)\n",
    "        return x"
   ]
  },
  {
   "cell_type": "code",
   "execution_count": 3,
   "id": "41a40cc7",
   "metadata": {},
   "outputs": [],
   "source": [
    "class edge_detect(nn.Module): \n",
    "    def __init__(self):\n",
    "        super().__init__() \n",
    "        self.edge = np.array([[-1, -1, -1], [-1, 8, -1], [-1, -1, -1]], np.float32) #edge\n",
    "        self.edge = torch.as_tensor(self.edge.reshape(1, 1, 3, 3))\n",
    "        self.gray = np.array([0.299, 0.587, 0.114], np.float32).reshape(1, 3, 1, 1) # grayscale\n",
    "        self.gray = torch.as_tensor(self.gray)\n",
    "    def forward(self, x):\n",
    "        gray = torch.sum(x * self.gray, dim=1, keepdim=True)   \n",
    "        edge_image = F.conv2d(gray, self.edge, padding=1)\n",
    "        return edge_image"
   ]
  },
  {
   "cell_type": "code",
   "execution_count": 4,
   "id": "51f4f9c1",
   "metadata": {},
   "outputs": [],
   "source": [
    "class Padding(nn.Module):\n",
    "    def __init__(self):\n",
    "        super().__init__()\n",
    "        self.kernel = np.array([[0, 0, 0], [0, 1, 0], [0, 0, 0]], np.float32)\n",
    "        self.kernel = torch.as_tensor(self.kernel.reshape(1, 1, 3, 3))\n",
    "    def forward(self, x):\n",
    "        x = [F.conv2d(x[:, i:i + 1,:,:],self.kernel, padding=10) for i in range(3)]  #padding\n",
    "        x = torch.cat(x, dim=1)#\n",
    "        return x"
   ]
  },
  {
   "cell_type": "code",
   "execution_count": 5,
   "id": "c229d2dc",
   "metadata": {},
   "outputs": [],
   "source": [
    "class Stride(nn.Module):\n",
    "    def __init__(self):\n",
    "        super().__init__() \n",
    "        self.kernel = np.array([[0, 0, 0], [0, 1, 0], [0, 0, 0]], np.float32)\n",
    "        self.kernel = torch.as_tensor(self.kernel.reshape(1, 1, 3, 3))\n",
    "    def forward(self, x):\n",
    "        x = [F.conv2d(x[:, i:i + 1,:,:],self.kernel, stride=3) for i in range(3)]  #stride\n",
    "        x = torch.cat(x, dim=1)#Q1\n",
    "        return x"
   ]
  },
  {
   "cell_type": "code",
   "execution_count": 6,
   "id": "48c3e319",
   "metadata": {},
   "outputs": [],
   "source": [
    "class Pooling(nn.Module):\n",
    "    def __init__(self):\n",
    "        super().__init__() \n",
    "        self.Maxpool = nn.MaxPool2d(2,2) \n",
    "        self.Avgpool = nn.AvgPool2d(2,2) \n",
    "    def forward(self, x):\n",
    "        Max_pooling =  self.Maxpool(x)\n",
    "        Avg_pooling =  self.Avgpool(x)\n",
    "        return Max_pooling,Avg_pooling"
   ]
  },
  {
   "cell_type": "code",
   "execution_count": 7,
   "id": "30c2871e",
   "metadata": {},
   "outputs": [
    {
     "name": "stdout",
     "output_type": "stream",
     "text": [
      "(721, 1089, 3)\n"
     ]
    }
   ],
   "source": [
    "image = cv2.imread(\"test.jpg\")\n",
    "array = np.asarray(image, np.float32).transpose([2, 0, 1]) / 255.0\n",
    "tensor = torch.as_tensor(np.expand_dims(array, axis=0)) \n",
    "print(image.shape)"
   ]
  },
  {
   "cell_type": "code",
   "execution_count": 9,
   "id": "56f56759",
   "metadata": {},
   "outputs": [],
   "source": [
    "conv2d = conv2d() \n",
    "output = conv2d(tensor)\n",
    "torchvision.utils.save_image(output[0,:,:,:], \"conv2d.jpg\")"
   ]
  },
  {
   "cell_type": "code",
   "execution_count": 10,
   "id": "e09ea045",
   "metadata": {},
   "outputs": [],
   "source": [
    "edge = edge_detect() \n",
    "output = edge(tensor)\n",
    "torchvision.utils.save_image(output[0,:,:,:], \"edge.jpg\")"
   ]
  },
  {
   "cell_type": "code",
   "execution_count": 11,
   "id": "452aba51",
   "metadata": {},
   "outputs": [],
   "source": [
    "pad = Padding() \n",
    "output = pad(tensor)\n",
    "torchvision.utils.save_image(output[0,:,:,:], \"padding.jpg\")"
   ]
  },
  {
   "cell_type": "code",
   "execution_count": 12,
   "id": "d11ab76c",
   "metadata": {},
   "outputs": [],
   "source": [
    "stride = Stride() \n",
    "output = stride(tensor)\n",
    "torchvision.utils.save_image(output[0,:,:,:], \"stride.jpg\")"
   ]
  },
  {
   "cell_type": "code",
   "execution_count": 13,
   "id": "8456f68c",
   "metadata": {},
   "outputs": [],
   "source": [
    "pool = Pooling()\n",
    "max_pool, avg_pool = pool(tensor)\n",
    "torchvision.utils.save_image(max_pool[0,:,:,:], \"Max_pooling.jpg\")\n",
    "torchvision.utils.save_image(avg_pool[0,:,:,:], \"Avg_pooling.jpg\")"
   ]
  },
  {
   "cell_type": "code",
   "execution_count": 14,
   "id": "ae33e085",
   "metadata": {},
   "outputs": [],
   "source": [
    "def im2col(input,\n",
    "           filter_height: int,\n",
    "           filter_width: int,\n",
    "           stride: int,\n",
    "           padding: int,\n",
    "          ):\n",
    "    N, H, W, C = input.shape \n",
    "\n",
    "    # Calculate output shape\n",
    "    out_height = (H + 2*padding - filter_height)//stride + 1\n",
    "    out_width = (W + 2*padding - filter_width)//stride + 1\n",
    "\n",
    "    # Padding\n",
    "    input_pad = np.pad(input, \n",
    "                       [(0,0), (padding, padding), (padding, padding), (0,0)],\n",
    "                       'constant')\n",
    "   \n",
    "    # Initialize array\n",
    "    col = np.zeros((N,\n",
    "                    filter_height,\n",
    "                    filter_width,\n",
    "                    out_height,\n",
    "                    out_width,\n",
    "                    C,\n",
    "                   ))\n",
    "    for y in range(filter_height):\n",
    "        y_max = y + stride*out_height\n",
    "        for x in range(filter_width):\n",
    "            x_max = x + stride*out_width\n",
    "            col[:, y, x, :, :, :] = input_pad[:, y:y_max:stride, x:x_max:stride, :]\n",
    "    \n",
    "    col = col.transpose(0, 3, 4, 1, 2, 5).reshape(N*out_height*out_width, -1)\n",
    "    return col"
   ]
  },
  {
   "cell_type": "code",
   "execution_count": 15,
   "id": "71b7f8c5",
   "metadata": {},
   "outputs": [],
   "source": [
    "class Convolution(object):\n",
    "    def __init__(self, W, b, stride: int = 1, padding: int = 0):\n",
    "        self.W = W # Wight\n",
    "        self.b = b # Bias\n",
    "        self.stride = stride\n",
    "        self.padding = padding\n",
    "\n",
    "    def forward(self, x):\n",
    "        #Filter Number, Filter Height, Filter Width, Channel\n",
    "        FN, FH, FW, C = self.W.shape\n",
    "        N, H, W, C = x.shape\n",
    "        out_height, out_width = self._shape(H, W, FH, FW)\n",
    "\n",
    "        col = im2col(x, FH, FW, self.stride, self.padding)\n",
    "        col_w = self.W.reshape(FN, -1).T\n",
    "        out = np.dot(col, col_w) + self.b\n",
    "    \n",
    "        return out.reshape(N, out_height, out_width, -1)\n",
    "    \n",
    "    def _shape(self, H: int, W: int, FH: int, FW: int):\n",
    "        out_height = int(1 + (H + 2*self.padding - FH) / self.stride)\n",
    "        out_width = int(1 + (W + 2*self.padding - FW) / self.stride)\n",
    "        return out_height, out_width"
   ]
  },
  {
   "cell_type": "code",
   "execution_count": 16,
   "id": "d61a283c",
   "metadata": {},
   "outputs": [
    {
     "name": "stdout",
     "output_type": "stream",
     "text": [
      "(1, 721, 1089, 1)\n"
     ]
    }
   ],
   "source": [
    "image = cv2.imread(\"test.jpg\")\n",
    "array = np.asarray(image, np.float32).transpose([2, 0, 1]) / 255.0\n",
    "#tensor = torch.as_tensor(np.expand_dims(array, axis=0))\n",
    "image = np.expand_dims(image, axis=0)\n",
    "image = np.expand_dims(image[:,:,:,0], axis=-1)\n",
    "print(image.shape)"
   ]
  },
  {
   "cell_type": "code",
   "execution_count": 17,
   "id": "ff594803",
   "metadata": {},
   "outputs": [
    {
     "name": "stdout",
     "output_type": "stream",
     "text": [
      "(1, 719, 1087, 1)\n"
     ]
    },
    {
     "data": {
      "text/plain": [
       "True"
      ]
     },
     "execution_count": 17,
     "metadata": {},
     "output_type": "execute_result"
    }
   ],
   "source": [
    "kernel = np.array([[-1, -1, -1],\n",
    "                   [-1, 8, -1], \n",
    "                   [-1, -1, -1],])\n",
    "kernel = kernel.reshape(1, kernel.shape[0], kernel.shape[1], 1)\n",
    "bias = np.zeros(1)\n",
    "\n",
    "\n",
    "conv2d = Convolution(kernel, bias)\n",
    "out = conv2d.forward(image)\n",
    "\n",
    "print(out.shape)\n",
    "\n",
    "cv2.imwrite(\"out.jpg\",out[0, :, :, :])"
   ]
  },
  {
   "cell_type": "code",
   "execution_count": 18,
   "id": "cdb3514a",
   "metadata": {},
   "outputs": [
    {
     "name": "stdout",
     "output_type": "stream",
     "text": [
      "(1, 717, 1085, 1)\n"
     ]
    },
    {
     "data": {
      "text/plain": [
       "True"
      ]
     },
     "execution_count": 18,
     "metadata": {},
     "output_type": "execute_result"
    }
   ],
   "source": [
    "kernel = np.ones((1, 5, 5, 1)) * -1\n",
    "kernel[:, 2, 2, :] = 24\n",
    "\n",
    "bias = np.zeros(1)\n",
    "\n",
    "conv2d = Convolution(kernel, bias, stride=1)\n",
    "out = conv2d.forward(image)\n",
    "\n",
    "print(out.shape)\n",
    "\n",
    "cv2.imwrite(\"edge_manual.jpg\",out[0, :, :, :])"
   ]
  },
  {
   "cell_type": "code",
   "execution_count": null,
   "id": "5a570ee5",
   "metadata": {},
   "outputs": [],
   "source": []
  }
 ],
 "metadata": {
  "kernelspec": {
   "display_name": "Python 3",
   "language": "python",
   "name": "python3"
  },
  "language_info": {
   "codemirror_mode": {
    "name": "ipython",
    "version": 3
   },
   "file_extension": ".py",
   "mimetype": "text/x-python",
   "name": "python",
   "nbconvert_exporter": "python",
   "pygments_lexer": "ipython3",
   "version": "3.8.10"
  }
 },
 "nbformat": 4,
 "nbformat_minor": 5
}
