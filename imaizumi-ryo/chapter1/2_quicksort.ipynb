{
 "cells": [
  {
   "cell_type": "code",
   "execution_count": 1,
   "id": "9df58909",
   "metadata": {},
   "outputs": [
    {
     "name": "stdout",
     "output_type": "stream",
     "text": [
      "[9, 8, 7, 5, 6, 3, 1, 2, 4]\n",
      "[1, 2, 3, 4, 5, 6, 7, 8, 9]\n"
     ]
    }
   ],
   "source": [
    "#quicksort\n",
    "def quicksort(A, lo, hi):\n",
    "    if lo < hi:\n",
    "        p = partition(A, lo, hi)\n",
    "        quicksort(A, lo, p - 1)\n",
    "        quicksort(A, p + 1, hi)\n",
    "\n",
    "def partition(A, lo, hi):\n",
    "    pivot = A[hi]\n",
    "    i = lo\n",
    "    for j in range(lo, hi):\n",
    "        if A[j] < pivot:\n",
    "            A[i], A[j] = A[j], A[i]\n",
    "            i = i + 1\n",
    "    A[i], A[hi] = A[hi], A[i]\n",
    "    return i\n",
    "\n",
    "input = [9, 8, 7, 5, 6, 3, 1, 2, 4]\n",
    "print(input)\n",
    "quicksort(input, 0, len(input) - 1)\n",
    "print(input)"
   ]
  }
 ],
 "metadata": {
  "kernelspec": {
   "display_name": "Python 3",
   "language": "python",
   "name": "python3"
  },
  "language_info": {
   "codemirror_mode": {
    "name": "ipython",
    "version": 3
   },
   "file_extension": ".py",
   "mimetype": "text/x-python",
   "name": "python",
   "nbconvert_exporter": "python",
   "pygments_lexer": "ipython3",
   "version": "3.8.5"
  }
 },
 "nbformat": 4,
 "nbformat_minor": 5
}
