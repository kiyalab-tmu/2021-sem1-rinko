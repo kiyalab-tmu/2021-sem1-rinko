{
 "cells": [
  {
   "cell_type": "code",
   "execution_count": 3,
   "id": "a0b8b9b3",
   "metadata": {},
   "outputs": [
    {
     "data": {
      "text/plain": [
       "array([[-1.07813513, -0.8275586 , -1.3264489 , -1.30547395, -1.18731004],\n",
       "       [-1.41210919, -1.36093332, -0.9019975 , -1.57068917, -1.39470827],\n",
       "       [-1.03753858, -0.91335556, -1.08773309, -1.11811268, -1.74689982],\n",
       "       [-1.67452447, -0.81970922, -1.68952937, -1.55959869, -1.1388037 ],\n",
       "       [-1.01041696, -1.02725476, -1.54355532, -1.59142953, -1.48083099]])"
      ]
     },
     "execution_count": 3,
     "metadata": {},
     "output_type": "execute_result"
    }
   ],
   "source": [
    "#normalize\n",
    "import numpy as np\n",
    "\n",
    "a = np.random.random((5, 5))\n",
    "a = (a - np.mean(a) / np.std(a))\n",
    "a"
   ]
  },
  {
   "cell_type": "code",
   "execution_count": null,
   "id": "a0cdf4b9",
   "metadata": {},
   "outputs": [],
   "source": []
  }
 ],
 "metadata": {
  "kernelspec": {
   "display_name": "Python 3",
   "language": "python",
   "name": "python3"
  },
  "language_info": {
   "codemirror_mode": {
    "name": "ipython",
    "version": 3
   },
   "file_extension": ".py",
   "mimetype": "text/x-python",
   "name": "python",
   "nbconvert_exporter": "python",
   "pygments_lexer": "ipython3",
   "version": "3.8.5"
  }
 },
 "nbformat": 4,
 "nbformat_minor": 5
}
