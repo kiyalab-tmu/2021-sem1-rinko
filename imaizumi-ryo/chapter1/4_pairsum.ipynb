{
 "cells": [
  {
   "cell_type": "code",
   "execution_count": 36,
   "id": "2c687560",
   "metadata": {},
   "outputs": [
    {
     "name": "stdout",
     "output_type": "stream",
     "text": [
      "1 3\n",
      "2 2\n"
     ]
    }
   ],
   "source": [
    "#Pair Sum\n",
    "def PairSum(list, k):\n",
    "    while list:\n",
    "        if  k-list[0] in list:\n",
    "            print(list[0], k-list[0])\n",
    "            list.remove(k-list[0])\n",
    "            list.remove(list[0])\n",
    "        else:\n",
    "            list.remove(list[0])\n",
    "    return\n",
    "input = [1, 3, 2, 2]\n",
    "k = 4\n",
    "\n",
    "PairSum(input, k)"
   ]
  }
 ],
 "metadata": {
  "kernelspec": {
   "display_name": "Python 3",
   "language": "python",
   "name": "python3"
  },
  "language_info": {
   "codemirror_mode": {
    "name": "ipython",
    "version": 3
   },
   "file_extension": ".py",
   "mimetype": "text/x-python",
   "name": "python",
   "nbconvert_exporter": "python",
   "pygments_lexer": "ipython3",
   "version": "3.8.5"
  }
 },
 "nbformat": 4,
 "nbformat_minor": 5
}
