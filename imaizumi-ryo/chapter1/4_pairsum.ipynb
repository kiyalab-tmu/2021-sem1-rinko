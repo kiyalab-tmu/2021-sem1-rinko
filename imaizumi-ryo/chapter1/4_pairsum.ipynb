{
 "cells": [
  {
   "cell_type": "code",
   "execution_count": 48,
   "id": "2c687560",
   "metadata": {},
   "outputs": [
    {
     "name": "stdout",
     "output_type": "stream",
     "text": [
      "3 1\n",
      "2 2\n"
     ]
    }
   ],
   "source": [
    "#Pair Sum\n",
    "def PairSum(list, k):\n",
    "    pair = []\n",
    "    while list:\n",
    "        if k-list[0] == list[0]:\n",
    "            pair.append(k-list[0])\n",
    "            list.remove(k-list[0])\n",
    "            if  pair[0] in list:\n",
    "                print(k-pair[0], pair[0])\n",
    "                list.remove(list[0])\n",
    "        else:\n",
    "            if  k-list[0] in list:\n",
    "                print(k-list[0], list[0])\n",
    "                list.remove(k-list[0])\n",
    "                list.remove(list[0])\n",
    "            else:\n",
    "                list.remove(list[0])\n",
    "    return\n",
    "input = [1, 3, 2, 2]\n",
    "k = 4\n",
    "\n",
    "PairSum(input, k)"
   ]
  },
  {
   "cell_type": "code",
   "execution_count": null,
   "id": "df8d3f7b",
   "metadata": {},
   "outputs": [],
   "source": []
  }
 ],
 "metadata": {
  "kernelspec": {
   "display_name": "Python 3",
   "language": "python",
   "name": "python3"
  },
  "language_info": {
   "codemirror_mode": {
    "name": "ipython",
    "version": 3
   },
   "file_extension": ".py",
   "mimetype": "text/x-python",
   "name": "python",
   "nbconvert_exporter": "python",
   "pygments_lexer": "ipython3",
   "version": "3.8.5"
  }
 },
 "nbformat": 4,
 "nbformat_minor": 5
}
