{
 "cells": [
  {
   "cell_type": "code",
   "execution_count": 4,
   "id": "c9fea251",
   "metadata": {},
   "outputs": [
    {
     "name": "stdout",
     "output_type": "stream",
     "text": [
      "[[0.19892549 0.99131865 0.11668387]\n",
      " [0.58631254 0.66789454 0.34573639]\n",
      " [0.66641054 0.3118739  0.98127169]\n",
      " [0.96138284 0.47152306 0.80619358]\n",
      " [0.60059726 0.16674684 0.3928267 ]]\n",
      "[[0.534121   0.73675479]\n",
      " [0.94041435 0.01343358]\n",
      " [0.14991865 0.40652399]]\n",
      "[[1.05599365 0.20731106]\n",
      " [0.99309179 0.58149093]\n",
      " [0.79634549 0.89408123]\n",
      " [1.07778527 1.04237469]\n",
      " [0.53649478 0.60442639]]\n"
     ]
    }
   ],
   "source": [
    "#dotarray\n",
    "import numpy as np\n",
    "\n",
    "a = np.random.rand(5, 3)\n",
    "b = np.random.rand(3, 2)\n",
    "print(a)\n",
    "print(b)\n",
    "print(np.dot(a, b))"
   ]
  },
  {
   "cell_type": "code",
   "execution_count": null,
   "id": "e43b68b6",
   "metadata": {},
   "outputs": [],
   "source": []
  }
 ],
 "metadata": {
  "kernelspec": {
   "display_name": "Python 3",
   "language": "python",
   "name": "python3"
  },
  "language_info": {
   "codemirror_mode": {
    "name": "ipython",
    "version": 3
   },
   "file_extension": ".py",
   "mimetype": "text/x-python",
   "name": "python",
   "nbconvert_exporter": "python",
   "pygments_lexer": "ipython3",
   "version": "3.8.5"
  }
 },
 "nbformat": 4,
 "nbformat_minor": 5
}
