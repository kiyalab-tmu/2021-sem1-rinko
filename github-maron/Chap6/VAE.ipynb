{
 "cells": [
  {
   "cell_type": "code",
   "execution_count": 1,
   "metadata": {},
   "outputs": [
    {
     "name": "stdout",
     "output_type": "stream",
     "text": [
      "cpu\n"
     ]
    }
   ],
   "source": [
    "import torch\n",
    "import torch.optim as optim\n",
    "import torch.nn as nn\n",
    "import torch.nn.functional as F\n",
    "from torch.utils.data import Dataset, DataLoader, TensorDataset\n",
    "from torchvision.datasets import MNIST\n",
    "from torchvision import transforms\n",
    "import numpy as np\n",
    "from matplotlib import pyplot as plt\n",
    "\n",
    "device = torch.device(\"cuda:0\" if torch.cuda.is_available() else \"cpu\")\n",
    "print(device)\n",
    "\n",
    "class VAE(nn.Module):\n",
    "    def __init__(self):\n",
    "        super().__init__()\n",
    "        self.dense_enc1 = nn.Linear(28*28, 256)\n",
    "        self.dense_enc2 = nn.Linear(256, 64)\n",
    "        self.dense_encmean = nn.Linear(64, 10)\n",
    "        self.dense_encvar = nn.Linear(64, 10)\n",
    "        self.dense_dec1 = nn.Linear(10, 64)\n",
    "        self.dense_dec2 = nn.Linear(64, 256)\n",
    "        self.dense_dec3 = nn.Linear(256, 28*28)\n",
    "    \n",
    "    def _encoder(self, x):\n",
    "        x = F.relu(self.dense_enc1(x))\n",
    "        x = F.relu(self.dense_enc2(x))\n",
    "        mean = self.dense_encmean(x)\n",
    "        var = F.softplus(self.dense_encvar(x))\n",
    "        return mean, var\n",
    "    \n",
    "    def _sample_z(self, mean, var):\n",
    "        epsilon = torch.randn(mean.shape).to(device)\n",
    "        return mean + torch.sqrt(var) * epsilon\n",
    "    \n",
    "    def decoder(self, z):\n",
    "        x = F.relu(self.dense_dec1(z))\n",
    "        x = F.relu(self.dense_dec2(x))\n",
    "        x = torch.sigmoid(self.dense_dec3(x))\n",
    "        return x\n",
    "    \n",
    "    def forward(self, x):\n",
    "        mean, var = self._encoder(x)\n",
    "        z = self._sample_z(mean, var)\n",
    "        x = self.decoder(z)\n",
    "        return x, z\n",
    "    \n",
    "    def loss(self, x):\n",
    "        mean, var = self._encoder(x)\n",
    "        z = self._sample_z(mean, var)\n",
    "        y = self.decoder(z)\n",
    "        reconstruction = -torch.mean(torch.sum(x * torch.log(y) + (1-x) * torch.log(1-y), dim=1))\n",
    "        KL = -0.5 * torch.mean(torch.sum(1 + torch.log(var) - mean**2 - var, dim=1))\n",
    "        return KL+reconstruction\n",
    "    \n",
    "    \n",
    "    \n",
    "batch_size = 256\n",
    "transform = transforms.Compose([transforms.ToTensor(), transforms.Lambda(lambda x: x.view(-1))])\n",
    "\n",
    "mnist_train = MNIST(\"MNIST\", train=True, download=True, transform=transform)\n",
    "mnist_test = MNIST(\"MNIST\", train=False, download=True, transform=transform)\n",
    "\n",
    "\n",
    "train_loader = DataLoader(mnist_train, batch_size=batch_size, shuffle=True)\n",
    "test_loader = DataLoader(mnist_test, batch_size=batch_size, shuffle=True)"
   ]
  },
  {
   "cell_type": "code",
   "execution_count": 2,
   "metadata": {},
   "outputs": [
    {
     "name": "stdout",
     "output_type": "stream",
     "text": [
      "epoch : 0, train_loss : 217.4068\n",
      "epoch : 1, train_loss : 160.1800\n",
      "epoch : 2, train_loss : 139.9152\n",
      "epoch : 3, train_loss : 131.7150\n",
      "epoch : 4, train_loss : 126.3479\n",
      "epoch : 5, train_loss : 122.7245\n",
      "epoch : 6, train_loss : 119.8556\n",
      "epoch : 7, train_loss : 117.6945\n",
      "epoch : 8, train_loss : 116.2324\n",
      "epoch : 9, train_loss : 114.9628\n",
      "epoch : 10, train_loss : 113.8897\n",
      "epoch : 11, train_loss : 113.1146\n",
      "epoch : 12, train_loss : 112.3513\n",
      "epoch : 13, train_loss : 111.7138\n",
      "epoch : 14, train_loss : 111.1394\n",
      "epoch : 15, train_loss : 110.6948\n",
      "epoch : 16, train_loss : 110.1669\n",
      "epoch : 17, train_loss : 109.7799\n",
      "epoch : 18, train_loss : 109.4158\n",
      "epoch : 19, train_loss : 109.0948\n",
      "epoch : 20, train_loss : 108.7564\n",
      "epoch : 21, train_loss : 108.4978\n",
      "epoch : 22, train_loss : 108.2405\n",
      "epoch : 23, train_loss : 107.9954\n",
      "epoch : 24, train_loss : 107.7562\n",
      "epoch : 25, train_loss : 107.5937\n",
      "epoch : 26, train_loss : 107.3873\n",
      "epoch : 27, train_loss : 107.1534\n",
      "epoch : 28, train_loss : 106.9523\n",
      "epoch : 29, train_loss : 106.8264\n"
     ]
    }
   ],
   "source": [
    "net = VAE()\n",
    "net.to(device)\n",
    "\n",
    "optimizer = optim.Adam(net.parameters(), lr=0.001)\n",
    "epoch_num = 30\n",
    "running_loss = np.zeros(epoch_num)\n",
    "\n",
    "for epoch in range(epoch_num):\n",
    "    for i, data in enumerate(train_loader, 0):\n",
    "        inputs = data[0].to(device)\n",
    "        optimizer.zero_grad() \n",
    "        outputs, _ = net(inputs)\n",
    "        loss = net.loss(inputs) \n",
    "        loss.backward() \n",
    "        optimizer.step() \n",
    "        running_loss[epoch] += loss.item()       \n",
    "        \n",
    "    running_loss[epoch] /= len(train_loader)\n",
    "\n",
    "    print(\"epoch : %d, train_loss : %.4lf\" % (epoch, running_loss[epoch]))\n",
    "    "
   ]
  },
  {
   "cell_type": "code",
   "execution_count": 3,
   "metadata": {},
   "outputs": [
    {
     "data": {
      "image/png": "[encoded data removed]",
      "text/plain": [
       "<Figure size 432x288 with 8 Axes>"
      ]
     },
     "metadata": {
      "needs_background": "light"
     },
     "output_type": "display_data"
    }
   ],
   "source": [
    "batch_size=8\n",
    "\n",
    "z = torch.randn(batch_size, 10, device = device) \n",
    "\n",
    "images = net.decoder(z)\n",
    "images = images.view(-1, 28, 28)\n",
    "images = images.squeeze().detach().numpy()\n",
    "\n",
    "for i, image in enumerate(images):\n",
    "    plt.subplot(2, 4, i+1)\n",
    "    plt.imshow(image, cmap='gray')\n",
    "    plt.axis('off')\n",
    "plt.tight_layout()\n",
    "plt.show()"
   ]
  }
 ],
 "metadata": {
  "kernelspec": {
   "display_name": "Python 3",
   "language": "python",
   "name": "python3"
  },
  "language_info": {
   "codemirror_mode": {
    "name": "ipython",
    "version": 3
   },
   "file_extension": ".py",
   "mimetype": "text/x-python",
   "name": "python",
   "nbconvert_exporter": "python",
   "pygments_lexer": "ipython3",
   "version": "3.8.5"
  }
 },
 "nbformat": 4,
 "nbformat_minor": 4
}
