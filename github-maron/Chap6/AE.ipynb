{
 "cells": [
  {
   "cell_type": "code",
   "execution_count": 1,
   "metadata": {},
   "outputs": [
    {
     "name": "stdout",
     "output_type": "stream",
     "text": [
      "cpu\n"
     ]
    }
   ],
   "source": [
    "import torch\n",
    "import torch.optim as optim\n",
    "import torch.nn as nn\n",
    "import torch.nn.functional as F\n",
    "from torch.utils.data import Dataset, DataLoader, TensorDataset\n",
    "from torchvision.datasets import FashionMNIST\n",
    "from torchvision import transforms\n",
    "import numpy as np\n",
    "from matplotlib import pyplot as plt\n",
    "\n",
    "device = torch.device(\"cuda:0\" if torch.cuda.is_available() else \"cpu\")\n",
    "print(device)\n",
    "\n",
    "class AE(nn.Module):\n",
    "    def __init__(self):\n",
    "        super().__init__()\n",
    "        self.dense_enc1 = nn.Linear(28*28, 256)\n",
    "        self.dense_enc2 = nn.Linear(256, 64)\n",
    "        self.dense_dec1 = nn.Linear(64, 256)\n",
    "        self.dense_dec2 = nn.Linear(256, 28*28)\n",
    "    \n",
    "    def forward(self, x):\n",
    "        x = F.relu(self.dense_enc1(x))\n",
    "        x = F.relu(self.dense_enc2(x))\n",
    "        x = F.relu(self.dense_dec1(x))\n",
    "        x = torch.sigmoid(self.dense_dec2(x))\n",
    "        return x\n",
    "       \n",
    "batch_size = 256\n",
    "transform = transforms.Compose([transforms.ToTensor(), transforms.Lambda(lambda x: x.view(-1))])\n",
    "\n",
    "fashion_mnist_train = FashionMNIST(\"FashionMNIST\", train=True, download=True, transform=transform)\n",
    "fashion_mnist_test = FashionMNIST(\"FashionMNIST\", train=False, download=True, transform=transform)\n",
    "\n",
    "\n",
    "train_loader = DataLoader(fashion_mnist_train, batch_size=batch_size, shuffle=True)\n",
    "test_loader = DataLoader(fashion_mnist_test, batch_size=1, shuffle=True)"
   ]
  },
  {
   "cell_type": "code",
   "execution_count": 2,
   "metadata": {},
   "outputs": [
    {
     "name": "stdout",
     "output_type": "stream",
     "text": [
      "epoch : 0, train_loss : 0.0275\n",
      "epoch : 1, train_loss : 0.0157\n",
      "epoch : 2, train_loss : 0.0137\n",
      "epoch : 3, train_loss : 0.0126\n",
      "epoch : 4, train_loss : 0.0121\n",
      "epoch : 5, train_loss : 0.0116\n",
      "epoch : 6, train_loss : 0.0114\n",
      "epoch : 7, train_loss : 0.0111\n",
      "epoch : 8, train_loss : 0.0111\n",
      "epoch : 9, train_loss : 0.0109\n",
      "epoch : 10, train_loss : 0.0108\n",
      "epoch : 11, train_loss : 0.0107\n",
      "epoch : 12, train_loss : 0.0106\n",
      "epoch : 13, train_loss : 0.0105\n",
      "epoch : 14, train_loss : 0.0105\n",
      "epoch : 15, train_loss : 0.0104\n",
      "epoch : 16, train_loss : 0.0104\n",
      "epoch : 17, train_loss : 0.0103\n",
      "epoch : 18, train_loss : 0.0102\n",
      "epoch : 19, train_loss : 0.0103\n"
     ]
    }
   ],
   "source": [
    "net = AE()\n",
    "net.to(device)\n",
    "\n",
    "optimizer = optim.Adam(net.parameters(), lr=0.01)\n",
    "criterion = nn.MSELoss()\n",
    "epoch_num = 20\n",
    "running_loss = np.zeros(epoch_num)\n",
    "\n",
    "for epoch in range(epoch_num):\n",
    "    for i, data in enumerate(train_loader, 0):\n",
    "        inputs = data[0].to(device)\n",
    "        optimizer.zero_grad() \n",
    "        outputs = net(inputs)\n",
    "        loss = criterion(inputs, outputs) \n",
    "        loss.backward() \n",
    "        optimizer.step() \n",
    "        running_loss[epoch] += loss.item()       \n",
    "        \n",
    "    running_loss[epoch] /= len(train_loader)\n",
    "\n",
    "    print(\"epoch : %d, train_loss : %.4lf\" % (epoch, running_loss[epoch]))\n",
    "    "
   ]
  },
  {
   "cell_type": "code",
   "execution_count": 3,
   "metadata": {},
   "outputs": [
    {
     "data": {
      "image/png": "[encoded data removed]",
      "text/plain": [
       "<Figure size 432x288 with 2 Axes>"
      ]
     },
     "metadata": {
      "needs_background": "light"
     },
     "output_type": "display_data"
    }
   ],
   "source": [
    "x, _ = next(iter(test_loader))\n",
    "x = x.to(device)\n",
    "\n",
    "x_rec = net(x)\n",
    "\n",
    "for i, image in enumerate([x, x_rec]):\n",
    "    #image = image.view(28, 28).detach().numpy()\n",
    "    image = image.view(-1, 28, 28)\n",
    "    image = image.squeeze().detach().numpy()\n",
    "    plt.subplot(1, 2, i+1)\n",
    "    plt.imshow(image, cmap='gray')\n",
    "    plt.axis('off')\n",
    "plt.show()"
   ]
  }
 ],
 "metadata": {
  "kernelspec": {
   "display_name": "Python 3",
   "language": "python",
   "name": "python3"
  },
  "language_info": {
   "codemirror_mode": {
    "name": "ipython",
    "version": 3
   },
   "file_extension": ".py",
   "mimetype": "text/x-python",
   "name": "python",
   "nbconvert_exporter": "python",
   "pygments_lexer": "ipython3",
   "version": "3.8.5"
  }
 },
 "nbformat": 4,
 "nbformat_minor": 4
}
