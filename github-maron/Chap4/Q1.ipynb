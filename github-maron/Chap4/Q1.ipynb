{
 "cells": [
  {
   "cell_type": "code",
   "execution_count": 1,
   "metadata": {},
   "outputs": [
    {
     "name": "stdout",
     "output_type": "stream",
     "text": [
      "Arr: [[ 0  1  2  3]\n",
      " [ 4  5  6  7]\n",
      " [ 8  9 10 11]\n",
      " [12 13 14 15]]\n",
      "kernel: [[4 3]\n",
      " [2 4]]\n",
      "[[ 32  45  58]\n",
      " [ 84  97 110]\n",
      " [136 149 162]]\n"
     ]
    }
   ],
   "source": [
    "import numpy as np\n",
    "\n",
    "Arr= np.arange(16).reshape(4, 4)\n",
    "kernel = np.random.randint(1, 5, (2, 2))\n",
    "bias = [1]\n",
    "\n",
    "print(\"Arr:\",Arr)\n",
    "print(\"kernel:\",kernel)\n",
    "\n",
    "size, _ = Arr.shape\n",
    "k_size, _ =  kernel.shape\n",
    "\n",
    "ans = np.zeros((size-(k_size-1), size-(k_size-1)), dtype = int)\n",
    "\n",
    "for i in range(size-(k_size-1)):\n",
    "    for j in range(size-(k_size-1)):\n",
    "        tmpArr = Arr[i:(i+k_size), j:(j+k_size)]\n",
    "        tmp = np.sum(tmpArr*kernel)\n",
    "        ans[i,j] = tmp\n",
    "        \n",
    "ans += bias\n",
    "\n",
    "print(ans)"
   ]
  }
 ],
 "metadata": {
  "kernelspec": {
   "display_name": "Python 3",
   "language": "python",
   "name": "python3"
  },
  "language_info": {
   "codemirror_mode": {
    "name": "ipython",
    "version": 3
   },
   "file_extension": ".py",
   "mimetype": "text/x-python",
   "name": "python",
   "nbconvert_exporter": "python",
   "pygments_lexer": "ipython3",
   "version": "3.8.5"
  }
 },
 "nbformat": 4,
 "nbformat_minor": 4
}
