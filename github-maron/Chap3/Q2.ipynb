{
 "cells": [
  {
   "cell_type": "code",
   "execution_count": 1,
   "metadata": {},
   "outputs": [],
   "source": [
    "import torch\n",
    "import torch.optim as optim\n",
    "from torch.utils.data import Dataset, DataLoader, TensorDataset\n",
    "from torchvision.datasets import FashionMNIST\n",
    "from torchvision import transforms\n",
    "import tensorflow as tf\n",
    "import numpy as np\n",
    "\n",
    "batch_size = 256\n",
    "classes = 10\n",
    "\n",
    "def softmax(y):\n",
    "    for i in range(len(y)):\n",
    "        y[i] = torch.exp(y[i])/torch.sum(torch.exp(y[i]))\n",
    "    return y  \n",
    "\n",
    "def cross_entropy_loss(p, q):\n",
    "    tmp = torch.zeros((len(q), classes))\n",
    "    for i in range((len(q))):\n",
    "        tmp[i][p[i].item()] += 1.0\n",
    "    \n",
    "    ans = torch.zeros((len(q)))\n",
    "    #delta = 1e-7 #-inf防止\n",
    "    \n",
    "    for i in range((len(q))):\n",
    "        ans[i] = torch.sum(-(tmp[i]*torch.log(q[i])))    \n",
    "    return torch.mean(ans)"
   ]
  },
  {
   "cell_type": "code",
   "execution_count": 2,
   "metadata": {},
   "outputs": [],
   "source": [
    "fashion_mnist_train = FashionMNIST(\"FashionMNIST\", train=True, download=True, transform=transforms.ToTensor())\n",
    "fashion_mnist_test = FashionMNIST(\"FashionMNIST\", train=False, download=True, transform=transforms.ToTensor())\n",
    "\n",
    "train_loader = DataLoader(fashion_mnist_train, batch_size=batch_size, shuffle=True)\n",
    "test_loader = DataLoader(fashion_mnist_test, batch_size=batch_size, shuffle=True)"
   ]
  },
  {
   "cell_type": "code",
   "execution_count": 3,
   "metadata": {},
   "outputs": [
    {
     "name": "stdout",
     "output_type": "stream",
     "text": [
      "epoch : 0, loss : 1.2588\n",
      "epoch : 1, loss : 0.8434\n",
      "epoch : 2, loss : 0.7381\n",
      "epoch : 3, loss : 0.6822\n",
      "epoch : 4, loss : 0.6457\n",
      "epoch : 5, loss : 0.6195\n",
      "epoch : 6, loss : 0.5986\n",
      "epoch : 7, loss : 0.5823\n",
      "epoch : 8, loss : 0.5680\n",
      "epoch : 9, loss : 0.5568\n",
      "epoch : 10, loss : 0.5464\n",
      "epoch : 11, loss : 0.5377\n",
      "epoch : 12, loss : 0.5300\n",
      "epoch : 13, loss : 0.5231\n",
      "epoch : 14, loss : 0.5171\n",
      "epoch : 15, loss : 0.5109\n",
      "epoch : 16, loss : 0.5062\n",
      "epoch : 17, loss : 0.5016\n",
      "epoch : 18, loss : 0.4969\n",
      "epoch : 19, loss : 0.4930\n",
      "epoch : 20, loss : 0.4895\n",
      "epoch : 21, loss : 0.4857\n",
      "epoch : 22, loss : 0.4824\n",
      "epoch : 23, loss : 0.4796\n",
      "epoch : 24, loss : 0.4764\n",
      "epoch : 25, loss : 0.4737\n",
      "epoch : 26, loss : 0.4709\n",
      "epoch : 27, loss : 0.4687\n",
      "epoch : 28, loss : 0.4661\n",
      "epoch : 29, loss : 0.4640\n",
      "epoch : 30, loss : 0.4624\n",
      "epoch : 31, loss : 0.4597\n",
      "epoch : 32, loss : 0.4582\n",
      "epoch : 33, loss : 0.4561\n",
      "epoch : 34, loss : 0.4546\n",
      "epoch : 35, loss : 0.4531\n",
      "epoch : 36, loss : 0.4513\n",
      "epoch : 37, loss : 0.4499\n",
      "epoch : 38, loss : 0.4484\n",
      "epoch : 39, loss : 0.4467\n",
      "epoch : 40, loss : 0.4452\n",
      "epoch : 41, loss : 0.4439\n",
      "epoch : 42, loss : 0.4427\n",
      "epoch : 43, loss : 0.4416\n",
      "epoch : 44, loss : 0.4399\n",
      "epoch : 45, loss : 0.4387\n",
      "epoch : 46, loss : 0.4378\n",
      "epoch : 47, loss : 0.4368\n",
      "epoch : 48, loss : 0.4359\n",
      "epoch : 49, loss : 0.4342\n",
      "epoch : 50, loss : 0.4335\n",
      "epoch : 51, loss : 0.4330\n",
      "epoch : 52, loss : 0.4313\n",
      "epoch : 53, loss : 0.4308\n",
      "epoch : 54, loss : 0.4297\n",
      "epoch : 55, loss : 0.4286\n",
      "epoch : 56, loss : 0.4282\n",
      "epoch : 57, loss : 0.4274\n",
      "epoch : 58, loss : 0.4261\n",
      "epoch : 59, loss : 0.4253\n",
      "epoch : 60, loss : 0.4249\n",
      "epoch : 61, loss : 0.4240\n",
      "epoch : 62, loss : 0.4235\n",
      "epoch : 63, loss : 0.4224\n",
      "epoch : 64, loss : 0.4215\n",
      "epoch : 65, loss : 0.4207\n",
      "epoch : 66, loss : 0.4203\n",
      "epoch : 67, loss : 0.4199\n",
      "epoch : 68, loss : 0.4188\n",
      "epoch : 69, loss : 0.4180\n",
      "[1.25884414 0.84336436 0.73810464 0.68216187 0.64567077 0.61952507\n",
      " 0.59864569 0.58226889 0.56802702 0.5567832  0.5464462  0.53767902\n",
      " 0.53001261 0.52306908 0.5171032  0.5109424  0.50622922 0.50164455\n",
      " 0.49693564 0.49300936 0.48947677 0.48571119 0.48238897 0.47957167\n",
      " 0.47643426 0.47372448 0.47091407 0.46870917 0.46612722 0.46404859\n",
      " 0.46238214 0.45971945 0.45819122 0.45612106 0.45457667 0.4531014\n",
      " 0.45129523 0.44992986 0.44840628 0.44669253 0.44516018 0.44389206\n",
      " 0.44272831 0.44164339 0.43986619 0.43873215 0.43783858 0.43677366\n",
      " 0.43592235 0.43420225 0.43354294 0.43302891 0.431328   0.43080324\n",
      " 0.42968586 0.42859152 0.42822078 0.42737243 0.42612222 0.42525643\n",
      " 0.42492229 0.42399737 0.42347473 0.42237762 0.42154628 0.42068237\n",
      " 0.4202618  0.41990986 0.41881728 0.41803977]\n"
     ]
    }
   ],
   "source": [
    "w = torch.normal(0, 0.01, size=(28*28, classes), requires_grad=True)\n",
    "b = torch.zeros(classes, requires_grad=True)\n",
    "\n",
    "\n",
    "epoch_num = 70\n",
    "optimizer = optim.SGD([w, b], lr = 0.01)\n",
    "running_loss = np.zeros(epoch_num)\n",
    "\n",
    "for epoch in range(epoch_num):\n",
    "    for i, (images, labels) in enumerate(train_loader):\n",
    "        images = images.view(-1,28*28)\n",
    "        optimizer.zero_grad()\n",
    "        with torch.set_grad_enabled(True):\n",
    "            outputs = torch.matmul(images, w)+ b\n",
    "            pred_y = softmax(outputs)\n",
    "            loss = cross_entropy_loss(labels, pred_y)\n",
    "            running_loss[epoch] += torch.sum(loss)/batch_size\n",
    "\n",
    "        loss.backward()\n",
    "        optimizer.step()\n",
    "        \n",
    "    print(\"epoch : %d, loss : %.4lf\" % (epoch, running_loss[epoch]))\n",
    "        \n",
    "        \n",
    "print(running_loss)"
   ]
  },
  {
   "cell_type": "code",
   "execution_count": 4,
   "metadata": {},
   "outputs": [],
   "source": [
    "def whichclass(pred_y):\n",
    "    _, label = torch.max(pred_y, 1)\n",
    "    return label"
   ]
  },
  {
   "cell_type": "code",
   "execution_count": 6,
   "metadata": {},
   "outputs": [
    {
     "name": "stdout",
     "output_type": "stream",
     "text": [
      "0.8325\n"
     ]
    }
   ],
   "source": [
    "acc = 0.0\n",
    "correct = 0.0\n",
    "count = 0.0\n",
    "\n",
    "for i, (images, labels) in enumerate(test_loader):\n",
    "    images = images.view(-1,28*28)\n",
    "    outputs = torch.matmul(images, w)+ b\n",
    "    pred_label = softmax(outputs)\n",
    "    pred_label = whichclass(pred_label)\n",
    "    \n",
    "    for j in range(len(pred_label)):\n",
    "        if pred_label[j].int() == labels[j]:\n",
    "            correct += 1\n",
    "        count += 1\n",
    "\n",
    "acc = correct/count\n",
    "print(acc)"
   ]
  },
  {
   "cell_type": "code",
   "execution_count": 9,
   "metadata": {},
   "outputs": [
    {
     "data": {
      "text/plain": [
       "[<matplotlib.lines.Line2D at 0x1fb1645b760>]"
      ]
     },
     "execution_count": 9,
     "metadata": {},
     "output_type": "execute_result"
    },
    {
     "data": {
      "image/png": "[encoded data removed]",
      "text/plain": [
       "<Figure size 432x288 with 1 Axes>"
      ]
     },
     "metadata": {
      "needs_background": "light"
     },
     "output_type": "display_data"
    }
   ],
   "source": [
    "from matplotlib import pyplot as plt\n",
    "plt.plot(running_loss)"
   ]
  }
 ],
 "metadata": {
  "kernelspec": {
   "display_name": "Python 3",
   "language": "python",
   "name": "python3"
  },
  "language_info": {
   "codemirror_mode": {
    "name": "ipython",
    "version": 3
   },
   "file_extension": ".py",
   "mimetype": "text/x-python",
   "name": "python",
   "nbconvert_exporter": "python",
   "pygments_lexer": "ipython3",
   "version": "3.8.5"
  }
 },
 "nbformat": 4,
 "nbformat_minor": 4
}
