{
 "cells": [
  {
   "cell_type": "code",
   "execution_count": 7,
   "metadata": {},
   "outputs": [],
   "source": [
    "import torch\n",
    "import torch.optim as optim\n",
    "from torch.utils.data import Dataset, DataLoader, TensorDataset\n",
    "from torchvision.datasets import FashionMNIST\n",
    "from torchvision import transforms\n",
    "import tensorflow as tf\n",
    "import numpy as np\n",
    "\n",
    "batch_size = 256\n",
    "classes = 10\n",
    "\n",
    "def Relu(y):\n",
    "    return torch.maximum(torch.tensor(0), y)\n",
    "\n",
    "def softmax(y):\n",
    "    for i in range(len(y)):\n",
    "        y[i] = torch.exp(y[i])/torch.sum(torch.exp(y[i]))\n",
    "    return y  \n",
    "        \n",
    "def cross_entropy_loss(p, q):\n",
    "    tmp = torch.zeros((len(q), classes))\n",
    "    for i in range((len(q))):\n",
    "        tmp[i][p[i].item()] += 1.0\n",
    "    \n",
    "    ans = torch.zeros((len(q)))\n",
    "    \n",
    "    for i in range((len(q))):\n",
    "        ans[i] = torch.sum(-(tmp[i]*torch.log(q[i])))    \n",
    "    return torch.mean(ans)"
   ]
  },
  {
   "cell_type": "code",
   "execution_count": 8,
   "metadata": {},
   "outputs": [],
   "source": [
    "fashion_mnist_train = FashionMNIST(\"FashionMNIST\", train=True, download=True, transform=transforms.ToTensor())\n",
    "fashion_mnist_test = FashionMNIST(\"FashionMNIST\", train=False, download=True, transform=transforms.ToTensor())\n",
    "\n",
    "train_loader = DataLoader(fashion_mnist_train, batch_size=batch_size, shuffle=True)\n",
    "test_loader = DataLoader(fashion_mnist_test, batch_size=batch_size, shuffle=True)"
   ]
  },
  {
   "cell_type": "code",
   "execution_count": 9,
   "metadata": {},
   "outputs": [
    {
     "name": "stdout",
     "output_type": "stream",
     "text": [
      "epoch : 0, loss : 1.6821\n",
      "epoch : 1, loss : 0.9331\n",
      "epoch : 2, loss : 0.7399\n",
      "epoch : 3, loss : 0.6602\n",
      "epoch : 4, loss : 0.6064\n",
      "epoch : 5, loss : 0.5662\n",
      "epoch : 6, loss : 0.5351\n",
      "epoch : 7, loss : 0.5113\n",
      "epoch : 8, loss : 0.4929\n",
      "epoch : 9, loss : 0.4783\n",
      "epoch : 10, loss : 0.4664\n",
      "epoch : 11, loss : 0.4563\n",
      "epoch : 12, loss : 0.4479\n",
      "epoch : 13, loss : 0.4396\n",
      "epoch : 14, loss : 0.4337\n",
      "epoch : 15, loss : 0.4280\n",
      "epoch : 16, loss : 0.4231\n",
      "epoch : 17, loss : 0.4183\n",
      "epoch : 18, loss : 0.4146\n",
      "epoch : 19, loss : 0.4099\n",
      "epoch : 20, loss : 0.4067\n",
      "epoch : 21, loss : 0.4029\n",
      "epoch : 22, loss : 0.4000\n",
      "epoch : 23, loss : 0.3971\n",
      "epoch : 24, loss : 0.3942\n",
      "epoch : 25, loss : 0.3912\n",
      "epoch : 26, loss : 0.3892\n",
      "epoch : 27, loss : 0.3860\n",
      "epoch : 28, loss : 0.3836\n",
      "epoch : 29, loss : 0.3815\n",
      "epoch : 30, loss : 0.3790\n",
      "epoch : 31, loss : 0.3768\n",
      "epoch : 32, loss : 0.3744\n",
      "epoch : 33, loss : 0.3719\n",
      "epoch : 34, loss : 0.3698\n",
      "epoch : 35, loss : 0.3679\n",
      "epoch : 36, loss : 0.3663\n",
      "epoch : 37, loss : 0.3644\n",
      "epoch : 38, loss : 0.3625\n",
      "epoch : 39, loss : 0.3606\n",
      "epoch : 40, loss : 0.3589\n",
      "epoch : 41, loss : 0.3574\n",
      "epoch : 42, loss : 0.3551\n",
      "epoch : 43, loss : 0.3534\n",
      "epoch : 44, loss : 0.3519\n",
      "epoch : 45, loss : 0.3500\n",
      "epoch : 46, loss : 0.3487\n",
      "epoch : 47, loss : 0.3472\n",
      "epoch : 48, loss : 0.3449\n",
      "epoch : 49, loss : 0.3437\n",
      "epoch : 50, loss : 0.3420\n",
      "epoch : 51, loss : 0.3402\n",
      "epoch : 52, loss : 0.3390\n",
      "epoch : 53, loss : 0.3372\n",
      "epoch : 54, loss : 0.3355\n",
      "epoch : 55, loss : 0.3343\n",
      "epoch : 56, loss : 0.3325\n",
      "epoch : 57, loss : 0.3320\n",
      "epoch : 58, loss : 0.3304\n",
      "epoch : 59, loss : 0.3294\n",
      "epoch : 60, loss : 0.3272\n",
      "epoch : 61, loss : 0.3263\n",
      "epoch : 62, loss : 0.3251\n",
      "epoch : 63, loss : 0.3239\n",
      "epoch : 64, loss : 0.3220\n",
      "epoch : 65, loss : 0.3217\n",
      "epoch : 66, loss : 0.3204\n",
      "epoch : 67, loss : 0.3188\n",
      "epoch : 68, loss : 0.3177\n",
      "epoch : 69, loss : 0.3165\n",
      "epoch : 70, loss : 0.3146\n",
      "epoch : 71, loss : 0.3139\n",
      "epoch : 72, loss : 0.3131\n",
      "epoch : 73, loss : 0.3116\n",
      "epoch : 74, loss : 0.3106\n",
      "epoch : 75, loss : 0.3099\n",
      "epoch : 76, loss : 0.3083\n",
      "epoch : 77, loss : 0.3072\n",
      "epoch : 78, loss : 0.3070\n",
      "epoch : 79, loss : 0.3059\n",
      "epoch : 80, loss : 0.3042\n",
      "epoch : 81, loss : 0.3031\n",
      "epoch : 82, loss : 0.3021\n",
      "epoch : 83, loss : 0.3019\n",
      "epoch : 84, loss : 0.3009\n",
      "epoch : 85, loss : 0.2999\n",
      "epoch : 86, loss : 0.2981\n",
      "epoch : 87, loss : 0.2975\n",
      "epoch : 88, loss : 0.2963\n",
      "epoch : 89, loss : 0.2959\n",
      "epoch : 90, loss : 0.2950\n",
      "epoch : 91, loss : 0.2939\n",
      "epoch : 92, loss : 0.2935\n",
      "epoch : 93, loss : 0.2919\n",
      "epoch : 94, loss : 0.2904\n",
      "epoch : 95, loss : 0.2902\n",
      "epoch : 96, loss : 0.2892\n",
      "epoch : 97, loss : 0.2883\n",
      "epoch : 98, loss : 0.2876\n",
      "epoch : 99, loss : 0.2862\n",
      "[1.68211865 0.93312556 0.73991805 0.66024286 0.60636759 0.56621426\n",
      " 0.53512216 0.51125175 0.49290666 0.47830713 0.46640757 0.45630518\n",
      " 0.44788948 0.43956709 0.43369561 0.42802018 0.42305961 0.41830611\n",
      " 0.41456178 0.40990776 0.40673369 0.40292266 0.39997268 0.39705563\n",
      " 0.39423496 0.39121407 0.38915494 0.38600463 0.38355127 0.38146317\n",
      " 0.37901801 0.37681416 0.37435183 0.37192836 0.36980775 0.36786321\n",
      " 0.36625943 0.3643856  0.36250377 0.36057404 0.35886559 0.35738435\n",
      " 0.35508698 0.35340694 0.35192561 0.35003057 0.34868836 0.34722084\n",
      " 0.34490678 0.34369043 0.3420026  0.34020057 0.33898255 0.33719859\n",
      " 0.33548322 0.33428094 0.33253381 0.33195204 0.33042929 0.32943428\n",
      " 0.32723761 0.32632881 0.32506216 0.32386506 0.32195458 0.32166085\n",
      " 0.32041562 0.31880125 0.31769356 0.31649145 0.31456363 0.31389183\n",
      " 0.31312013 0.3115876  0.31060079 0.30993319 0.30832994 0.30717003\n",
      " 0.30701005 0.30590349 0.30417171 0.30309898 0.30213115 0.30187902\n",
      " 0.30087468 0.29994634 0.29813692 0.29750574 0.29626811 0.29585323\n",
      " 0.29501393 0.29392421 0.29353032 0.29189917 0.29039085 0.29020819\n",
      " 0.28920117 0.28832051 0.28761002 0.28622031]\n"
     ]
    }
   ],
   "source": [
    "w1 = torch.normal(0, 0.01, size=(28*28, 256), requires_grad=True)\n",
    "b1 = torch.zeros(256, requires_grad=True)\n",
    "w2 = torch.normal(0, 0.01, size=(256, classes), requires_grad=True)\n",
    "b2 = torch.zeros(classes, requires_grad=True)\n",
    "\n",
    "epoch_num = 100\n",
    "optimizer = optim.SGD([w1, b1, w2, b2], lr = 0.02)\n",
    "running_loss = np.zeros(epoch_num)\n",
    "\n",
    "for epoch in range(epoch_num):\n",
    "    for i, (images, labels) in enumerate(train_loader): \n",
    "        images = images.view(-1,28*28)\n",
    "        optimizer.zero_grad()\n",
    "        with torch.set_grad_enabled(True):\n",
    "            outputs = torch.matmul(images, w1)+ b1\n",
    "            outputs = Relu(outputs)\n",
    "            outputs = torch.matmul(outputs, w2)+ b2\n",
    "            pred_y = softmax(outputs)                 \n",
    "            loss = cross_entropy_loss(labels, pred_y) \n",
    "            running_loss[epoch] += torch.sum(loss)/batch_size\n",
    "\n",
    "        loss.backward()\n",
    "        optimizer.step()                              \n",
    "        \n",
    "    print(\"epoch : %d, loss : %.4lf\" % (epoch, running_loss[epoch]))\n",
    "        \n",
    "        \n",
    "print(running_loss)"
   ]
  },
  {
   "cell_type": "code",
   "execution_count": 10,
   "metadata": {},
   "outputs": [],
   "source": [
    "def whichclass(pred_y):\n",
    "    _, label = torch.max(pred_y, 1)\n",
    "    return label"
   ]
  },
  {
   "cell_type": "code",
   "execution_count": 11,
   "metadata": {},
   "outputs": [
    {
     "name": "stdout",
     "output_type": "stream",
     "text": [
      "0.868\n"
     ]
    }
   ],
   "source": [
    "from matplotlib import pyplot as plt\n",
    "\n",
    "acc = 0.0\n",
    "correct = 0.0\n",
    "count = 0.0\n",
    "\n",
    "for i, (images, labels) in enumerate(test_loader):\n",
    "    images = images.view(-1,28*28)\n",
    "    outputs = torch.matmul(images, w1)+ b1\n",
    "    outputs = Relu(outputs)\n",
    "    outputs = torch.matmul(outputs, w2)+ b2\n",
    "    pred_label1 = softmax(outputs)\n",
    "    pred_label = whichclass(pred_label1)\n",
    "    \n",
    "    for j in range(len(pred_label)):\n",
    "        if pred_label[j].int() == labels[j]:\n",
    "            correct += 1\n",
    "        \n",
    "        count += 1\n",
    "\n",
    "acc = correct/count\n",
    "print(acc)"
   ]
  },
  {
   "cell_type": "code",
   "execution_count": 12,
   "metadata": {},
   "outputs": [
    {
     "data": {
      "text/plain": [
       "[<matplotlib.lines.Line2D at 0x1ca39575970>]"
      ]
     },
     "execution_count": 12,
     "metadata": {},
     "output_type": "execute_result"
    },
    {
     "data": {
      "image/png": "[encoded data removed]",
      "text/plain": [
       "<Figure size 432x288 with 1 Axes>"
      ]
     },
     "metadata": {
      "needs_background": "light"
     },
     "output_type": "display_data"
    }
   ],
   "source": [
    "plt.plot(running_loss)"
   ]
  }
 ],
 "metadata": {
  "kernelspec": {
   "display_name": "Python 3",
   "language": "python",
   "name": "python3"
  },
  "language_info": {
   "codemirror_mode": {
    "name": "ipython",
    "version": 3
   },
   "file_extension": ".py",
   "mimetype": "text/x-python",
   "name": "python",
   "nbconvert_exporter": "python",
   "pygments_lexer": "ipython3",
   "version": "3.8.5"
  }
 },
 "nbformat": 4,
 "nbformat_minor": 4
}
