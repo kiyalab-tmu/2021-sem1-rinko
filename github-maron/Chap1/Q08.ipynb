{
 "cells": [
  {
   "cell_type": "code",
   "execution_count": 7,
   "metadata": {},
   "outputs": [
    {
     "name": "stdout",
     "output_type": "stream",
     "text": [
      "A=\n",
      "[[4 3 6]\n",
      " [4 3 7]\n",
      " [8 3 8]\n",
      " [2 5 5]\n",
      " [8 9 8]]\n",
      "B=\n",
      "[[1 7]\n",
      " [3 8]\n",
      " [2 4]]\n",
      "A B=\n",
      "[[ 25  76]\n",
      " [ 27  80]\n",
      " [ 33 112]\n",
      " [ 27  74]\n",
      " [ 51 160]]\n"
     ]
    }
   ],
   "source": [
    "import numpy as np\n",
    "A = np.random.randint(1,10,(5, 3))\n",
    "B = np.random.randint(1, 10, (3, 2))\n",
    "print(\"A=\")\n",
    "print(A)\n",
    "print(\"B=\")\n",
    "print(B)\n",
    "print(\"AB=\")\n",
    "print(np.dot(A, B))"
   ]
  }
 ],
 "metadata": {
  "kernelspec": {
   "display_name": "Python 3",
   "language": "python",
   "name": "python3"
  },
  "language_info": {
   "codemirror_mode": {
    "name": "ipython",
    "version": 3
   },
   "file_extension": ".py",
   "mimetype": "text/x-python",
   "name": "python",
   "nbconvert_exporter": "python",
   "pygments_lexer": "ipython3",
   "version": "3.8.5"
  }
 },
 "nbformat": 4,
 "nbformat_minor": 4
}
