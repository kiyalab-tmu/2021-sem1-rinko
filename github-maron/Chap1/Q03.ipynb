{
 "cells": [
  {
   "cell_type": "code",
   "execution_count": 1,
   "metadata": {},
   "outputs": [],
   "source": [
    "def missing_element(a):\n",
    "    \n",
    "    A = a[0]\n",
    "    B = a[1]\n",
    "        \n",
    "    for i in A:\n",
    "        find = 0\n",
    "        for j in range(len(B)):\n",
    "            if B[j] == i:\n",
    "                find = 1\n",
    "                del B[j]\n",
    "                break\n",
    "                \n",
    "        if find == 0:\n",
    "            ans = i\n",
    "            break\n",
    "            \n",
    "    return ans\n"
   ]
  },
  {
   "cell_type": "code",
   "execution_count": 2,
   "metadata": {},
   "outputs": [
    {
     "data": {
      "text/plain": [
       "5"
      ]
     },
     "execution_count": 2,
     "metadata": {},
     "output_type": "execute_result"
    }
   ],
   "source": [
    "Input = [[2, 3, 4, 5, 6, 7, 5, 8], [6, 8, 7, 4, 5, 2, 3]]\n",
    "missing_element(Input)"
   ]
  }
 ],
 "metadata": {
  "kernelspec": {
   "display_name": "Python 3",
   "language": "python",
   "name": "python3"
  },
  "language_info": {
   "codemirror_mode": {
    "name": "ipython",
    "version": 3
   },
   "file_extension": ".py",
   "mimetype": "text/x-python",
   "name": "python",
   "nbconvert_exporter": "python",
   "pygments_lexer": "ipython3",
   "version": "3.8.5"
  }
 },
 "nbformat": 4,
 "nbformat_minor": 4
}
