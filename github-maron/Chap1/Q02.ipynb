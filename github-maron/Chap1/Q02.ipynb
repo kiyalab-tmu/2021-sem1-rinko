{
 "cells": [
  {
   "cell_type": "code",
   "execution_count": 1,
   "metadata": {},
   "outputs": [],
   "source": [
    "def quickSort(a):\n",
    "    if len(a)<= 1:\n",
    "        return a\n",
    "    \n",
    "    left = []\n",
    "    right = []\n",
    "    \n",
    "    r = a[0]\n",
    "    \n",
    "    for i in range(1, len(a)):\n",
    "        if a[i] <= r:\n",
    "            left.append(a[i])\n",
    "        else:\n",
    "            right.append(a[i])\n",
    "    \n",
    "    \n",
    "    left = quickSort(left)\n",
    "    \n",
    "    right = quickSort(right)\n",
    "    \n",
    "    return left + [r] + right\n"
   ]
  },
  {
   "cell_type": "code",
   "execution_count": 2,
   "metadata": {},
   "outputs": [
    {
     "name": "stdout",
     "output_type": "stream",
     "text": [
      "[1, 2, 3, 4, 5, 6, 7, 8, 9]\n"
     ]
    }
   ],
   "source": [
    "A = [9, 8, 7, 5, 6, 3, 1, 2, 4]\n",
    "print(quickSort(A))"
   ]
  }
 ],
 "metadata": {
  "kernelspec": {
   "display_name": "Python 3",
   "language": "python",
   "name": "python3"
  },
  "language_info": {
   "codemirror_mode": {
    "name": "ipython",
    "version": 3
   },
   "file_extension": ".py",
   "mimetype": "text/x-python",
   "name": "python",
   "nbconvert_exporter": "python",
   "pygments_lexer": "ipython3",
   "version": "3.8.5"
  }
 },
 "nbformat": 4,
 "nbformat_minor": 4
}
