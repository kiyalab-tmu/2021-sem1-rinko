{
 "cells": [
  {
   "cell_type": "code",
   "execution_count": 1,
   "metadata": {},
   "outputs": [],
   "source": [
    "import numpy as np\n",
    "\n",
    "def normalization(A):\n",
    "    mean = np.mean(A)\n",
    "    std = np.std(A)\n",
    "    ans = ( A - mean ) / std\n",
    "    \n",
    "    return ans"
   ]
  },
  {
   "cell_type": "code",
   "execution_count": 3,
   "metadata": {},
   "outputs": [
    {
     "name": "stdout",
     "output_type": "stream",
     "text": [
      "[[49 10 96 19 63]\n",
      " [89 44 26 48 72]\n",
      " [93 52 83 53 84]\n",
      " [50 98 34 86 19]\n",
      " [43 62 66 99 99]]\n",
      "[[-0.4606673  -1.9002526   1.27421756 -1.56804061  0.05610691]\n",
      " [ 1.01583045 -0.64522952 -1.3096535  -0.49757974  0.38831891]\n",
      " [ 1.16348023 -0.34992997  0.79435579 -0.31301752  0.83126823]\n",
      " [-0.42375485  1.34804245 -1.01435395  0.90509312 -1.56804061]\n",
      " [-0.68214196  0.01919447  0.16684425  1.38495489  1.38495489]]\n"
     ]
    }
   ],
   "source": [
    "rand = np.random.randint(1, 100, size = (5, 5))\n",
    "print(rand)\n",
    "print(normalization(rand))"
   ]
  }
 ],
 "metadata": {
  "kernelspec": {
   "display_name": "Python 3",
   "language": "python",
   "name": "python3"
  },
  "language_info": {
   "codemirror_mode": {
    "name": "ipython",
    "version": 3
   },
   "file_extension": ".py",
   "mimetype": "text/x-python",
   "name": "python",
   "nbconvert_exporter": "python",
   "pygments_lexer": "ipython3",
   "version": "3.8.5"
  }
 },
 "nbformat": 4,
 "nbformat_minor": 4
}
